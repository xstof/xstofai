{
 "cells": [
  {
   "cell_type": "markdown",
   "metadata": {},
   "source": [
    "# NanoGPT - Bigram Model\n",
    "\n",
    "To start with, we'll create a simple bigram model based on the tiny shakespeare dataset.\n",
    "This code is directly taken from / inspired by: \n",
    "\n",
    "- https://colab.research.google.com/drive/1JMLa53HDuA-i7ZBmqV7ZnA3c_fvtXnx-?usp=sharing#scrollTo=nql_1ER53oCf\n",
    "- [Let's build GPT: from scratch, in code, spelled out.](https://www.youtube.com/watch?v=kCc8FmEb1nY&t=1545s)"
   ]
  },
  {
   "cell_type": "markdown",
   "metadata": {},
   "source": [
    "## Preparing our data"
   ]
  },
  {
   "cell_type": "markdown",
   "metadata": {},
   "source": [
    "### Getting the data"
   ]
  },
  {
   "cell_type": "code",
   "execution_count": null,
   "metadata": {},
   "outputs": [],
   "source": [
    "# This Python 3 environment comes with many helpful analytics libraries installed\n",
    "# It is defined by the kaggle/python Docker image: https://github.com/kaggle/docker-python\n",
    "# For example, here's several helpful packages to load\n",
    "\n",
    "import numpy as np # linear algebra\n",
    "import pandas as pd # data processing, CSV file I/O (e.g. pd.read_csv)\n",
    "import matplotlib.pyplot as plt\n",
    "import torch\n",
    "import torch.nn as nn\n",
    "from torch.nn import functional as F\n",
    "\n",
    "torch.set_printoptions(precision=1, sci_mode=False, profile='short')\n",
    "generator = torch.manual_seed(42)\n",
    "\n",
    "# Input data files are available in the read-only \"../input/\" directory\n",
    "# For example, running this (by clicking run or pressing Shift+Enter) will list all files under the input directory\n",
    "\n",
    "import os\n",
    "for dirname, _, filenames in os.walk('/kaggle/input'):\n",
    "    for filename in filenames:\n",
    "        print(os.path.join(dirname, filename))\n",
    "\n",
    "# You can write up to 20GB to the current directory (/kaggle/working/) that gets preserved as output when you create a version using \"Save & Run All\" \n",
    "# You can also write temporary files to /kaggle/temp/, but they won't be saved outside of the current session"
   ]
  },
  {
   "cell_type": "code",
   "execution_count": null,
   "metadata": {},
   "outputs": [
    {
     "data": {
      "text/plain": [
       "'cuda'"
      ]
     },
     "execution_count": null,
     "metadata": {},
     "output_type": "execute_result"
    }
   ],
   "source": [
    "device = 'cuda' if torch.cuda.is_available() else 'cpu'\n",
    "device"
   ]
  },
  {
   "cell_type": "markdown",
   "metadata": {},
   "source": [
    "Read our input data:"
   ]
  },
  {
   "cell_type": "code",
   "execution_count": null,
   "metadata": {},
   "outputs": [
    {
     "name": "stdout",
     "output_type": "stream",
     "text": [
      "the length of the shakespeare text is: 1115394 characters\n",
      "the first 200 are: \n",
      "\n",
      "First Citizen:\n",
      "Before we proceed any further, hear me speak.\n",
      "\n",
      "All:\n",
      "Speak, speak.\n",
      "\n",
      "First Citizen:\n",
      "You are all resolved rather to die than to famish?\n",
      "\n",
      "All:\n",
      "Resolved. resolved.\n",
      "\n",
      "First Citizen:\n",
      "First, you\n"
     ]
    }
   ],
   "source": [
    "inputfile = './tiny_shakespeare.txt'\n",
    "with open(inputfile, 'r', encoding='utf-8') as f:\n",
    "    text = f.read()\n",
    "\n",
    "print(f'the length of the shakespeare text is: {len(text)} characters')\n",
    "print(f'the first 200 are: \\n')\n",
    "print(text[:200])"
   ]
  },
  {
   "cell_type": "code",
   "execution_count": null,
   "metadata": {},
   "outputs": [
    {
     "name": "stdout",
     "output_type": "stream",
     "text": [
      "the size of our vocabulary is: 65\n",
      "and looks like: \n",
      " !$&',-.3:;?ABCDEFGHIJKLMNOPQRSTUVWXYZabcdefghijklmnopqrstuvwxyz\n"
     ]
    }
   ],
   "source": [
    "chars = sorted(list(set(text)))\n",
    "vocab_size = len(chars)\n",
    "print(f'the size of our vocabulary is: {vocab_size}')\n",
    "print(f'and looks like: {\"\".join(chars)}')"
   ]
  },
  {
   "cell_type": "markdown",
   "metadata": {},
   "source": [
    "We now need to be able to move from characters to tokens and back: from tokens to characters.  In a real language model, a token is more than a single character.  Real tokenizers like tiktoken are used.  In our case, we'll just simple map from character to token index and back:"
   ]
  },
  {
   "cell_type": "code",
   "execution_count": null,
   "metadata": {},
   "outputs": [],
   "source": [
    "stoi = {ch:i for i, ch in enumerate(chars)}\n",
    "itos = {i:ch for i, ch in enumerate(chars)}\n",
    "encode = lambda str: [stoi[c] for c in str]\n",
    "decode = lambda idx_list: ''.join([itos[idx] for idx in idx_list])"
   ]
  },
  {
   "cell_type": "code",
   "execution_count": null,
   "metadata": {},
   "outputs": [
    {
     "name": "stdout",
     "output_type": "stream",
     "text": [
      "[46, 47, 47, 1, 58, 46, 43, 56, 43]\n",
      "hii there\n"
     ]
    }
   ],
   "source": [
    "# let's test this:\n",
    "print(encode(\"hii there\"))\n",
    "print(decode(encode(\"hii there\")))"
   ]
  },
  {
   "cell_type": "markdown",
   "metadata": {},
   "source": [
    "We will now encode the entire dataset:"
   ]
  },
  {
   "cell_type": "code",
   "execution_count": null,
   "metadata": {},
   "outputs": [
    {
     "name": "stdout",
     "output_type": "stream",
     "text": [
      "shape of data: torch.Size([1115394])\n",
      "a piece of this data: tensor([18, 47, 56, 57, 58,  1, 15, 47, 58, 47, 64, 43, 52, 10,  0, 14, 43, 44,\n",
      "        53, 56, 43,  1, 61, 43,  1, 54, 56, 53, 41, 43, 43, 42,  1, 39, 52, 63,\n",
      "         1, 44, 59, 56, 58, 46, 43, 56,  6,  1, 46, 43, 39, 56,  1, 51, 43,  1,\n",
      "        57, 54, 43, 39, 49,  8,  0,  0, 13, 50, 50, 10,  0, 31, 54, 43, 39, 49,\n",
      "         6,  1, 57, 54, 43, 39, 49,  8,  0,  0, 18, 47, 56, 57, 58,  1, 15, 47,\n",
      "        58, 47, 64, 43, 52, 10,  0, 37, 53, 59])\n"
     ]
    }
   ],
   "source": [
    "data = torch.tensor(encode(text), dtype=torch.long)\n",
    "print(f'shape of data: {data.shape}')\n",
    "print(f'a piece of this data: {data[:100]}')"
   ]
  },
  {
   "cell_type": "markdown",
   "metadata": {},
   "source": [
    "### Splitting our data in test and training sets"
   ]
  },
  {
   "cell_type": "code",
   "execution_count": null,
   "metadata": {},
   "outputs": [],
   "source": [
    "train_fraction = .9\n",
    "n = int(train_fraction*len(data))\n",
    "train_data = data[:n]\n",
    "val_data = data[n:]"
   ]
  },
  {
   "cell_type": "markdown",
   "metadata": {},
   "source": [
    "We will look at our data using a given 'context_size' (also called 'block_size').  This is how many tokens we'll have maximum as input.  It can be less, in which case we'll pad our input with preceding padding characters."
   ]
  },
  {
   "cell_type": "code",
   "execution_count": null,
   "metadata": {},
   "outputs": [],
   "source": [
    "block_size = 8"
   ]
  },
  {
   "cell_type": "markdown",
   "metadata": {},
   "source": [
    "We will look at each block of 8 characters (or less) and try to determine the next character.  This means that if we have 8 chars and we need to predict the nineth, we will need to shift the ground_truth vector by one:"
   ]
  },
  {
   "cell_type": "code",
   "execution_count": null,
   "metadata": {},
   "outputs": [
    {
     "data": {
      "text/plain": [
       "(tensor([18, 47, 56, 57, 58,  1, 15, 47]),\n",
       " tensor([47, 56, 57, 58,  1, 15, 47, 58]))"
      ]
     },
     "execution_count": null,
     "metadata": {},
     "output_type": "execute_result"
    }
   ],
   "source": [
    "x = train_data[:block_size]\n",
    "y = train_data[1:block_size+1]\n",
    "x,y"
   ]
  },
  {
   "cell_type": "markdown",
   "metadata": {},
   "source": [
    "Hidden in this series of 8 characters are 8 'exercises' as input when training our model:"
   ]
  },
  {
   "cell_type": "code",
   "execution_count": null,
   "metadata": {},
   "outputs": [
    {
     "name": "stdout",
     "output_type": "stream",
     "text": [
      "1 - when input is tensor tensor([18]) then output is: 47\n",
      "2 - when input is tensor tensor([18, 47]) then output is: 56\n",
      "3 - when input is tensor tensor([18, 47, 56]) then output is: 57\n",
      "4 - when input is tensor tensor([18, 47, 56, 57]) then output is: 58\n",
      "5 - when input is tensor tensor([18, 47, 56, 57, 58]) then output is: 1\n",
      "6 - when input is tensor tensor([18, 47, 56, 57, 58,  1]) then output is: 15\n",
      "7 - when input is tensor tensor([18, 47, 56, 57, 58,  1, 15]) then output is: 47\n",
      "8 - when input is tensor tensor([18, 47, 56, 57, 58,  1, 15, 47]) then output is: 58\n"
     ]
    }
   ],
   "source": [
    "for i in range(block_size):\n",
    "    print(f'{i+1} - when input is tensor {x[:i+1]} then output is: {y[i]}')"
   ]
  },
  {
   "cell_type": "markdown",
   "metadata": {},
   "source": [
    "### Building batches of input samples for training"
   ]
  },
  {
   "cell_type": "markdown",
   "metadata": {},
   "source": [
    "To train our model, we'll build batches of examples for the model to learn from.  We need to settle on a batch size for this:"
   ]
  },
  {
   "cell_type": "code",
   "execution_count": null,
   "metadata": {},
   "outputs": [],
   "source": [
    "block_size = 8\n",
    "batch_size = 4"
   ]
  },
  {
   "cell_type": "code",
   "execution_count": null,
   "metadata": {},
   "outputs": [],
   "source": [
    "def get_batch(split, batch_size=batch_size):\n",
    "    data = train_data if split == 'train' else val_data\n",
    "    ix = torch.randint(len(train_data) - block_size, (batch_size,)) # this gets us a tensor like [476250,  18899, 645194, 831150]\n",
    "    x = torch.stack([data[i:i+block_size] for i in ix])\n",
    "    y = torch.stack([data[i+1:i+block_size+1] for i in ix])\n",
    "    return x, y"
   ]
  },
  {
   "cell_type": "code",
   "execution_count": null,
   "metadata": {},
   "outputs": [
    {
     "data": {
      "text/plain": [
       "(tensor([[57,  1, 46, 47, 57,  1, 50, 53],\n",
       "         [ 1, 58, 46, 43, 56, 43,  1, 41],\n",
       "         [17, 26, 15, 17, 10,  0, 32, 53],\n",
       "         [57, 58,  6,  1, 61, 47, 58, 46]]),\n",
       " tensor([[ 1, 46, 47, 57,  1, 50, 53, 60],\n",
       "         [58, 46, 43, 56, 43,  1, 41, 39],\n",
       "         [26, 15, 17, 10,  0, 32, 53,  1],\n",
       "         [58,  6,  1, 61, 47, 58, 46,  0]]))"
      ]
     },
     "execution_count": null,
     "metadata": {},
     "output_type": "execute_result"
    }
   ],
   "source": [
    "xb, yb = get_batch('train')\n",
    "xb, yb"
   ]
  },
  {
   "cell_type": "code",
   "execution_count": null,
   "metadata": {},
   "outputs": [
    {
     "name": "stdout",
     "output_type": "stream",
     "text": [
      "when input is [57] the target: 1\n",
      "when input is [57, 1] the target: 46\n",
      "when input is [57, 1, 46] the target: 47\n",
      "when input is [57, 1, 46, 47] the target: 57\n",
      "when input is [57, 1, 46, 47, 57] the target: 1\n",
      "when input is [57, 1, 46, 47, 57, 1] the target: 50\n",
      "when input is [57, 1, 46, 47, 57, 1, 50] the target: 53\n",
      "when input is [57, 1, 46, 47, 57, 1, 50, 53] the target: 60\n",
      "when input is [1] the target: 58\n",
      "when input is [1, 58] the target: 46\n",
      "when input is [1, 58, 46] the target: 43\n",
      "when input is [1, 58, 46, 43] the target: 56\n",
      "when input is [1, 58, 46, 43, 56] the target: 43\n",
      "when input is [1, 58, 46, 43, 56, 43] the target: 1\n",
      "when input is [1, 58, 46, 43, 56, 43, 1] the target: 41\n",
      "when input is [1, 58, 46, 43, 56, 43, 1, 41] the target: 39\n",
      "when input is [17] the target: 26\n",
      "when input is [17, 26] the target: 15\n",
      "when input is [17, 26, 15] the target: 17\n",
      "when input is [17, 26, 15, 17] the target: 10\n",
      "when input is [17, 26, 15, 17, 10] the target: 0\n",
      "when input is [17, 26, 15, 17, 10, 0] the target: 32\n",
      "when input is [17, 26, 15, 17, 10, 0, 32] the target: 53\n",
      "when input is [17, 26, 15, 17, 10, 0, 32, 53] the target: 1\n",
      "when input is [57] the target: 58\n",
      "when input is [57, 58] the target: 6\n",
      "when input is [57, 58, 6] the target: 1\n",
      "when input is [57, 58, 6, 1] the target: 61\n",
      "when input is [57, 58, 6, 1, 61] the target: 47\n",
      "when input is [57, 58, 6, 1, 61, 47] the target: 58\n",
      "when input is [57, 58, 6, 1, 61, 47, 58] the target: 46\n",
      "when input is [57, 58, 6, 1, 61, 47, 58, 46] the target: 0\n"
     ]
    }
   ],
   "source": [
    "for b in range(batch_size): # batch dimension\n",
    "    for t in range(block_size): # time dimension\n",
    "        context = xb[b, :t+1]\n",
    "        target = yb[b,t]\n",
    "        print(f\"when input is {context.tolist()} the target: {target}\")"
   ]
  },
  {
   "cell_type": "markdown",
   "metadata": {},
   "source": [
    "`xb` is what will be our input into our transformer:\n",
    "\n",
    "- every row represents a set of training examples, each drawn from the same set of consecutive characters, up to the `context_length`\n",
    "- every column represents a token position and a sample, consisting of the token at the position in the row and all tokens that come before it"
   ]
  },
  {
   "cell_type": "code",
   "execution_count": null,
   "metadata": {},
   "outputs": [
    {
     "data": {
      "text/plain": [
       "tensor([[57,  1, 46, 47, 57,  1, 50, 53],\n",
       "        [ 1, 58, 46, 43, 56, 43,  1, 41],\n",
       "        [17, 26, 15, 17, 10,  0, 32, 53],\n",
       "        [57, 58,  6,  1, 61, 47, 58, 46]])"
      ]
     },
     "execution_count": null,
     "metadata": {},
     "output_type": "execute_result"
    }
   ],
   "source": [
    "xb"
   ]
  },
  {
   "cell_type": "markdown",
   "metadata": {},
   "source": [
    "## Creating a Bigram model"
   ]
  },
  {
   "cell_type": "markdown",
   "metadata": {},
   "source": [
    "### Create a Bigram module"
   ]
  },
  {
   "cell_type": "code",
   "execution_count": null,
   "metadata": {},
   "outputs": [],
   "source": [
    "class BigramLanguageModel(nn.Module):\n",
    "    def __init__(self, vocab_size):\n",
    "        super().__init__()\n",
    "        \n",
    "        # add an embedding layer for lookup of tokens (their index) and translating them in a vector:\n",
    "        # for now, as the number of embedding dimensions, use our vocab_size\n",
    "        # this then can be used to, given a char, lookup the probability of the next char\n",
    "        self.token_embedding_table = nn.Embedding(vocab_size, vocab_size)\n",
    "        \n",
    "    def forward(self, idx ,targets=None):\n",
    "        # idx here is our input indexes, like the vector xb we saw earlier\n",
    "        # we will get the logits from idx, using our embedding table\n",
    "        #                                        #    idx dimension: B x T\n",
    "        logits = self.token_embedding_table(idx) # result dimension: B x T x C\n",
    "        \n",
    "        if targets is None:\n",
    "            loss = None\n",
    "        else:\n",
    "            B,T,C = logits.shape\n",
    "            logits = logits.view(B*T, C)\n",
    "            targets = targets.view(B*T)\n",
    "            loss = F.cross_entropy(logits, targets)\n",
    "        \n",
    "        return logits, loss\n",
    "    \n",
    "    def generate(self, idx, max_new_tokens):\n",
    "        for _ in range(max_new_tokens):\n",
    "            logits, loss = self(idx)\n",
    "            logits = logits[:, -1, :]         # pluck out last time step: B x T x C becomes B x C\n",
    "            probs = F.softmax(logits, dim=-1) # B x C\n",
    "            idx_next = torch.multinomial(probs, num_samples=1)  # B x 1\n",
    "            idx = torch.cat((idx, idx_next), dim=1) # B x T+1\n",
    "        return idx\n",
    "            "
   ]
  },
  {
   "cell_type": "code",
   "execution_count": null,
   "metadata": {},
   "outputs": [
    {
     "name": "stdout",
     "output_type": "stream",
     "text": [
      "torch.Size([32, 65])\n",
      "tensor(4.7, grad_fn=<NllLossBackward0>)\n",
      "\n",
      "F$z\n",
      "E?kFwu\n",
      "'buM-,Y3fYNsA3xp.mpsAqaZ-RUldc;F\n",
      "M$GfYCUCkFO-bJbz-R;O!slp.FNsJDV'jRzIMQ'EdRbqAoWTjrniaIIa\n"
     ]
    }
   ],
   "source": [
    "m = BigramLanguageModel(vocab_size)\n",
    "logits, loss = m(xb, yb)\n",
    "print(logits.shape)\n",
    "print(loss)\n",
    "\n",
    "def generate_some_text(model=m, max_new_tokens=100):\n",
    "    generated_tokens = model.generate(idx = torch.zeros((1, 1), dtype=torch.long), max_new_tokens=max_new_tokens)[0].tolist()\n",
    "    print(decode(generated_tokens))\n",
    "    \n",
    "generate_some_text()"
   ]
  },
  {
   "cell_type": "markdown",
   "metadata": {},
   "source": [
    "### Train the Bigram module"
   ]
  },
  {
   "cell_type": "markdown",
   "metadata": {},
   "source": [
    "To train our model parameters, we'll fetch an optimizer: Adam in this case."
   ]
  },
  {
   "cell_type": "code",
   "execution_count": null,
   "metadata": {},
   "outputs": [],
   "source": [
    "optimizer = torch.optim.Adam(m.parameters(), lr=1e-3)"
   ]
  },
  {
   "cell_type": "code",
   "execution_count": null,
   "metadata": {},
   "outputs": [
    {
     "data": {
      "text/plain": [
       "Text(0.5, 1.0, 'loss over time')"
      ]
     },
     "execution_count": null,
     "metadata": {},
     "output_type": "execute_result"
    },
    {
     "data": {
      "image/png": "[encoded data removed]",
      "text/plain": [
       "<Figure size 640x480 with 1 Axes>"
      ]
     },
     "metadata": {},
     "output_type": "display_data"
    }
   ],
   "source": [
    "batch_size = 32\n",
    "steps=[]\n",
    "losses=[]\n",
    "\n",
    "for step in range(10000):\n",
    "    # get a batch\n",
    "    xb, yb = get_batch('train')\n",
    "    \n",
    "    # calculate the loss\n",
    "    logits,loss = m(xb,yb)\n",
    "    optimizer.zero_grad(set_to_none=True)\n",
    "    loss.backward()\n",
    "    optimizer.step()\n",
    "    \n",
    "    if step%100 == 0 :\n",
    "        steps.append(step)\n",
    "        losses.append(loss.item())\n",
    "        # print(f'loss for iteration {step} is: {loss}')\n",
    "\n",
    "plt.plot(steps, losses)\n",
    "plt.xlabel('iteration')\n",
    "plt.ylabel('loss')\n",
    "plt.title('loss over time')"
   ]
  },
  {
   "cell_type": "code",
   "execution_count": null,
   "metadata": {},
   "outputs": [
    {
     "name": "stdout",
     "output_type": "stream",
     "text": [
      "\n",
      "Sx\n",
      "AYO:\n",
      "Tutthanot ucll tathoman?\n",
      "SABs.O:\n",
      "CEETunodwowfo t g tathfovy!\n",
      "A'seathovizARU'st ine feirrdWca\n"
     ]
    }
   ],
   "source": [
    "generate_some_text()"
   ]
  },
  {
   "cell_type": "markdown",
   "metadata": {},
   "source": [
    "See how this looks still like garbage, but already way better than it used to be!  Let's do this once more but up our batch size to see the impact on our loss curve."
   ]
  },
  {
   "cell_type": "code",
   "execution_count": null,
   "metadata": {},
   "outputs": [
    {
     "data": {
      "image/png": "[encoded data removed]",
      "text/plain": [
       "<Figure size 640x480 with 1 Axes>"
      ]
     },
     "metadata": {},
     "output_type": "display_data"
    }
   ],
   "source": [
    "m2 = BigramLanguageModel(vocab_size)\n",
    "optimizer2 = torch.optim.Adam(m2.parameters(), lr=1e-3)\n",
    "steps=[]\n",
    "losses=[]\n",
    "\n",
    "for step in range(10000):\n",
    "    # get a batch\n",
    "    xb, yb = get_batch('train', batch_size=64)\n",
    "    \n",
    "    # calculate the loss\n",
    "    logits,loss = m2(xb,yb)\n",
    "    optimizer2.zero_grad(set_to_none=True)\n",
    "    loss.backward()\n",
    "    optimizer2.step()\n",
    "    \n",
    "    if step%100 == 0 :\n",
    "        steps.append(step)\n",
    "        losses.append(loss.item())\n",
    "        # print(f'loss for iteration {step} is: {loss}')\n",
    "\n",
    "plt.plot(steps, losses)\n",
    "plt.xlabel('iteration')\n",
    "plt.ylabel('loss')\n",
    "plt.ylim(2,5)\n",
    "plt.title('loss over time')\n",
    "plt.show()"
   ]
  },
  {
   "cell_type": "markdown",
   "metadata": {},
   "source": [
    "We can say that increasing the `batch_size` smooths out our loss curve."
   ]
  },
  {
   "cell_type": "markdown",
   "metadata": {},
   "source": [
    "## Code Cleanup\n",
    "\n",
    "See the [Let's build GPT: from scratch, in code, spelled out.](https://youtu.be/kCc8FmEb1nY?t=3509) for the section where some code is cleaned up first before moving on."
   ]
  },
  {
   "cell_type": "code",
   "execution_count": null,
   "metadata": {},
   "outputs": [],
   "source": [
    "# hyper parameters:\n",
    "batch_size = 64\n",
    "block_size = 8\n",
    "max_iters = 10000\n",
    "eval_interval = 100\n",
    "learning_rate = 1e-3\n",
    "device = 'cuda' if torch.cuda.is_available() else 'cpu'\n",
    "eval_iters = 200\n",
    "n_embd = 32             # number of embedding dimensions\n",
    "\n",
    "class BigramLanguageModel2(nn.Module):\n",
    "    def __init__(self):\n",
    "        super().__init__()\n",
    "        \n",
    "        # add an embedding layer for lookup of tokens (their index) and translating them in a vector:\n",
    "        # for now, as the number of embedding dimensions, use our vocab_size\n",
    "        # this then can be used to, given a char, lookup the probability of the next char\n",
    "        self.token_embedding_table = nn.Embedding(vocab_size, n_embd)\n",
    "        \n",
    "        # add a language modeling head that will translate from token embeddings to logits:\n",
    "        self.lm_head = nn.Linear(n_embd, vocab_size)\n",
    "        \n",
    "    def forward(self, idx ,targets=None):\n",
    "        # idx here is our input indexes, like the vector xb we saw earlier\n",
    "        # we will get the token embeddings from idx, using our embedding table\n",
    "        #                                        #    idx dimension: B x T\n",
    "        tok_embd = self.token_embedding_table(idx) # token embeddings with result dimension: B x T x C\n",
    "        logits = self.lm_head(tok_embd)            # (B x T x C) @ (C, vocab_size) = (B x T x vocab_size)\n",
    "        \n",
    "        if targets is None:\n",
    "            loss = None\n",
    "        else:\n",
    "            B,T,C = logits.shape\n",
    "            logits = logits.view(B*T, C)\n",
    "            targets = targets.view(B*T)\n",
    "            loss = F.cross_entropy(logits, targets)\n",
    "        \n",
    "        return logits, loss\n",
    "    \n",
    "    def generate(self, idx, max_new_tokens):\n",
    "        for _ in range(max_new_tokens):\n",
    "            logits, loss = self(idx)\n",
    "            logits = logits[:, -1, :]         # pluck out last time step: B x T x C becomes B x C\n",
    "            probs = F.softmax(logits, dim=-1) # B x C\n",
    "            idx_next = torch.multinomial(probs, num_samples=1)  # B x 1\n",
    "            idx = torch.cat((idx, idx_next), dim=1) # B x T+1\n",
    "        return idx\n",
    "            "
   ]
  },
  {
   "cell_type": "code",
   "execution_count": null,
   "metadata": {},
   "outputs": [
    {
     "data": {
      "image/png": "[encoded data removed]",
      "text/plain": [
       "<Figure size 640x480 with 1 Axes>"
      ]
     },
     "metadata": {},
     "output_type": "display_data"
    }
   ],
   "source": [
    "model = BigramLanguageModel2()\n",
    "optim = torch.optim.Adam(model.parameters(), lr=learning_rate)\n",
    "\n",
    "steps=[]\n",
    "losses=[]\n",
    "\n",
    "for step in range(max_iters):\n",
    "    # get a batch\n",
    "    xb, yb = get_batch('train', batch_size=batch_size)\n",
    "    \n",
    "    # calculate the loss\n",
    "    logits,loss = model(xb,yb)\n",
    "    optim.zero_grad(set_to_none=True)\n",
    "    loss.backward()\n",
    "    optim.step()\n",
    "    \n",
    "    if step%eval_interval == 0 :\n",
    "        steps.append(step)\n",
    "        losses.append(loss.item())\n",
    "        # print(f'loss for iteration {step} is: {loss}')\n",
    "\n",
    "plt.plot(steps, losses)\n",
    "plt.xlabel('iteration')\n",
    "plt.ylabel('loss')\n",
    "plt.ylim(2,5)\n",
    "plt.title('loss over time')\n",
    "plt.show()"
   ]
  },
  {
   "cell_type": "code",
   "execution_count": null,
   "metadata": {},
   "outputs": [
    {
     "name": "stdout",
     "output_type": "stream",
     "text": [
      "last recorded loss was 2.5102274417877197\n"
     ]
    }
   ],
   "source": [
    "print(f'last recorded loss was {losses[len(losses)-1]}')"
   ]
  },
  {
   "cell_type": "markdown",
   "metadata": {},
   "source": [
    "Before we move on: it would also be useful for the network, not just to know the tokens itself but also their positions in the sequence.  For this we create a position embedding table:"
   ]
  },
  {
   "cell_type": "code",
   "execution_count": null,
   "metadata": {},
   "outputs": [],
   "source": [
    "# hyper parameters:\n",
    "batch_size = 64\n",
    "block_size = 8\n",
    "max_iters = 10000\n",
    "eval_interval = 100\n",
    "learning_rate = 1e-3\n",
    "device = 'cuda' if torch.cuda.is_available() else 'cpu'\n",
    "eval_iters = 200\n",
    "n_embd = 32             # number of embedding dimensions\n",
    "\n",
    "class BigramLanguageModel3(nn.Module):\n",
    "    def __init__(self):\n",
    "        super().__init__()\n",
    "        \n",
    "        # add an embedding layer for lookup of tokens (their index) and translating them in a vector:\n",
    "        # for now, as the number of embedding dimensions, use our vocab_size\n",
    "        # this then can be used to, given a char, lookup the probability of the next char\n",
    "        self.token_embedding_table = nn.Embedding(vocab_size, n_embd)     # give it index in vocab and it looks up the embedding vector in n_embd dims\n",
    "        self.position_embedding_table = nn.Embedding(block_size, n_embd)  # each position will also get its own embedding vector\n",
    "        \n",
    "        # add a language modeling head that will translate from token embeddings to logits:\n",
    "        self.lm_head = nn.Linear(n_embd, vocab_size)\n",
    "        \n",
    "    def forward(self, idx ,targets=None):\n",
    "        B,T = idx.shape()\n",
    "        \n",
    "        # idx here is our input indexes, like the vector xb we saw earlier\n",
    "        # we will get the token embeddings from idx, using our embedding table\n",
    "        #                                                    #                             idx dimension: B x T\n",
    "        tok_embd = self.token_embedding_table(idx)           # token embeddings with result dimension:    B x T x C\n",
    "        pos_embd = self.pos(torch.arange(T, device=device))  # position embeddings with result dimension:     T x C\n",
    "        x = tok_embd + pos_embd # B x T x C\n",
    "        logits = self.lm_head(x)            # (B x T x C) @ (C, vocab_size) = (B x T x vocab_size)\n",
    "        \n",
    "        if targets is None:\n",
    "            loss = None\n",
    "        else:\n",
    "            B,T,C = logits.shape\n",
    "            logits = logits.view(B*T, C)\n",
    "            targets = targets.view(B*T)\n",
    "            loss = F.cross_entropy(logits, targets)\n",
    "        \n",
    "        return logits, loss\n",
    "    \n",
    "    def generate(self, idx, max_new_tokens):\n",
    "        for _ in range(max_new_tokens):\n",
    "            logits, loss = self(idx)\n",
    "            logits = logits[:, -1, :]         # pluck out last time step: B x T x C becomes B x C\n",
    "            probs = F.softmax(logits, dim=-1) # B x C\n",
    "            idx_next = torch.multinomial(probs, num_samples=1)  # B x 1\n",
    "            idx = torch.cat((idx, idx_next), dim=1) # B x T+1\n",
    "        return idx"
   ]
  },
  {
   "cell_type": "markdown",
   "metadata": {},
   "source": [
    "By means of a small sample with random numbers, let's have a look to how the token embeddings are added to the positional embeddings.  For every item in the batch, for each of the 4 tokens, we add the embedding for the position of the token to the token embedding for for the token: "
   ]
  },
  {
   "cell_type": "code",
   "execution_count": null,
   "metadata": {},
   "outputs": [
    {
     "data": {
      "text/plain": [
       "(tensor([[[-0.4,  0.8,  0.3,  0.4,  0.3, -0.4],\n",
       "          [-0.2,  2.3, -0.3,  0.9,  0.7, -0.4],\n",
       "          [-0.1, -0.5,  1.3, -0.2, -0.3,  1.0],\n",
       "          [-1.3,  0.5, -0.5,  0.9,  1.3,  0.3]],\n",
       " \n",
       "         [[ 0.1,  0.1, -0.2, -0.0, -0.7, -0.9],\n",
       "          [-1.6,  0.3, -0.7, -1.6,  1.4,  1.0],\n",
       "          [ 0.2,  0.1, -0.8, -0.9, -0.7, -2.6],\n",
       "          [ 1.0, -0.6, -0.3, -0.7, -0.4, -0.1]]]),\n",
       " tensor([[    -0.1,      0.3,      0.2,     -0.4,      0.4,     -0.4],\n",
       "         [     0.0,     -0.5,     -0.4,      1.3,      0.9,     -0.8],\n",
       "         [     1.3,     -0.3,      1.1,     -0.1,     -1.2,     -0.2],\n",
       "         [    -0.8,     -0.3,      0.3,      0.0,     -1.3,      1.1]]),\n",
       " tensor([[[-0.4,  1.2,  0.5,  0.0,  0.7, -0.8],\n",
       "          [-0.2,  1.7, -0.7,  2.2,  1.6, -1.2],\n",
       "          [ 1.2, -0.8,  2.4, -0.3, -1.5,  0.8],\n",
       "          [-2.1,  0.2, -0.1,  0.9, -0.0,  1.4]],\n",
       " \n",
       "         [[ 0.0,  0.5, -0.0, -0.4, -0.3, -1.3],\n",
       "          [-1.6, -0.2, -1.2, -0.3,  2.3,  0.2],\n",
       "          [ 1.5, -0.3,  0.3, -1.0, -1.8, -2.8],\n",
       "          [ 0.1, -0.9,  0.0, -0.7, -1.7,  1.0]]]))"
      ]
     },
     "execution_count": null,
     "metadata": {},
     "output_type": "execute_result"
    }
   ],
   "source": [
    "# code example: concatenating the token embedding with the positional embedding:\n",
    "b2,t2,c2 = (2,4,6)  # batch of 2 sample, each having 4 tokens, which each is represented by n_embd of 6 dimensions\n",
    "\n",
    "token_embedding = torch.randn((b2,t2,c2))\n",
    "pos_embedding = torch.randn((t2,c2))\n",
    "sum_embeddings = token_embedding + pos_embedding\n",
    "token_embedding, pos_embedding, sum_embeddings"
   ]
  },
  {
   "cell_type": "markdown",
   "metadata": {},
   "source": [
    "## Self Attention\n",
    "\n",
    "Let's now see how self-attention works.  (See the video [Let's build GPT: from scratch, in code, spelled out.](https://youtu.be/kCc8FmEb1nY?t=3730) for more detail."
   ]
  },
  {
   "cell_type": "code",
   "execution_count": null,
   "metadata": {},
   "outputs": [
    {
     "name": "stdout",
     "output_type": "stream",
     "text": [
      "x: \n",
      "tensor([[[    -1.3,      0.4,      0.0,     -1.7,     -0.7,      0.5],\n",
      "         [     0.3,      0.4,      0.5,     -2.4,     -2.2,      0.4],\n",
      "         [    -0.4,      0.9,     -0.1,      0.3,      1.1,      1.3],\n",
      "         [    -0.5,      0.6,      0.1,     -0.6,      0.2,      1.8]],\n",
      "\n",
      "        [[    -1.6,      0.9,      0.4,     -0.7,     -0.1,     -1.6],\n",
      "         [    -1.2,     -0.5,     -0.4,     -0.9,     -1.0,      0.5],\n",
      "         [    -0.6,      0.0,     -0.5,     -0.3,      0.5,     -0.1],\n",
      "         [    -0.2,     -0.9,     -0.6,     -0.1,     -0.4,      0.6]]])\n",
      "------\n",
      "tril: \n",
      "tensor([[1., 0., 0., 0.],\n",
      "        [1., 1., 0., 0.],\n",
      "        [1., 1., 1., 0.],\n",
      "        [1., 1., 1., 1.]])\n",
      "------\n",
      "weights: \n",
      "tensor([[1.0, 0.0, 0.0, 0.0],\n",
      "        [0.5, 0.5, 0.0, 0.0],\n",
      "        [0.3, 0.3, 0.3, 0.0],\n",
      "        [0.2, 0.2, 0.2, 0.2]])\n",
      "------\n",
      "out: \n",
      "tensor([[[-1.3,  0.4,  0.0, -1.7, -0.7,  0.5],\n",
      "         [-0.5,  0.4,  0.3, -2.1, -1.5,  0.4],\n",
      "         [-0.5,  0.6,  0.2, -1.3, -0.6,  0.7],\n",
      "         [-0.5,  0.6,  0.1, -1.1, -0.4,  1.0]],\n",
      "\n",
      "        [[-1.6,  0.9,  0.4, -0.7, -0.1, -1.6],\n",
      "         [-1.4,  0.2, -0.0, -0.8, -0.5, -0.5],\n",
      "         [-1.1,  0.1, -0.2, -0.6, -0.2, -0.4],\n",
      "         [-0.9, -0.1, -0.3, -0.5, -0.2, -0.1]]])\n"
     ]
    }
   ],
   "source": [
    "b2,t2,c2 = (2,4,6) \n",
    "x = torch.randn(b2,t2,c2)\n",
    "tril = torch.tril(torch.ones(t2,t2))\n",
    "weights = torch.zeros((t2,t2))  # this line makes it so that currently there's an average being made of token and prev tokens, all with same weight\n",
    "weights = weights.masked_fill(tril == 0, float('-inf'))\n",
    "weights = F.softmax(weights, dim=1)\n",
    "out = weights @ x \n",
    "print(f'x: \\n{x}')\n",
    "print(f'------')\n",
    "print(f'tril: \\n{tril}')\n",
    "print(f'------')\n",
    "print(f'weights: \\n{weights}')\n",
    "print(f'------')\n",
    "print(f'out: \\n{out}')"
   ]
  },
  {
   "cell_type": "markdown",
   "metadata": {},
   "source": [
    "Let's change this:\n",
    "\n",
    "- every token, at every position, will emit two vectors:\n",
    "  - query: \"what am I looking for?\"\n",
    "  - key:   \"what do I contain?\"\n",
    "- we then do a dot product between the keys and the queries to get this \"affinity\"\n",
    "\n",
    "For a given token, its query will do a dot product with the keys of all the previous tokens.  That dot product will become our weights.  Weights was a matrix of dimensions `T x T` and multiplying `x` by those weights gave us the same dimensions as x itself: `B x T x C`.  \n",
    "\n",
    "We calculate the:\n",
    "\n",
    "- keys separately by multiplying a key-matrix by the input tensor; giving us a `B x T x head_size` (a vector of length head_size for every position)\n",
    "- queries separately by multiplying a query-matrix by the input tensor; giving us a `B x T x head_size` (a vector of length head_size for every position)\n",
    "\n",
    "Then we calculate the affinities between the queries and the keys, by doing a dot product, which can be done in batch using a multrix multiplication: <br/>\n",
    "`weights = q @ k.T(-2,-1)` (taking into account dimensions; we do not want to touch the batch dimension and just switch the last two dimensions).  This gives us a result of shape `B x T x T`.  This means: a different `TxT` matrix for every item in our batch.  Note that the key and query matrix is the same for all of our items in our batch. "
   ]
  },
  {
   "cell_type": "code",
   "execution_count": null,
   "metadata": {},
   "outputs": [
    {
     "name": "stdout",
     "output_type": "stream",
     "text": [
      "x: \n",
      "tensor([[[ 2.4,  0.6,  1.4, -0.7,  0.9,  0.6],\n",
      "         [-0.5,  0.5, -1.0, -1.0,  0.1, -2.0],\n",
      "         [ 0.1,  1.3,  0.2,  0.1,  0.6, -0.2],\n",
      "         [-0.0, -0.7, -2.2, -0.3,  2.4,  1.3]],\n",
      "\n",
      "        [[-0.2,  0.0,  1.2, -0.8,  0.3, -0.7],\n",
      "         [ 1.8,  0.8,  0.2,  1.0, -0.2,  1.4],\n",
      "         [ 0.1,  2.0, -1.0, -0.4,  0.1,  1.1],\n",
      "         [ 0.2, -0.9,  0.3,  0.2,  2.2, -0.4]]])\n",
      "------\n",
      "tril: \n",
      "tensor([[1., 0., 0., 0.],\n",
      "        [1., 1., 0., 0.],\n",
      "        [1., 1., 1., 0.],\n",
      "        [1., 1., 1., 1.]])\n",
      "------\n",
      "weights: \n",
      "tensor([[[0.7, 0.0, 0.0, 0.0],\n",
      "         [0.0, 0.5, 0.0, 0.0],\n",
      "         [0.1, 0.3, 0.5, 0.0],\n",
      "         [0.2, 0.3, 0.5, 1.0]],\n",
      "\n",
      "        [[0.3, 0.0, 0.0, 0.0],\n",
      "         [0.2, 0.3, 0.0, 0.0],\n",
      "         [0.1, 0.5, 0.5, 0.0],\n",
      "         [0.4, 0.3, 0.5, 1.0]]], grad_fn=<SoftmaxBackward0>)\n",
      "------\n",
      "out: \n",
      "tensor([[[ 1.6,  0.4,  0.9, -0.4,  0.6,  0.4],\n",
      "         [-0.2,  0.2, -0.4, -0.5,  0.1, -0.9],\n",
      "         [ 0.1,  0.8, -0.0, -0.3,  0.4, -0.5],\n",
      "         [ 0.4,  0.3, -2.1, -0.7,  2.9,  0.8]],\n",
      "\n",
      "        [[-0.0,  0.0,  0.4, -0.2,  0.1, -0.2],\n",
      "         [ 0.4,  0.2,  0.3,  0.1,  0.0,  0.2],\n",
      "         [ 0.9,  1.3, -0.3,  0.2, -0.0,  1.1],\n",
      "         [ 0.8,  0.4,  0.3, -0.0,  2.3,  0.4]]], grad_fn=<UnsafeViewBackward0>)\n"
     ]
    }
   ],
   "source": [
    "b2,t2,c2 = (2,4,6) \n",
    "x = torch.randn(b2,t2,c2)\n",
    "\n",
    "# a single head of self-attention:\n",
    "head_size = 8\n",
    "\n",
    "key = nn.Linear(c2, head_size, bias=False)   # this will do matrix multiply with fixed weights\n",
    "query = nn.Linear(c2, head_size, bias=False) # this will do matrix multiply with fixed weights\n",
    "\n",
    "# by multiplying x by the linear layers for key and query, all of the samples, all of the tokens will, in parallel, calculate their key and query independently\n",
    "# at this point in time, there has been no communication between tokens yet\n",
    "k = key(x)   # (B x T x C) @ (C, head_size) => (B x T x head_size)\n",
    "q = query(x)\n",
    "\n",
    "# now all the queries will need to dot-product with all the keys:\n",
    "weights = q @ k.transpose(-2,-1)  # (B x T x head_size) @ (B x head_size x T) => B x T x T\n",
    "\n",
    "# this means that for every row in our batch B, we will have a weight matrix T x T now with the affinities\n",
    "# we will use this instead of the weights matrix that we filled with zeroes before.  \n",
    "# what we did before was:\n",
    "#   weights = torch.zeros((t2,t2))  # this line makes it so that currently there's an average being made of token and prev tokens, all with same weight\n",
    "\n",
    "tril = torch.tril(torch.ones(t2,t2))\n",
    "weights = weights.masked_fill(tril == 0, float('-inf'))\n",
    "weights = F.softmax(weights, dim=1)\n",
    "out = weights @ x \n",
    "print(f'x: \\n{x}')\n",
    "print(f'------')\n",
    "print(f'tril: \\n{tril}')\n",
    "print(f'------')\n",
    "print(f'weights: \\n{weights}')\n",
    "print(f'------')\n",
    "print(f'out: \\n{out}')"
   ]
  },
  {
   "cell_type": "markdown",
   "metadata": {},
   "source": [
    "See how `weights`:\n",
    "\n",
    "- has a different weights matrix for every batch element\n",
    "- (after all: every batch element has different tokens on different positions)\n",
    "- is no longer evenly distributed but some element positions have more weight than others\n",
    "\n",
    "To get to the final stage of self-attention, we don't multiply our input vector `x` directly with our weights, instead we compute a `value` by:\n",
    "\n",
    "- creating a value matrix\n",
    "- calculating the value by doing a matrix multiply of our input with the value matrix\n",
    "- use as our output, not just the `weights @ x` but instead now do `weights @ v`\n",
    "\n",
    "So instead of the token embeddings directly, for the purposes of this attention head, it is actually `v`, the value tensor, that gets aggregated for every token and its past tokens."
   ]
  },
  {
   "cell_type": "code",
   "execution_count": null,
   "metadata": {},
   "outputs": [
    {
     "name": "stdout",
     "output_type": "stream",
     "text": [
      "x: \n",
      "tensor([[[-0.1, -1.4,  1.6, -2.1,  0.2,  0.0],\n",
      "         [ 0.0,  1.2,  0.3,  0.2,  1.4, -0.4],\n",
      "         [-0.1,  1.1, -0.1,  0.7, -1.2,  1.2],\n",
      "         [ 0.6,  1.3,  1.7, -0.5, -1.2, -2.1]],\n",
      "\n",
      "        [[-0.2, -0.5,  0.2,  0.6,  0.4, -0.6],\n",
      "         [ 0.4, -0.7,  0.7, -0.6, -0.2,  0.9],\n",
      "         [ 0.4,  0.9, -1.0, -0.3,  2.0,  1.1],\n",
      "         [-0.3, -1.7, -0.2,  1.7, -0.6,  1.0]]])\n",
      "------\n",
      "tril: \n",
      "tensor([[1., 0., 0., 0.],\n",
      "        [1., 1., 0., 0.],\n",
      "        [1., 1., 1., 0.],\n",
      "        [1., 1., 1., 1.]])\n",
      "------\n",
      "weights: \n",
      "tensor([[[0.2, 0.0, 0.0, 0.0],\n",
      "         [0.4, 0.4, 0.0, 0.0],\n",
      "         [0.2, 0.3, 0.4, 0.0],\n",
      "         [0.2, 0.3, 0.6, 1.0]],\n",
      "\n",
      "        [[0.2, 0.0, 0.0, 0.0],\n",
      "         [0.2, 0.3, 0.0, 0.0],\n",
      "         [0.2, 0.5, 0.6, 0.0],\n",
      "         [0.3, 0.3, 0.4, 1.0]]], grad_fn=<SoftmaxBackward0>)\n",
      "------\n",
      "v: \n",
      "tensor([[[ 0.6,  0.3, -0.1,  1.2, -0.2, -0.5,  0.1,  0.3],\n",
      "         [ 0.5,  0.4, -0.4, -0.2, -0.3, -0.0,  0.4,  0.6],\n",
      "         [-0.3, -0.5,  0.6, -0.9,  0.3,  0.4, -0.2, -0.7],\n",
      "         [ 1.7,  0.7,  0.2, -0.1,  1.5,  0.6, -0.1,  0.5]],\n",
      "\n",
      "        [[-0.0,  0.0, -0.6,  0.1,  0.3, -0.3, -0.0,  0.5],\n",
      "         [ 0.1, -0.1, -0.0,  0.3, -0.2, -0.3,  0.1, -0.0],\n",
      "         [-0.1,  0.2, -0.0, -0.1, -1.7, -0.0,  0.7, -0.0],\n",
      "         [-1.2, -0.8, -0.6, -0.2,  0.3, -0.7, -0.4, -0.0]]],\n",
      "       grad_fn=<UnsafeViewBackward0>)\n",
      "------\n",
      "out: \n",
      "tensor([[[     0.1,      0.1,     -0.0,      0.3,     -0.0,     -0.1,      0.0,\n",
      "               0.1],\n",
      "         [     0.4,      0.2,     -0.2,      0.3,     -0.2,     -0.2,      0.2,\n",
      "               0.4],\n",
      "         [     0.2,     -0.0,      0.1,     -0.1,     -0.0,     -0.0,      0.1,\n",
      "               0.0],\n",
      "         [     1.7,      0.6,      0.5,     -0.5,      1.6,      0.7,     -0.1,\n",
      "               0.4]],\n",
      "\n",
      "        [[    -0.0,      0.0,     -0.1,      0.0,      0.1,     -0.1,     -0.0,\n",
      "               0.1],\n",
      "         [     0.0,     -0.0,     -0.1,      0.1,     -0.0,     -0.2,      0.0,\n",
      "               0.1],\n",
      "         [    -0.0,      0.1,     -0.2,      0.1,     -1.0,     -0.2,      0.5,\n",
      "               0.1],\n",
      "         [    -1.2,     -0.7,     -0.8,     -0.1,     -0.4,     -0.9,     -0.1,\n",
      "               0.1]]], grad_fn=<UnsafeViewBackward0>)\n"
     ]
    }
   ],
   "source": [
    "b2,t2,c2 = (2,4,6) \n",
    "x = torch.randn(b2,t2,c2)\n",
    "\n",
    "# a single head of self-attention:\n",
    "head_size = 8\n",
    "\n",
    "key = nn.Linear(c2, head_size, bias=False)   # this will do matrix multiply with fixed weights\n",
    "query = nn.Linear(c2, head_size, bias=False) # this will do matrix multiply with fixed weights\n",
    "value = nn.Linear(c2, head_size, bias=False) # this will do matrix multiply with fixed weights\n",
    "\n",
    "k = key(x)   # (B x T x C) @ (C, head_size) => (B x T x head_size)\n",
    "q = query(x)\n",
    "\n",
    "weights = q @ k.transpose(-2,-1) * (head_size**-0.5)  # (B x T x head_size) @ (B x head_size x T) => B x T x T\n",
    "# multiplication by square root of head_size is needed to keep distribution equal\n",
    "\n",
    "tril = torch.tril(torch.ones(t2,t2))\n",
    "weights = weights.masked_fill(tril == 0, float('-inf'))  # this is what makes this an decoder block instead of an encoder block (where this is left off)\n",
    "weights = F.softmax(weights, dim=1)\n",
    "\n",
    "v = value(x) # (B x T x C) @ (C, head_size) => (B x T x head_size)\n",
    "\n",
    "out = weights @ v # (B x T x T) @ (B x T x head_size) => (B x T x head_size), here: 2 x 4 x 8\n",
    "\n",
    "print(f'x: \\n{x}')\n",
    "print(f'------')\n",
    "print(f'tril: \\n{tril}')\n",
    "print(f'------')\n",
    "print(f'weights: \\n{weights}')\n",
    "print(f'------')\n",
    "print(f'v: \\n{v}')\n",
    "print(f'------')\n",
    "print(f'out: \\n{out}')"
   ]
  },
  {
   "cell_type": "markdown",
   "metadata": {},
   "source": [
    "Keys, queries and values in our case come from the same `x` vector; which is why we call this _self-attention_ .  This does not _have_ to be the case always; there's something called cross-attention as well."
   ]
  },
  {
   "cell_type": "markdown",
   "metadata": {},
   "source": [
    "## Scaled Dot Product Attention Module\n",
    "\n",
    "We will not create a self-attention module as described in [Let's build GPT: from scratch, in code, spelled out.](https://youtu.be/kCc8FmEb1nY?t=4761)\n",
    "\n"
   ]
  },
  {
   "cell_type": "code",
   "execution_count": null,
   "metadata": {},
   "outputs": [],
   "source": [
    "# hyper parameters:\n",
    "batch_size = 64\n",
    "block_size = 8\n",
    "max_iters = 10000\n",
    "eval_interval = 100\n",
    "learning_rate = 1e-3\n",
    "device = 'cuda' if torch.cuda.is_available() else 'cpu'\n",
    "eval_iters = 200\n",
    "n_embd = 32             # number of embedding dimensions"
   ]
  },
  {
   "cell_type": "code",
   "execution_count": null,
   "metadata": {},
   "outputs": [],
   "source": [
    "def get_batch(split, batch_size=batch_size):\n",
    "    data = train_data if split == 'train' else val_data\n",
    "    ix = torch.randint(len(train_data) - block_size, (batch_size,)) # this gets us a tensor like [476250,  18899, 645194, 831150]\n",
    "    x = torch.stack([data[i:i+block_size] for i in ix])\n",
    "    y = torch.stack([data[i+1:i+block_size+1] for i in ix])\n",
    "    return x.to(device), y.to(device)\n",
    "\n",
    "def generate_some_text(model=m, max_new_tokens=100):\n",
    "    generated_tokens = model.generate(idx = torch.zeros((1, 1), dtype=torch.long, device=device), max_new_tokens=max_new_tokens)[0].tolist()\n",
    "    print(decode(generated_tokens))"
   ]
  },
  {
   "cell_type": "code",
   "execution_count": null,
   "metadata": {},
   "outputs": [],
   "source": [
    "class Head(nn.Module):\n",
    "    \"\"\"One head of self-attention\"\"\"\n",
    "    \n",
    "    def __init__(self, head_size):\n",
    "        super().__init__()\n",
    "        self.key = nn.Linear(n_embd, head_size, bias=False)    # n_embd x head_size\n",
    "        self.query = nn.Linear(n_embd, head_size, bias=False) \n",
    "        self.value = nn.Linear(n_embd, head_size, bias=False)\n",
    "        self.register_buffer('tril', torch.tril(torch.ones(block_size, block_size)))\n",
    "        \n",
    "    def forward(self, x):\n",
    "        B,T,C = x.shape\n",
    "        \n",
    "        k = self.key(x)   # (B x T x C) @ () => B x T x C\n",
    "        q = self.query(x) # B x T x C\n",
    "        \n",
    "        # compute attention scores:\n",
    "        weights = q @ k.transpose(-2,-1) * (C**-0.5) # BxTxC @ BxCxT       => BxTxT\n",
    "        weights = weights.masked_fill(self.tril[:T,:T] == 0, float('-inf')) # BxTxT\n",
    "        weights = F.softmax(weights, dim=-1) # BxTxT\n",
    "        \n",
    "        # do weighted aggregation:\n",
    "        v = self.value(x) # BxTxC\n",
    "        out = weights @ v # BxTxT @ BxTxC => BxTxC\n",
    "        return out\n",
    "    "
   ]
  },
  {
   "cell_type": "code",
   "execution_count": null,
   "metadata": {},
   "outputs": [],
   "source": [
    "class BigramLanguageModel4(nn.Module):\n",
    "    def __init__(self):\n",
    "        super().__init__()\n",
    "        \n",
    "        self.token_embedding_table = nn.Embedding(vocab_size, n_embd)     # give it index in vocab and it looks up the embedding vector in n_embd dims\n",
    "        self.position_embedding_table = nn.Embedding(block_size, n_embd)  # each position will also get its own embedding vector\n",
    "        \n",
    "        # add self-attention head:\n",
    "        self.self_att_head = Head(n_embd)\n",
    "        \n",
    "        # add a language modeling head that will translate from token embeddings to logits:\n",
    "        self.lm_head = nn.Linear(n_embd, vocab_size, device=device)\n",
    "        \n",
    "    def forward(self, idx ,targets=None):\n",
    "        B,T = idx.shape\n",
    "        \n",
    "        # idx here is our input indexes, like the vector xb we saw earlier\n",
    "        # we will get the token embeddings from idx, using our embedding table\n",
    "        #                                                                             #                             idx dimension: B x T\n",
    "        tok_embd = self.token_embedding_table(idx)                                    # token embeddings with result dimension:    B x T x C\n",
    "        pos_embd = self.position_embedding_table(torch.arange(T, device=device))  # position embeddings with result dimension:     T x C\n",
    "        x = tok_embd + pos_embd   # B x T x C\n",
    "        x = self.self_att_head(x) # appy a single head of self-attention: B x T x C\n",
    "        logits = self.lm_head(x)            # (B x T x C) @ (C, vocab_size) = (B x T x vocab_size)\n",
    "        \n",
    "        if targets is None:\n",
    "            loss = None\n",
    "        else:\n",
    "            B,T,C = logits.shape\n",
    "            logits = logits.view(B*T, C)\n",
    "            targets = targets.view(B*T)\n",
    "            loss = F.cross_entropy(logits, targets)\n",
    "        \n",
    "        return logits, loss\n",
    "    \n",
    "    def generate(self, idx, max_new_tokens):\n",
    "        for _ in range(max_new_tokens):\n",
    "            # crop idx to the last block_size tokens:\n",
    "            idx_cond = idx[:,-block_size:]\n",
    "            logits, loss = self(idx_cond)\n",
    "            logits = logits[:, -1, :]         # pluck out last time step: B x T x C becomes B x C\n",
    "            probs = F.softmax(logits, dim=-1) # B x C\n",
    "            idx_next = torch.multinomial(probs, num_samples=1)  # B x 1\n",
    "            idx = torch.cat((idx, idx_next), dim=1) # B x T+1\n",
    "        return idx"
   ]
  },
  {
   "cell_type": "code",
   "execution_count": null,
   "metadata": {},
   "outputs": [
    {
     "data": {
      "image/png": "[encoded data removed]",
      "text/plain": [
       "<Figure size 640x480 with 1 Axes>"
      ]
     },
     "metadata": {},
     "output_type": "display_data"
    }
   ],
   "source": [
    "model = BigramLanguageModel4()\n",
    "model.to(device)\n",
    "optim = torch.optim.Adam(model.parameters(), lr=learning_rate)\n",
    "\n",
    "steps=[]\n",
    "losses=[]\n",
    "\n",
    "for step in range(max_iters):\n",
    "    # get a batch\n",
    "    xb, yb = get_batch('train', batch_size=batch_size)\n",
    "    \n",
    "    # calculate the loss\n",
    "    logits,loss = model(xb,yb)\n",
    "    optim.zero_grad(set_to_none=True)\n",
    "    loss.backward()\n",
    "    optim.step()\n",
    "    \n",
    "    if step%eval_interval == 0 :\n",
    "        steps.append(step)\n",
    "        losses.append(loss.item())\n",
    "        # print(f'loss for iteration {step} is: {loss}')\n",
    "\n",
    "plt.plot(steps, losses)\n",
    "plt.xlabel('iteration')\n",
    "plt.ylabel('loss')\n",
    "plt.ylim(2,5)\n",
    "plt.title('loss over time')\n",
    "plt.show()"
   ]
  },
  {
   "cell_type": "code",
   "execution_count": null,
   "metadata": {},
   "outputs": [
    {
     "name": "stdout",
     "output_type": "stream",
     "text": [
      "last recorded loss was 2.3017351627349854\n",
      "\n",
      "O: asafnte th'd tes thut mod thand he, preckn,\n",
      "Ohe thme, achile lapilisers we ss, tean,\n",
      "Theelu.\n",
      "GLAB\n"
     ]
    }
   ],
   "source": [
    "print(f'last recorded loss was {losses[len(losses)-1]}')\n",
    "generate_some_text(model=model)"
   ]
  },
  {
   "cell_type": "markdown",
   "metadata": {},
   "source": [
    "## Multi-Head Attention Module"
   ]
  },
  {
   "cell_type": "markdown",
   "metadata": {},
   "source": [
    "We will now apply multiple heads of attention, in parallel, and then concatenate the results."
   ]
  },
  {
   "cell_type": "code",
   "execution_count": null,
   "metadata": {},
   "outputs": [],
   "source": [
    "class MultiHeadAttention(nn.Module):\n",
    "    \"\"\"Multiple heads of attention in parallel\"\"\"\n",
    "    \n",
    "    def __init__(self, num_heads, head_size):\n",
    "        super().__init__()\n",
    "        self.heads = nn.ModuleList([Head(head_size) for _ in range(num_heads)])\n",
    "        \n",
    "    def forward(self, x):\n",
    "        return torch.cat([h(x) for h in self.heads], dim = -1)"
   ]
  },
  {
   "cell_type": "code",
   "execution_count": null,
   "metadata": {},
   "outputs": [],
   "source": [
    "class BigramLanguageModel5(nn.Module):\n",
    "    def __init__(self):\n",
    "        super().__init__()\n",
    "        \n",
    "        self.token_embedding_table = nn.Embedding(vocab_size, n_embd)     # give it index in vocab and it looks up the embedding vector in n_embd dims\n",
    "        self.position_embedding_table = nn.Embedding(block_size, n_embd)  # each position will also get its own embedding vector\n",
    "        \n",
    "        # add multiple self-attention heads:\n",
    "        # each head will typically be smaller correspondingly (that's why we divide n_embd by number of channels)\n",
    "        # if we then concat the output for each, we'll get back to our original n_embd = 32\n",
    "        self.self_att_heads = MultiHeadAttention(4, n_embd//4) # 4 heads of 32/4=8-dimensional self-attention\n",
    "        \n",
    "        # add a language modeling head that will translate from token embeddings to logits:\n",
    "        self.lm_head = nn.Linear(n_embd, vocab_size)\n",
    "        \n",
    "    def forward(self, idx ,targets=None):\n",
    "        B,T = idx.shape\n",
    "        \n",
    "        # idx here is our input indexes, like the vector xb we saw earlier\n",
    "        # we will get the token embeddings from idx, using our embedding table\n",
    "        #                                                                             #                             idx dimension: B x T\n",
    "        tok_embd = self.token_embedding_table(idx)                                    # token embeddings with result dimension:    B x T x C\n",
    "        pos_embd = self.position_embedding_table(torch.arange(T, device=device))  # position embeddings with result dimension:     T x C\n",
    "        x = tok_embd + pos_embd    # B x T x C\n",
    "        x = self.self_att_heads(x) # appy self-attentions in parallel: B x T x C\n",
    "        logits = self.lm_head(x)   # (B x T x C) @ (C, vocab_size) = (B x T x vocab_size)\n",
    "        \n",
    "        if targets is None:\n",
    "            loss = None\n",
    "        else:\n",
    "            B,T,C = logits.shape\n",
    "            logits = logits.view(B*T, C)\n",
    "            targets = targets.view(B*T)\n",
    "            loss = F.cross_entropy(logits, targets)\n",
    "        \n",
    "        return logits, loss\n",
    "    \n",
    "    def generate(self, idx, max_new_tokens):\n",
    "        for _ in range(max_new_tokens):\n",
    "            # crop idx to the last block_size tokens:\n",
    "            idx_cond = idx[:,-block_size:]\n",
    "            logits, loss = self(idx_cond)\n",
    "            logits = logits[:, -1, :]         # pluck out last time step: B x T x C becomes B x C\n",
    "            probs = F.softmax(logits, dim=-1) # B x C\n",
    "            idx_next = torch.multinomial(probs, num_samples=1)  # B x 1\n",
    "            idx = torch.cat((idx, idx_next), dim=1) # B x T+1\n",
    "        return idx"
   ]
  },
  {
   "cell_type": "code",
   "execution_count": null,
   "metadata": {},
   "outputs": [
    {
     "data": {
      "image/png": "[encoded data removed]",
      "text/plain": [
       "<Figure size 640x480 with 1 Axes>"
      ]
     },
     "metadata": {},
     "output_type": "display_data"
    }
   ],
   "source": [
    "model = BigramLanguageModel5()\n",
    "model.to(device)\n",
    "optim = torch.optim.Adam(model.parameters(), lr=learning_rate)\n",
    "\n",
    "steps=[]\n",
    "losses=[]\n",
    "\n",
    "for step in range(max_iters):\n",
    "    # get a batch\n",
    "    xb, yb = get_batch('train', batch_size=batch_size)\n",
    "    \n",
    "    # calculate the loss\n",
    "    logits,loss = model(xb,yb)\n",
    "    optim.zero_grad(set_to_none=True)\n",
    "    loss.backward()\n",
    "    optim.step()\n",
    "    \n",
    "    if step%eval_interval == 0 :\n",
    "        steps.append(step)\n",
    "        losses.append(loss.item())\n",
    "        # print(f'loss for iteration {step} is: {loss}')\n",
    "\n",
    "plt.plot(steps, losses)\n",
    "plt.xlabel('iteration')\n",
    "plt.ylabel('loss')\n",
    "plt.ylim(2,5)\n",
    "plt.title('loss over time')\n",
    "plt.show()"
   ]
  },
  {
   "cell_type": "code",
   "execution_count": null,
   "metadata": {},
   "outputs": [
    {
     "name": "stdout",
     "output_type": "stream",
     "text": [
      "last recorded loss was 2.065643548965454\n"
     ]
    }
   ],
   "source": [
    "print(f'last recorded loss was {losses[len(losses)-1]}')"
   ]
  },
  {
   "cell_type": "code",
   "execution_count": null,
   "metadata": {},
   "outputs": [
    {
     "name": "stdout",
     "output_type": "stream",
     "text": [
      "\n",
      "ERTZAK:\n",
      "Miced that mang youghthy\n",
      "brothaves.\n",
      "Ser url hat gre me machand He.\n",
      "\n",
      "No dieen with upore cans\n"
     ]
    }
   ],
   "source": [
    "generate_some_text(model=model, max_new_tokens=100)"
   ]
  },
  {
   "cell_type": "markdown",
   "metadata": {},
   "source": [
    "## Optimizing Multi-Head Attention"
   ]
  },
  {
   "cell_type": "markdown",
   "metadata": {},
   "source": [
    "### Introducing a Feed-Forward layer"
   ]
  },
  {
   "cell_type": "markdown",
   "metadata": {},
   "source": [
    "We have a better result, but still a long way to go.  So far, we went too fast in calculating the logits.  There's not much compute in between.  To fix this, we'll introduce a small feedforward layer (basically a normal Linear Layer with a non-linearity, being a ReLu.)\n",
    "\n",
    "This feed-forward layer happens on a per-token basis.  This means that all tokens do this independently.  (Also [see video here](https://youtu.be/kCc8FmEb1nY?t=5168))"
   ]
  },
  {
   "cell_type": "code",
   "execution_count": null,
   "metadata": {},
   "outputs": [],
   "source": [
    "class FeedForward(nn.Module):\n",
    "    \"\"\"Single Layer followed by a non-linearity\"\"\"\n",
    "    \n",
    "    def __init__(self, n_embd):\n",
    "        super().__init__()\n",
    "        self.net = nn.Sequential(\n",
    "            nn.Linear(n_embd, n_embd),\n",
    "            nn.ReLU(),\n",
    "        )\n",
    "        \n",
    "    def forward(self, x):\n",
    "        return self.net(x)"
   ]
  },
  {
   "cell_type": "code",
   "execution_count": null,
   "metadata": {},
   "outputs": [],
   "source": [
    "class BigramLanguageModel6(nn.Module):\n",
    "    def __init__(self):\n",
    "        super().__init__()\n",
    "        \n",
    "        self.token_embedding_table = nn.Embedding(vocab_size, n_embd)     # give it index in vocab and it looks up the embedding vector in n_embd dims\n",
    "        self.position_embedding_table = nn.Embedding(block_size, n_embd)  # each position will also get its own embedding vector\n",
    "        self.self_att_heads = MultiHeadAttention(4, n_embd//4) # 4 heads of 32/4=8-dimensional self-attention\n",
    "        self.feed_fwd = FeedForward(n_embd)\n",
    "        self.lm_head = nn.Linear(n_embd, vocab_size)\n",
    "        \n",
    "    def forward(self, idx,targets=None):\n",
    "        B,T = idx.shape\n",
    "        \n",
    "        # idx here is our input indexes, like the vector xb we saw earlier\n",
    "        # we will get the token embeddings from idx, using our embedding table\n",
    "        #                                                                             #                             idx dimension: B x T\n",
    "        tok_embd = self.token_embedding_table(idx)                                    # token embeddings with result dimension:    B x T x C\n",
    "        pos_embd = self.position_embedding_table(torch.arange(T, device=device))  # position embeddings with result dimension:     T x C\n",
    "        x = tok_embd + pos_embd    # B x T x C\n",
    "        x = self.self_att_heads(x) # appy self-attentions in parallel: B x T x C\n",
    "        x = self.feed_fwd(x)\n",
    "        logits = self.lm_head(x)   # (B x T x C) @ (C, vocab_size) = (B x T x vocab_size)\n",
    "        \n",
    "        if targets is None:\n",
    "            loss = None\n",
    "        else:\n",
    "            B,T,C = logits.shape\n",
    "            logits = logits.view(B*T, C)\n",
    "            targets = targets.view(B*T)\n",
    "            loss = F.cross_entropy(logits, targets)\n",
    "        \n",
    "        return logits, loss\n",
    "    \n",
    "    def generate(self, idx, max_new_tokens):\n",
    "        for _ in range(max_new_tokens):\n",
    "            # crop idx to the last block_size tokens:\n",
    "            idx_cond = idx[:,-block_size:]\n",
    "            logits, loss = self(idx_cond)\n",
    "            logits = logits[:, -1, :]         # pluck out last time step: B x T x C becomes B x C\n",
    "            probs = F.softmax(logits, dim=-1) # B x C\n",
    "            idx_next = torch.multinomial(probs, num_samples=1)  # B x 1\n",
    "            idx = torch.cat((idx, idx_next), dim=1) # B x T+1\n",
    "        return idx"
   ]
  },
  {
   "cell_type": "code",
   "execution_count": null,
   "metadata": {},
   "outputs": [
    {
     "data": {
      "image/png": "[encoded data removed]",
      "text/plain": [
       "<Figure size 640x480 with 1 Axes>"
      ]
     },
     "metadata": {},
     "output_type": "display_data"
    }
   ],
   "source": [
    "model = BigramLanguageModel6()\n",
    "model.to(device)\n",
    "optim = torch.optim.Adam(model.parameters(), lr=learning_rate)\n",
    "\n",
    "steps=[]\n",
    "losses=[]\n",
    "\n",
    "for step in range(max_iters):\n",
    "    # get a batch\n",
    "    xb, yb = get_batch('train', batch_size=batch_size)\n",
    "    \n",
    "    # calculate the loss\n",
    "    logits,loss = model(xb,yb)\n",
    "    optim.zero_grad(set_to_none=True)\n",
    "    loss.backward()\n",
    "    optim.step()\n",
    "    \n",
    "    if step%eval_interval == 0 :\n",
    "        steps.append(step)\n",
    "        losses.append(loss.item())\n",
    "        # print(f'loss for iteration {step} is: {loss}')\n",
    "\n",
    "plt.plot(steps, losses)\n",
    "plt.xlabel('iteration')\n",
    "plt.ylabel('loss')\n",
    "plt.ylim(2,5)\n",
    "plt.title('loss over time')\n",
    "plt.show()"
   ]
  },
  {
   "cell_type": "code",
   "execution_count": null,
   "metadata": {},
   "outputs": [
    {
     "name": "stdout",
     "output_type": "stream",
     "text": [
      "last recorded loss was 2.0591189861297607\n"
     ]
    }
   ],
   "source": [
    "print(f'last recorded loss was {losses[len(losses)-1]}')"
   ]
  },
  {
   "cell_type": "markdown",
   "metadata": {},
   "source": [
    "Our loss keeps going down from:\n",
    "\n",
    "- 2.553\n",
    "- 2.298\n",
    "- 2.150\n",
    "- 2.081"
   ]
  },
  {
   "cell_type": "code",
   "execution_count": null,
   "metadata": {},
   "outputs": [
    {
     "name": "stdout",
     "output_type": "stream",
     "text": [
      "\n",
      "GRUENTANUM:\n",
      "To shou and wordomest;\n",
      "Alcome ming I he wours old!-\n",
      "I in Wh hut is ther'd ban no wersay\n",
      "\n"
     ]
    }
   ],
   "source": [
    "generate_some_text(model=model, max_new_tokens=100)"
   ]
  },
  {
   "cell_type": "markdown",
   "metadata": {},
   "source": [
    "### Creating multiple Blocks\n",
    "\n",
    "As explained in [Let's build GPT: from scratch, in code, spelled out.](https://youtu.be/kCc8FmEb1nY?t=5193) we will now have multiple blocks with each"
   ]
  },
  {
   "cell_type": "code",
   "execution_count": null,
   "metadata": {},
   "outputs": [],
   "source": [
    "# hyper parameters:\n",
    "batch_size = 64\n",
    "block_size = 8\n",
    "max_iters = 10000\n",
    "eval_interval = 100\n",
    "learning_rate = 1e-3\n",
    "device = 'cuda' if torch.cuda.is_available() else 'cpu'\n",
    "eval_iters = 200\n",
    "n_embd = 32             # number of embedding dimensions"
   ]
  },
  {
   "cell_type": "code",
   "execution_count": null,
   "metadata": {},
   "outputs": [],
   "source": [
    "class Head(nn.Module):\n",
    "    \"\"\"One head of self-attention\"\"\"\n",
    "    \n",
    "    def __init__(self, head_size):\n",
    "        super().__init__()\n",
    "        self.key = nn.Linear(n_embd, head_size, bias=False)    # n_embd x head_size\n",
    "        self.query = nn.Linear(n_embd, head_size, bias=False) \n",
    "        self.value = nn.Linear(n_embd, head_size, bias=False)\n",
    "        self.register_buffer('tril', torch.tril(torch.ones(block_size, block_size)))\n",
    "        \n",
    "    def forward(self, x):\n",
    "        B,T,C = x.shape\n",
    "        \n",
    "        k = self.key(x)   # (B x T x C) @ () => B x T x C\n",
    "        q = self.query(x) # B x T x C\n",
    "        \n",
    "        # compute attention scores:\n",
    "        weights = q @ k.transpose(-2,-1) * (C**-0.5) # BxTxC @ BxCxT       => BxTxT\n",
    "        weights = weights.masked_fill(self.tril[:T,:T] == 0, float('-inf')) # BxTxT\n",
    "        weights = F.softmax(weights, dim=-1) # BxTxT\n",
    "        \n",
    "        # do weighted aggregation:\n",
    "        v = self.value(x) # BxTxC\n",
    "        out = weights @ v # BxTxT @ BxTxC => BxTxC\n",
    "        return out"
   ]
  },
  {
   "cell_type": "code",
   "execution_count": null,
   "metadata": {},
   "outputs": [],
   "source": [
    "class MultiHeadAttention(nn.Module):\n",
    "    \"\"\"Multiple heads of attention in parallel\"\"\"\n",
    "    \n",
    "    def __init__(self, num_heads, head_size):\n",
    "        super().__init__()\n",
    "        self.heads = nn.ModuleList([Head(head_size) for _ in range(num_heads)])\n",
    "        \n",
    "    def forward(self, x):\n",
    "        return torch.cat([h(x) for h in self.heads], dim = -1)"
   ]
  },
  {
   "cell_type": "code",
   "execution_count": null,
   "metadata": {},
   "outputs": [],
   "source": [
    "class FeedForward(nn.Module):\n",
    "    \"\"\"Single Layer followed by a non-linearity\"\"\"\n",
    "    \n",
    "    def __init__(self, n_embd):\n",
    "        super().__init__()\n",
    "        self.net = nn.Sequential(\n",
    "            nn.Linear(n_embd, n_embd),\n",
    "            nn.ReLU(),\n",
    "        )\n",
    "        \n",
    "    def forward(self, x):\n",
    "        return self.net(x)"
   ]
  },
  {
   "cell_type": "code",
   "execution_count": null,
   "metadata": {},
   "outputs": [],
   "source": [
    "class Block(nn.Module):\n",
    "    \"\"\"Transformer Block: communications followed by computation\"\"\"\n",
    "    \n",
    "    def __init__(self,n_embd, n_head):\n",
    "        super().__init__()\n",
    "        head_size = n_embd // n_head\n",
    "        self.sa = MultiHeadAttention(n_head,head_size)\n",
    "        self.ffwd = FeedForward(n_embd)\n",
    "        \n",
    "    def forward(self, x):\n",
    "        x = self.sa(x)\n",
    "        x = self.ffwd(x)\n",
    "        return x"
   ]
  },
  {
   "cell_type": "code",
   "execution_count": null,
   "metadata": {},
   "outputs": [],
   "source": [
    "class BigramLanguageModel7(nn.Module):\n",
    "    def __init__(self):\n",
    "        super().__init__()\n",
    "        \n",
    "        self.token_embedding_table = nn.Embedding(vocab_size, n_embd)     # give it index in vocab and it looks up the embedding vector in n_embd dims\n",
    "        self.position_embedding_table = nn.Embedding(block_size, n_embd)  # each position will also get its own embedding vector\n",
    "        self.blocks = nn.Sequential(\n",
    "            Block(n_embd, n_head=4),\n",
    "            Block(n_embd, n_head=4),\n",
    "            Block(n_embd, n_head=4)\n",
    "        )\n",
    "        self.lm_head = nn.Linear(n_embd, vocab_size)\n",
    "        \n",
    "    def forward(self, idx, targets=None):\n",
    "        B,T = idx.shape\n",
    "        \n",
    "        # idx here is our input indexes, like the vector xb we saw earlier\n",
    "        # we will get the token embeddings from idx, using our embedding table\n",
    "        #                                                                             #                             idx dimension: B x T\n",
    "        tok_embd = self.token_embedding_table(idx)                                    # token embeddings with result dimension:    B x T x C\n",
    "        pos_embd = self.position_embedding_table(torch.arange(T, device=device))  # position embeddings with result dimension:     T x C\n",
    "        x = tok_embd + pos_embd    # B x T x C\n",
    "        x = self.blocks(x)\n",
    "        logits = self.lm_head(x)   # (B x T x C) @ (C, vocab_size) = (B x T x vocab_size)\n",
    "        \n",
    "        if targets is None:\n",
    "            loss = None\n",
    "        else:\n",
    "            B,T,C = logits.shape\n",
    "            logits = logits.view(B*T, C)\n",
    "            targets = targets.view(B*T)\n",
    "            loss = F.cross_entropy(logits, targets)\n",
    "        \n",
    "        return logits, loss\n",
    "    \n",
    "    def generate(self, idx, max_new_tokens):\n",
    "        for _ in range(max_new_tokens):\n",
    "            # crop idx to the last block_size tokens:\n",
    "            idx_cond = idx[:,-block_size:]\n",
    "            logits, loss = self(idx_cond)\n",
    "            logits = logits[:, -1, :]         # pluck out last time step: B x T x C becomes B x C\n",
    "            probs = F.softmax(logits, dim=-1) # B x C\n",
    "            idx_next = torch.multinomial(probs, num_samples=1)  # B x 1\n",
    "            idx = torch.cat((idx, idx_next), dim=1) # B x T+1\n",
    "        return idx"
   ]
  },
  {
   "cell_type": "code",
   "execution_count": null,
   "metadata": {},
   "outputs": [
    {
     "data": {
      "image/png": "[encoded data removed]",
      "text/plain": [
       "<Figure size 640x480 with 1 Axes>"
      ]
     },
     "metadata": {},
     "output_type": "display_data"
    }
   ],
   "source": [
    "model = BigramLanguageModel7()\n",
    "model.to(device)\n",
    "optim = torch.optim.Adam(model.parameters(), lr=learning_rate)\n",
    "\n",
    "steps=[]\n",
    "losses=[]\n",
    "\n",
    "for step in range(max_iters):\n",
    "    # get a batch\n",
    "    xb, yb = get_batch('train', batch_size=batch_size)\n",
    "    \n",
    "    # calculate the loss\n",
    "    logits,loss = model(xb,yb)\n",
    "    optim.zero_grad(set_to_none=True)\n",
    "    loss.backward()\n",
    "    optim.step()\n",
    "    \n",
    "    if step%eval_interval == 0 :\n",
    "        steps.append(step)\n",
    "        losses.append(loss.item())\n",
    "        # print(f'loss for iteration {step} is: {loss}')\n",
    "\n",
    "plt.plot(steps, losses)\n",
    "plt.xlabel('iteration')\n",
    "plt.ylabel('loss')\n",
    "plt.ylim(2,5)\n",
    "plt.title('loss over time')\n",
    "plt.show()"
   ]
  },
  {
   "cell_type": "markdown",
   "metadata": {},
   "source": [
    "When you try to run this, the results won't be stellar.  The reason is that this is quite a deep neural net, which is not yet optimized."
   ]
  },
  {
   "cell_type": "code",
   "execution_count": null,
   "metadata": {},
   "outputs": [
    {
     "name": "stdout",
     "output_type": "stream",
     "text": [
      "last recorded loss was 2.0725607872009277\n"
     ]
    }
   ],
   "source": [
    "print(f'last recorded loss was {losses[len(losses)-1]}')"
   ]
  },
  {
   "cell_type": "code",
   "execution_count": null,
   "metadata": {},
   "outputs": [
    {
     "name": "stdout",
     "output_type": "stream",
     "text": [
      "\n",
      "Go be'ts.\n",
      "\n",
      "EULYIZDA:\n",
      "O, Rpefoul the gosonn, hear now of him your dis the barete sheir bouls thou Iw \n"
     ]
    }
   ],
   "source": [
    "generate_some_text(model=model, max_new_tokens=100)"
   ]
  },
  {
   "cell_type": "markdown",
   "metadata": {},
   "source": [
    "Our loss keeps going down from:\n",
    "\n",
    "- 2.553\n",
    "- 2.298 (scaled dot product attention)\n",
    "- 2.150 (multi-head attention)\n",
    "- 2.081 (feed fwd layer)\n",
    "- 2.16  => blocks without optimization - this is worse; but we're dealing with a deep network here"
   ]
  },
  {
   "cell_type": "markdown",
   "metadata": {},
   "source": [
    "### Optimizations\n",
    "\n",
    "There's two optimizations that will enable us to really use a deep network like this.  Discussed in the video here: [Let's build GPT: from scratch, in code, spelled out.](https://youtu.be/kCc8FmEb1nY?t=5296)\n",
    "\n",
    "- Residual Connections (also called skip-connections) - see: [Deep Residual Learning for Image Recognition](https://arxiv.org/abs/1512.03385)\n",
    "- Layer Normalization\n",
    "\n",
    "#### Residual Connections\n",
    "\n",
    "A residual connection, also known as a skip connection, is a way to add the input of a layer to its output, bypassing the layer's activation function. This is done by adding the input tensor to the output tensor, and passing the sum through the next layer's activation function. The output of the layer with the skip connection is therefore the sum of the original output and the original input.\n",
    "\n",
    "The purpose of the residual connection is to help alleviate the vanishing gradient problem, which can occur when training deep neural networks. In traditional neural networks, gradients can become very small as they propagate backwards through many layers, making it difficult to update the weights of the earlier layers. By adding a residual connection, the gradient can flow directly from the output to the input of the layer, bypassing the activation function and allowing the gradients to be directly added together.\n",
    "\n",
    "This can be thought of as a \"shortcut\" for the gradient, which can help to propagate it more efficiently through the network. By enabling the gradients to flow directly through the skip connection, the residual connection helps to ensure that the weights of the earlier layers are updated more effectively during training.\n",
    "\n",
    "In summary, a residual connection or skip connection is a way to add the input of a layer to its output, bypassing the layer's activation function. This helps to alleviate the vanishing gradient problem and enable more efficient gradient flow through the network during training. The addition of the input and output tensors during the residual connection is important for allowing gradients to be computed with addition, enabling more efficient weight updates during training."
   ]
  },
  {
   "cell_type": "code",
   "execution_count": null,
   "metadata": {},
   "outputs": [],
   "source": [
    "# hyper parameters:\n",
    "batch_size = 64\n",
    "block_size = 8\n",
    "max_iters = 10000\n",
    "eval_interval = 100\n",
    "learning_rate = 1e-3\n",
    "device = 'cuda' if torch.cuda.is_available() else 'cpu'\n",
    "eval_iters = 200\n",
    "n_embd = 32             # number of embedding dimensions\n",
    "\n",
    "class Head(nn.Module):\n",
    "    \"\"\"One head of self-attention\"\"\"\n",
    "    \n",
    "    def __init__(self, head_size):\n",
    "        super().__init__()\n",
    "        self.key = nn.Linear(n_embd, head_size, bias=False)    # n_embd x head_size\n",
    "        self.query = nn.Linear(n_embd, head_size, bias=False) \n",
    "        self.value = nn.Linear(n_embd, head_size, bias=False)\n",
    "        self.register_buffer('tril', torch.tril(torch.ones(block_size, block_size)))\n",
    "        \n",
    "    def forward(self, x):\n",
    "        B,T,C = x.shape\n",
    "        \n",
    "        k = self.key(x)   # (B x T x C) @ () => B x T x C\n",
    "        q = self.query(x) # B x T x C\n",
    "        \n",
    "        # compute attention scores:\n",
    "        weights = q @ k.transpose(-2,-1) * (C**-0.5) # BxTxC @ BxCxT       => BxTxT\n",
    "        weights = weights.masked_fill(self.tril[:T,:T] == 0, float('-inf')) # BxTxT\n",
    "        weights = F.softmax(weights, dim=-1) # BxTxT\n",
    "        \n",
    "        # do weighted aggregation:\n",
    "        v = self.value(x) # BxTxC\n",
    "        out = weights @ v # BxTxT @ BxTxC => BxTxC\n",
    "        return out"
   ]
  },
  {
   "cell_type": "markdown",
   "metadata": {},
   "source": [
    "We'll add a projection back into the residual pathway to our `MultiHeadAttention`and `FeedForward` - which is just a linear transformation of the output of this layer:"
   ]
  },
  {
   "cell_type": "code",
   "execution_count": null,
   "metadata": {},
   "outputs": [],
   "source": [
    "class FeedForward(nn.Module):\n",
    "    \"\"\"Single Layer followed by a non-linearity\"\"\"\n",
    "    \n",
    "    def __init__(self, n_embd):\n",
    "        super().__init__()\n",
    "        self.net = nn.Sequential(\n",
    "            nn.Linear(n_embd, n_embd),\n",
    "            nn.ReLU(),\n",
    "            nn.Linear(n_embd, n_embd)  # projection back into residual pathway\n",
    "        )\n",
    "        \n",
    "    def forward(self, x):\n",
    "        return self.net(x)\n",
    "\n",
    "class MultiHeadAttention(nn.Module):\n",
    "    \"\"\"Multiple heads of attention in parallel\"\"\"\n",
    "    \n",
    "    def __init__(self, num_heads, head_size):\n",
    "        super().__init__()\n",
    "        self.heads = nn.ModuleList([Head(head_size) for _ in range(num_heads)])\n",
    "        self.proj = nn.Linear(n_embd, n_embd) # projection\n",
    "        \n",
    "    def forward(self, x):\n",
    "        out = torch.cat([h(x) for h in self.heads], dim = -1)\n",
    "        out = self.proj(out)  # projection\n",
    "        return out"
   ]
  },
  {
   "cell_type": "markdown",
   "metadata": {},
   "source": [
    "We'll change the block to use a residual connection:"
   ]
  },
  {
   "cell_type": "code",
   "execution_count": null,
   "metadata": {},
   "outputs": [],
   "source": [
    "class Block(nn.Module):\n",
    "    \"\"\"Transformer Block: communications followed by computation\"\"\"\n",
    "    \n",
    "    def __init__(self,n_embd, n_head):\n",
    "        super().__init__()\n",
    "        head_size = n_embd // n_head\n",
    "        self.sa = MultiHeadAttention(n_head,head_size)\n",
    "        self.ffwd = FeedForward(n_embd)\n",
    "        \n",
    "    def forward(self, x):\n",
    "        x = x + self.sa(x)    # the \"x + ... is the skip connection here\"\n",
    "        x = x + self.ffwd(x)  # the \"x + ... is the skip connection here\"\n",
    "        return x"
   ]
  },
  {
   "cell_type": "code",
   "execution_count": null,
   "metadata": {},
   "outputs": [],
   "source": [
    "class BigramLanguageModel8(nn.Module):\n",
    "    def __init__(self):\n",
    "        super().__init__()\n",
    "        \n",
    "        self.token_embedding_table = nn.Embedding(vocab_size, n_embd)     # give it index in vocab and it looks up the embedding vector in n_embd dims\n",
    "        self.position_embedding_table = nn.Embedding(block_size, n_embd)  # each position will also get its own embedding vector\n",
    "        self.blocks = nn.Sequential(\n",
    "            Block(n_embd, n_head=4),\n",
    "            Block(n_embd, n_head=4),\n",
    "            Block(n_embd, n_head=4)\n",
    "        )\n",
    "        self.lm_head = nn.Linear(n_embd, vocab_size)\n",
    "        \n",
    "    def forward(self, idx, targets=None):\n",
    "        B,T = idx.shape\n",
    "        \n",
    "        # idx here is our input indexes, like the vector xb we saw earlier\n",
    "        # we will get the token embeddings from idx, using our embedding table\n",
    "        #                                                                             #                             idx dimension: B x T\n",
    "        tok_embd = self.token_embedding_table(idx)                                    # token embeddings with result dimension:    B x T x C\n",
    "        pos_embd = self.position_embedding_table(torch.arange(T, device=device))  # position embeddings with result dimension:     T x C\n",
    "        x = tok_embd + pos_embd    # B x T x C\n",
    "        x = self.blocks(x)\n",
    "        logits = self.lm_head(x)   # (B x T x C) @ (C, vocab_size) = (B x T x vocab_size)\n",
    "        \n",
    "        if targets is None:\n",
    "            loss = None\n",
    "        else:\n",
    "            B,T,C = logits.shape\n",
    "            logits = logits.view(B*T, C)\n",
    "            targets = targets.view(B*T)\n",
    "            loss = F.cross_entropy(logits, targets)\n",
    "        \n",
    "        return logits, loss\n",
    "    \n",
    "    def generate(self, idx, max_new_tokens):\n",
    "        for _ in range(max_new_tokens):\n",
    "            # crop idx to the last block_size tokens:\n",
    "            idx_cond = idx[:,-block_size:]\n",
    "            logits, loss = self(idx_cond)\n",
    "            logits = logits[:, -1, :]         # pluck out last time step: B x T x C becomes B x C\n",
    "            probs = F.softmax(logits, dim=-1) # B x C\n",
    "            idx_next = torch.multinomial(probs, num_samples=1)  # B x 1\n",
    "            idx = torch.cat((idx, idx_next), dim=1) # B x T+1\n",
    "        return idx"
   ]
  },
  {
   "cell_type": "code",
   "execution_count": null,
   "metadata": {},
   "outputs": [],
   "source": [
    "def train_model_and_show_result(model):\n",
    "    optim = torch.optim.Adam(model.parameters(), lr=learning_rate)\n",
    "\n",
    "    steps=[]\n",
    "    losses=[]\n",
    "\n",
    "    for step in range(max_iters):\n",
    "        # get a batch\n",
    "        xb, yb = get_batch('train', batch_size=batch_size)\n",
    "\n",
    "        # calculate the loss\n",
    "        logits,loss = model(xb,yb)\n",
    "        optim.zero_grad(set_to_none=True)\n",
    "        loss.backward()\n",
    "        optim.step()\n",
    "\n",
    "        if step%eval_interval == 0 :\n",
    "            steps.append(step)\n",
    "            losses.append(loss.item())\n",
    "            # print(f'loss for iteration {step} is: {loss}')\n",
    "\n",
    "    plt.plot(steps, losses)\n",
    "    plt.xlabel('iteration')\n",
    "    plt.ylabel('loss')\n",
    "    plt.ylim(1,5)\n",
    "    plt.title('loss over time')\n",
    "    plt.show()\n",
    "    \n",
    "    return losses"
   ]
  },
  {
   "cell_type": "code",
   "execution_count": null,
   "metadata": {},
   "outputs": [
    {
     "data": {
      "image/png": "[encoded data removed]",
      "text/plain": [
       "<Figure size 640x480 with 1 Axes>"
      ]
     },
     "metadata": {},
     "output_type": "display_data"
    }
   ],
   "source": [
    "model = BigramLanguageModel8()\n",
    "model.to(device)\n",
    "losses = train_model_and_show_result(model)"
   ]
  },
  {
   "cell_type": "code",
   "execution_count": null,
   "metadata": {},
   "outputs": [
    {
     "name": "stdout",
     "output_type": "stream",
     "text": [
      "last recorded loss was 1.9664623737335205\n"
     ]
    }
   ],
   "source": [
    "print(f'last recorded loss was {losses[len(losses)-1]}')"
   ]
  },
  {
   "cell_type": "code",
   "execution_count": null,
   "metadata": {},
   "outputs": [
    {
     "name": "stdout",
     "output_type": "stream",
     "text": [
      "\n",
      "DUKEn\n",
      "Mears as now:\n",
      "Keve manasy Va cound for your was trake you, many as Bolew'd be sitculfintientle\n"
     ]
    }
   ],
   "source": [
    "generate_some_text(model=model, max_new_tokens=100)"
   ]
  },
  {
   "cell_type": "markdown",
   "metadata": {},
   "source": [
    "Our loss keeps going down from:\n",
    "\n",
    "- 2.553\n",
    "- 2.298 (scaled dot product attention)\n",
    "- 2.150 (multi-head attention)\n",
    "- 2.081 (feed fwd layer)\n",
    "- 2.16  => blocks without optimization - this is worse; but we're dealing with a deep network here\n",
    "- 1.96 (blocks optimized with residual pathways)"
   ]
  },
  {
   "cell_type": "markdown",
   "metadata": {},
   "source": [
    "In addition, and as described in [Let's build GPT: from scratch, in code, spelled out.](https://youtu.be/kCc8FmEb1nY?t=5505) we'll now make sure our inner layer of our feedforward module has dimension 4 times bigger than the input our output."
   ]
  },
  {
   "cell_type": "code",
   "execution_count": null,
   "metadata": {},
   "outputs": [],
   "source": [
    "class FeedForward(nn.Module):\n",
    "    \"\"\"Single Layer followed by a non-linearity\"\"\"\n",
    "    \n",
    "    def __init__(self, n_embd):\n",
    "        super().__init__()\n",
    "        self.net = nn.Sequential(\n",
    "            nn.Linear(n_embd, 4 * n_embd),\n",
    "            nn.ReLU(),\n",
    "            nn.Linear(4 * n_embd, n_embd)  # projection back into residual pathway\n",
    "        )\n",
    "        \n",
    "    def forward(self, x):\n",
    "        return self.net(x)"
   ]
  },
  {
   "cell_type": "code",
   "execution_count": null,
   "metadata": {},
   "outputs": [
    {
     "data": {
      "image/png": "[encoded data removed]",
      "text/plain": [
       "<Figure size 640x480 with 1 Axes>"
      ]
     },
     "metadata": {},
     "output_type": "display_data"
    }
   ],
   "source": [
    "model = BigramLanguageModel8()\n",
    "model.to(device)\n",
    "losses = train_model_and_show_result(model)"
   ]
  },
  {
   "cell_type": "code",
   "execution_count": null,
   "metadata": {},
   "outputs": [
    {
     "name": "stdout",
     "output_type": "stream",
     "text": [
      "last recorded loss was 1.8393092155456543\n"
     ]
    }
   ],
   "source": [
    "print(f'last recorded loss was {losses[len(losses)-1]}')"
   ]
  },
  {
   "cell_type": "code",
   "execution_count": null,
   "metadata": {},
   "outputs": [
    {
     "name": "stdout",
     "output_type": "stream",
     "text": [
      "\n",
      "Som.\n",
      "\n",
      "KING RICHENRY VI\n",
      "holumf:\n",
      "Do with sybonay them what\n",
      "Yours of stnous acarge, fards, Sir;\n",
      "Master.\n"
     ]
    }
   ],
   "source": [
    "generate_some_text(model=model, max_new_tokens=100)"
   ]
  },
  {
   "cell_type": "markdown",
   "metadata": {},
   "source": [
    "Our loss keeps going down from:\n",
    "\n",
    "- 2.553\n",
    "- 2.298 (scaled dot product attention)\n",
    "- 2.150 (multi-head attention)\n",
    "- 2.081 (feed fwd layer)\n",
    "- 2.16  => blocks without optimization - this is worse; but we're dealing with a deep network here\n",
    "- 1.96 (blocks optimized with residual pathways)\n",
    "- 1.855 (inner layer of feedforward is 4 x size of input)"
   ]
  },
  {
   "cell_type": "markdown",
   "metadata": {},
   "source": [
    "#### Layer Norm\n",
    "\n",
    "See [Let's build GPT: from scratch, in code, spelled out.](https://youtu.be/kCc8FmEb1nY?t=5583) <br/>\n",
    "This is the paper on [Layer Normalization](https://arxiv.org/abs/1607.06450)\n",
    "\n",
    "LayerNorm is similar to batchnorm.  Batch normalization made sure that across the batch dimension, every neuron had zero mean and a std deviation of 1.  Batchnorm worked by substracting the mean and dividing by the std dev:\n",
    "\n",
    "\n"
   ]
  },
  {
   "cell_type": "code",
   "execution_count": null,
   "metadata": {},
   "outputs": [
    {
     "name": "stdout",
     "output_type": "stream",
     "text": [
      "the mean is: 3.0\n",
      "the std dev is: 1.8257418583505538\n"
     ]
    }
   ],
   "source": [
    "a = torch.tensor(np.array([2.0, 4, 1 ,5]))\n",
    "a_mean = torch.mean(a)\n",
    "a_stdev = torch.std(a)\n",
    "\n",
    "print(f'the mean is: {a_mean}')\n",
    "print(f'the std dev is: {a_stdev}')"
   ]
  },
  {
   "cell_type": "code",
   "execution_count": null,
   "metadata": {},
   "outputs": [
    {
     "name": "stdout",
     "output_type": "stream",
     "text": [
      "the mean after substracting the mean of every number in the tensor is: 0.0\n",
      "the std dev after substracting the mean of every number in the tensor is: 1.8257418583505538 - this is unchanged \n",
      "\n",
      "if we now divide all numbers by the std dev, the std dev becomes: 0.9999999999999998 - which is 1\n"
     ]
    }
   ],
   "source": [
    "b_min_mean = (a-a_mean)\n",
    "b_mean = torch.mean(b_min_mean)\n",
    "b_stdev = torch.std(b_min_mean)\n",
    "b_min_mean_div_std = b_min_mean / a_stdev\n",
    "b_min_mean_dev_std_std = torch.std(b_min_mean_div_std)\n",
    "print(f'the mean after substracting the mean of every number in the tensor is: {b_mean}')\n",
    "print(f'the std dev after substracting the mean of every number in the tensor is: {b_stdev} - this is unchanged \\n')\n",
    "print(f'if we now divide all numbers by the std dev, the std dev becomes: {b_min_mean_dev_std_std} - which is 1')"
   ]
  },
  {
   "cell_type": "markdown",
   "metadata": {},
   "source": [
    "This is how BatchNorm looked like:"
   ]
  },
  {
   "cell_type": "code",
   "execution_count": null,
   "metadata": {},
   "outputs": [],
   "source": [
    "class BatchNorm1d:\n",
    "  \n",
    "  def __init__(self, dim, eps=1e-5, momentum=0.1):\n",
    "    self.eps = eps\n",
    "    self.momentum = momentum\n",
    "    self.training = True\n",
    "    \n",
    "    # parameters (trained with backprop)\n",
    "    self.gamma = torch.ones(dim)\n",
    "    self.beta = torch.zeros(dim)\n",
    "    \n",
    "    # buffers (trained with a running 'momentum update')\n",
    "    self.running_mean = torch.zeros(dim)\n",
    "    self.running_var = torch.ones(dim)\n",
    "  \n",
    "  def __call__(self, x):\n",
    "    # calculate the forward pass\n",
    "    if self.training:\n",
    "      xmean = x.mean(0, keepdim=True) # batch mean\n",
    "      xvar = x.var(0, keepdim=True) # batch variance\n",
    "    else:\n",
    "      xmean = self.running_mean\n",
    "      xvar = self.running_var\n",
    "    xhat = (x - xmean) / torch.sqrt(xvar + self.eps) # normalize to unit variance\n",
    "    self.out = self.gamma * xhat + self.beta\n",
    "    # update the buffers\n",
    "    if self.training:\n",
    "      with torch.no_grad():\n",
    "        self.running_mean = (1 - self.momentum) * self.running_mean + self.momentum * xmean\n",
    "        self.running_var = (1 - self.momentum) * self.running_var + self.momentum * xvar\n",
    "    return self.out\n",
    "  \n",
    "  def parameters(self):\n",
    "    return [self.gamma, self.beta]"
   ]
  },
  {
   "cell_type": "markdown",
   "metadata": {},
   "source": [
    "So what is layer norm?  It is highly similar to BatchNorm but instead of calculating the mean and stdev across the batch examples (for each column), we will calculate the mean and stdev for each sample in the batch individually (for each row).  This also means, because there's no connection anymore between the batch samples, there's no more need to keep a running mean."
   ]
  },
  {
   "cell_type": "code",
   "execution_count": null,
   "metadata": {},
   "outputs": [],
   "source": [
    "class LayerNorm:\n",
    "  \n",
    "  def __init__(self, dim, eps=1e-5, momentum=0.1):\n",
    "    self.eps = eps\n",
    "    self.gamma = torch.ones(dim)\n",
    "    self.beta = torch.zeros(dim)\n",
    "  \n",
    "  def __call__(self, x):\n",
    "    xmean = x.mean(1, keepdim=True) # batch mean\n",
    "    xvar = x.var(1, keepdim=True) # batch variance\n",
    "\n",
    "    xhat = (x - xmean) / torch.sqrt(xvar + self.eps) # normalize to unit variance\n",
    "    self.out = self.gamma * xhat + self.beta\n",
    "   \n",
    "    return self.out\n",
    "  \n",
    "  def parameters(self):\n",
    "    return [self.gamma, self.beta]"
   ]
  },
  {
   "cell_type": "markdown",
   "metadata": {},
   "source": [
    "We'll incorporarte this in our block, but slightly deviate from the paper in the sense that LayerNorm will happen before.  The LayerNorm acts as a per-token transformation and both of our batch and time dimension acts as batch dimension.  It normalizes the feature."
   ]
  },
  {
   "cell_type": "code",
   "execution_count": null,
   "metadata": {},
   "outputs": [],
   "source": [
    "class Block(nn.Module):\n",
    "    \"\"\"Transformer Block: communications followed by computation\"\"\"\n",
    "    \n",
    "    def __init__(self,n_embd, n_head):\n",
    "        super().__init__()\n",
    "        head_size = n_embd // n_head\n",
    "        self.sa = MultiHeadAttention(n_head,head_size)\n",
    "        self.ffwd = FeedForward(n_embd)\n",
    "        self.ln1 = nn.LayerNorm(n_embd)  # add layer norm\n",
    "        self.ln2 = nn.LayerNorm(n_embd)  # add another layer norm\n",
    "        \n",
    "    def forward(self, x):\n",
    "        x = x + self.sa( self.ln1(x))    # the \"x + ... is the skip connection here\", apply layer norm\n",
    "        x = x + self.ffwd( self.ln2(x))   # the \"x + ... is the skip connection here\", apply layer norm\n",
    "        return x"
   ]
  },
  {
   "cell_type": "code",
   "execution_count": null,
   "metadata": {},
   "outputs": [
    {
     "data": {
      "image/png": "[encoded data removed]",
      "text/plain": [
       "<Figure size 640x480 with 1 Axes>"
      ]
     },
     "metadata": {},
     "output_type": "display_data"
    }
   ],
   "source": [
    "model = BigramLanguageModel8()\n",
    "model.to(device)\n",
    "losses = train_model_and_show_result(model)"
   ]
  },
  {
   "cell_type": "code",
   "execution_count": null,
   "metadata": {},
   "outputs": [
    {
     "name": "stdout",
     "output_type": "stream",
     "text": [
      "last recorded loss was 1.9586102962493896\n"
     ]
    }
   ],
   "source": [
    "print(f'last recorded loss was {losses[len(losses)-1]}')"
   ]
  },
  {
   "cell_type": "code",
   "execution_count": null,
   "metadata": {},
   "outputs": [
    {
     "name": "stdout",
     "output_type": "stream",
     "text": [
      "\n",
      "This shame: why ham bast; I sixt ward be took; I'll sincely?\n",
      "The warr lead me, will deepome fores a bucked shame hid. I'll him\n",
      "That I:\n",
      "Well riew,\n",
      "Whosily stees we and bed\n",
      "With I this of I'll speap it:\n",
      "I myscan my larmandring, ere think. I'll time the counden able callow.\n",
      "Cupper, we dow beatty name b\n"
     ]
    }
   ],
   "source": [
    "generate_some_text(model=model, max_new_tokens=300)"
   ]
  },
  {
   "cell_type": "markdown",
   "metadata": {},
   "source": [
    "Our loss keeps going down from:\n",
    "\n",
    "- 2.553\n",
    "- 2.298 (scaled dot product attention)\n",
    "- 2.150 (multi-head attention)\n",
    "- 2.081 (feed fwd layer)\n",
    "- 2.16  => blocks without optimization - this is worse; but we're dealing with a deep network here\n",
    "- 1.96 (blocks optimized with residual pathways)\n",
    "- 1.855 (inner layer of feedforward is 4 x size of input)\n",
    "- 1.845 (layer norm)"
   ]
  },
  {
   "cell_type": "markdown",
   "metadata": {},
   "source": [
    "We'll now also add a layernorm at the end of the transformer, after the last block and right before the input in the last linear layer that decodes into our vocabulary."
   ]
  },
  {
   "cell_type": "code",
   "execution_count": null,
   "metadata": {},
   "outputs": [],
   "source": [
    "class BigramLanguageModel9(nn.Module):\n",
    "    def __init__(self):\n",
    "        super().__init__()\n",
    "        \n",
    "        self.token_embedding_table = nn.Embedding(vocab_size, n_embd)     # give it index in vocab and it looks up the embedding vector in n_embd dims\n",
    "        self.position_embedding_table = nn.Embedding(block_size, n_embd)  # each position will also get its own embedding vector\n",
    "        self.blocks = nn.Sequential(\n",
    "            Block(n_embd, n_head=4),\n",
    "            Block(n_embd, n_head=4),\n",
    "            Block(n_embd, n_head=4),\n",
    "            nn.LayerNorm(n_embd)\n",
    "        )\n",
    "        self.lm_head = nn.Linear(n_embd, vocab_size)\n",
    "        \n",
    "    def forward(self, idx, targets=None):\n",
    "        B,T = idx.shape\n",
    "        \n",
    "        # idx here is our input indexes, like the vector xb we saw earlier\n",
    "        # we will get the token embeddings from idx, using our embedding table\n",
    "        #                                                                             #                             idx dimension: B x T\n",
    "        tok_embd = self.token_embedding_table(idx)                                    # token embeddings with result dimension:    B x T x C\n",
    "        pos_embd = self.position_embedding_table(torch.arange(T, device=device))  # position embeddings with result dimension:     T x C\n",
    "        x = tok_embd + pos_embd    # B x T x C\n",
    "        x = self.blocks(x)\n",
    "        logits = self.lm_head(x)   # (B x T x C) @ (C, vocab_size) = (B x T x vocab_size)\n",
    "        \n",
    "        if targets is None:\n",
    "            loss = None\n",
    "        else:\n",
    "            B,T,C = logits.shape\n",
    "            logits = logits.view(B*T, C)\n",
    "            targets = targets.view(B*T)\n",
    "            loss = F.cross_entropy(logits, targets)\n",
    "        \n",
    "        return logits, loss\n",
    "    \n",
    "    def generate(self, idx, max_new_tokens):\n",
    "        for _ in range(max_new_tokens):\n",
    "            # crop idx to the last block_size tokens:\n",
    "            idx_cond = idx[:,-block_size:]\n",
    "            logits, loss = self(idx_cond)\n",
    "            logits = logits[:, -1, :]         # pluck out last time step: B x T x C becomes B x C\n",
    "            probs = F.softmax(logits, dim=-1) # B x C\n",
    "            idx_next = torch.multinomial(probs, num_samples=1)  # B x 1\n",
    "            idx = torch.cat((idx, idx_next), dim=1) # B x T+1\n",
    "        return idx"
   ]
  },
  {
   "cell_type": "code",
   "execution_count": null,
   "metadata": {},
   "outputs": [
    {
     "data": {
      "image/png": "[encoded data removed]",
      "text/plain": [
       "<Figure size 640x480 with 1 Axes>"
      ]
     },
     "metadata": {},
     "output_type": "display_data"
    }
   ],
   "source": [
    "model = BigramLanguageModel9()\n",
    "model.to(device)\n",
    "losses = train_model_and_show_result(model)"
   ]
  },
  {
   "cell_type": "code",
   "execution_count": null,
   "metadata": {},
   "outputs": [
    {
     "name": "stdout",
     "output_type": "stream",
     "text": [
      "last recorded loss was 1.7616101503372192\n"
     ]
    }
   ],
   "source": [
    "print(f'last recorded loss was {losses[len(losses)-1]}')"
   ]
  },
  {
   "cell_type": "markdown",
   "metadata": {},
   "source": [
    "This is actually a little worse than we had before..."
   ]
  },
  {
   "cell_type": "code",
   "execution_count": null,
   "metadata": {},
   "outputs": [
    {
     "name": "stdout",
     "output_type": "stream",
     "text": [
      "\n",
      "If eaching mier, pliffit\n",
      "And called and her;\n",
      "And I groof mistly of I can was queal:\n",
      "try of it come o\n"
     ]
    }
   ],
   "source": [
    "generate_some_text(model=model, max_new_tokens=100)"
   ]
  },
  {
   "cell_type": "markdown",
   "metadata": {},
   "source": [
    "## Scaling up our model\n",
    "\n",
    "Let's see how far we can push this by scaling our model.  To do this, we'll make some changes to make configuration of the model easier.   In addition, we'll add dropout to our head, feedforward layer and multi-head attention.  \n",
    "\n",
    "Dropout is a regularization technique proposed in a paper from 2014:[Dropout: A Simple Way to Prevent Neural Networks from Overfitting](https://jmlr.org/papers/v15/srivastava14a.html)\n",
    "\n",
    "See: [Let's build GPT: from scratch, in code, spelled out.](https://youtu.be/kCc8FmEb1nY?t=5870)"
   ]
  },
  {
   "cell_type": "code",
   "execution_count": null,
   "metadata": {},
   "outputs": [],
   "source": [
    "# hyper parameters:\n",
    "batch_size = 64\n",
    "block_size = 256     # this was previously only 8\n",
    "max_iters = 10000\n",
    "eval_interval = 100\n",
    "learning_rate = 3e-4 #\n",
    "device = 'cuda' if torch.cuda.is_available() else 'cpu'\n",
    "eval_iters = 200\n",
    "n_embd = 384             # number of embedding dimensions\n",
    "n_head = 6\n",
    "n_layer = 6\n",
    "dropout = 0.2        # 20 percent is dropped to zero\n",
    "\n",
    "class Head(nn.Module):\n",
    "    \"\"\"One head of self-attention\"\"\"\n",
    "    \n",
    "    def __init__(self, head_size):\n",
    "        super().__init__()\n",
    "        self.key = nn.Linear(n_embd, head_size, bias=False)    # n_embd x head_size\n",
    "        self.query = nn.Linear(n_embd, head_size, bias=False) \n",
    "        self.value = nn.Linear(n_embd, head_size, bias=False)\n",
    "        self.register_buffer('tril', torch.tril(torch.ones(block_size, block_size)))\n",
    "        self.dropout = nn.Dropout(dropout)\n",
    "        \n",
    "    def forward(self, x):\n",
    "        B,T,C = x.shape\n",
    "        \n",
    "        k = self.key(x)   # (B x T x C) @ () => B x T x C\n",
    "        q = self.query(x) # B x T x C\n",
    "        \n",
    "        # compute attention scores:\n",
    "        weights = q @ k.transpose(-2,-1) * (C**-0.5) # BxTxC @ BxCxT       => BxTxT\n",
    "        weights = weights.masked_fill(self.tril[:T,:T] == 0, float('-inf')) # BxTxT\n",
    "        weights = F.softmax(weights, dim=-1) # BxTxT\n",
    "        weights = self.dropout(weights)\n",
    "        \n",
    "        # do weighted aggregation:\n",
    "        v = self.value(x) # BxTxC\n",
    "        out = weights @ v # BxTxT @ BxTxC => BxTxC\n",
    "        return out\n",
    "\n",
    "class MultiHeadAttention(nn.Module):\n",
    "    \"\"\"Multiple heads of attention in parallel\"\"\"\n",
    "    \n",
    "    def __init__(self, num_heads, head_size):\n",
    "        super().__init__()\n",
    "        self.heads = nn.ModuleList([Head(head_size) for _ in range(num_heads)])\n",
    "        self.proj = nn.Linear(n_embd, n_embd) # projection\n",
    "        self.dropout = nn.Dropout(dropout)\n",
    "        \n",
    "    def forward(self, x):\n",
    "        out = torch.cat([h(x) for h in self.heads], dim = -1)\n",
    "        out = self.dropout(self.proj(out))  # projection\n",
    "        return out\n",
    "\n",
    "class FeedForward(nn.Module):\n",
    "    \"\"\"Single Layer followed by a non-linearity\"\"\"\n",
    "    \n",
    "    def __init__(self, n_embd):\n",
    "        super().__init__()\n",
    "        self.net = nn.Sequential(\n",
    "            nn.Linear(n_embd, 4 * n_embd),\n",
    "            nn.ReLU(),\n",
    "            nn.Linear(4 * n_embd, n_embd),  # projection back into residual pathway\n",
    "            nn.Dropout(dropout)\n",
    "        )\n",
    "        \n",
    "    def forward(self, x):\n",
    "        return self.net(x)\n",
    "\n",
    "class Block(nn.Module):  # Note: this is unchanged from before\n",
    "    \"\"\"Transformer Block: communications followed by computation\"\"\"\n",
    "    \n",
    "    def __init__(self,n_embd, n_head):\n",
    "        super().__init__()\n",
    "        head_size = n_embd // n_head\n",
    "        self.sa = MultiHeadAttention(n_head,head_size)\n",
    "        self.ffwd = FeedForward(n_embd)\n",
    "        self.ln1 = nn.LayerNorm(n_embd)  # add layer norm\n",
    "        self.ln2 = nn.LayerNorm(n_embd)  # add another layer norm\n",
    "        \n",
    "    def forward(self, x):\n",
    "        x = x + self.sa( self.ln1(x))    # the \"x + ... is the skip connection here\", apply layer norm\n",
    "        x = x + self.ffwd( self.ln2(x))   # the \"x + ... is the skip connection here\", apply layer norm\n",
    "        return x\n",
    "    \n",
    "class BigramLanguageModel10(nn.Module):\n",
    "    def __init__(self):\n",
    "        super().__init__()\n",
    "        \n",
    "        self.token_embedding_table = nn.Embedding(vocab_size, n_embd)     # give it index in vocab and it looks up the embedding vector in n_embd dims\n",
    "        self.position_embedding_table = nn.Embedding(block_size, n_embd)  # each position will also get its own embedding vector\n",
    "        self.blocks = nn.Sequential(*[Block(n_embd, n_head=n_head) for n in range(n_layer)])\n",
    "        self.ln_f = nn.LayerNorm(n_embd)\n",
    "        self.lm_head = nn.Linear(n_embd, vocab_size)\n",
    "        \n",
    "    def forward(self, idx, targets=None):\n",
    "        B,T = idx.shape\n",
    "        \n",
    "        # idx here is our input indexes, like the vector xb we saw earlier\n",
    "        # we will get the token embeddings from idx, using our embedding table\n",
    "        #                                                                             #                             idx dimension: B x T\n",
    "        tok_embd = self.token_embedding_table(idx)                                    # token embeddings with result dimension:    B x T x C\n",
    "        pos_embd = self.position_embedding_table(torch.arange(T, device=device))  # position embeddings with result dimension:     T x C\n",
    "        x = tok_embd + pos_embd    # B x T x C\n",
    "        x = self.blocks(x)\n",
    "        x = self.ln_f(x)\n",
    "        logits = self.lm_head(x)   # (B x T x C) @ (C, vocab_size) = (B x T x vocab_size)\n",
    "        \n",
    "        if targets is None:\n",
    "            loss = None\n",
    "        else:\n",
    "            B,T,C = logits.shape\n",
    "            logits = logits.view(B*T, C)\n",
    "            targets = targets.view(B*T)\n",
    "            loss = F.cross_entropy(logits, targets)\n",
    "        \n",
    "        return logits, loss\n",
    "    \n",
    "    def generate(self, idx, max_new_tokens):\n",
    "        for _ in range(max_new_tokens):\n",
    "            # crop idx to the last block_size tokens:\n",
    "            idx_cond = idx[:,-block_size:]\n",
    "            logits, loss = self(idx_cond)\n",
    "            logits = logits[:, -1, :]         # pluck out last time step: B x T x C becomes B x C\n",
    "            probs = F.softmax(logits, dim=-1) # B x C\n",
    "            idx_next = torch.multinomial(probs, num_samples=1)  # B x 1\n",
    "            idx = torch.cat((idx, idx_next), dim=1) # B x T+1\n",
    "        return idx"
   ]
  },
  {
   "cell_type": "code",
   "execution_count": null,
   "metadata": {},
   "outputs": [
    {
     "data": {
      "image/png": "[encoded data removed]",
      "text/plain": [
       "<Figure size 640x480 with 1 Axes>"
      ]
     },
     "metadata": {},
     "output_type": "display_data"
    },
    {
     "name": "stdout",
     "output_type": "stream",
     "text": [
      "CPU times: user 10min 6s, sys: 26.6 s, total: 10min 32s\n",
      "Wall time: 10min 29s\n"
     ]
    }
   ],
   "source": [
    "%%time\n",
    "model = BigramLanguageModel10()\n",
    "model.to(device)\n",
    "losses = train_model_and_show_result(model)"
   ]
  },
  {
   "cell_type": "code",
   "execution_count": null,
   "metadata": {},
   "outputs": [
    {
     "name": "stdout",
     "output_type": "stream",
     "text": [
      "last recorded loss was 0.9283599257469177\n"
     ]
    }
   ],
   "source": [
    "print(f'last recorded loss was {losses[len(losses)-1]}')"
   ]
  },
  {
   "cell_type": "code",
   "execution_count": null,
   "metadata": {},
   "outputs": [
    {
     "name": "stdout",
     "output_type": "stream",
     "text": [
      "\n",
      "Mark thee, when my poor worthy hob, by banish'd,\n",
      "Thee light his father, with the garish of looks,\n",
      "And never crack'd on other ground, which of all.\n",
      "That time we replied to the time allowing\n",
      "What cannot pit in?\n",
      "\n",
      "SICINIUS:\n",
      "I would tell thee, thou carry what will do,\n",
      "But ever here in her puts in this such a case.\n",
      "\n",
      "Both CARLIUS:\n",
      "Who hath calf but hath believed their house.\n",
      "\n",
      "Citizen:\n",
      "I will not be but spark to: cries and give wars this\n",
      "facting enemy, and I have.\n",
      "\n",
      "CORIOLANUS:\n",
      "O this last knowledge for \n"
     ]
    }
   ],
   "source": [
    "generate_some_text(model=model, max_new_tokens=500)"
   ]
  },
  {
   "cell_type": "code",
   "execution_count": null,
   "metadata": {},
   "outputs": [
    {
     "data": {
      "text/plain": [
       "'cuda'"
      ]
     },
     "execution_count": null,
     "metadata": {},
     "output_type": "execute_result"
    }
   ],
   "source": [
    "device"
   ]
  },
  {
   "cell_type": "code",
   "execution_count": null,
   "metadata": {},
   "outputs": [],
   "source": []
  }
 ],
 "metadata": {
  "kernelspec": {
   "display_name": "python3",
   "language": "python",
   "name": "python3"
  }
 },
 "nbformat": 4,
 "nbformat_minor": 4
}
