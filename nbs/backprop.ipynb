{
 "cells": [
  {
   "cell_type": "markdown",
   "id": "2e1a9805-cf40-4c88-9abf-0d7949e54a51",
   "metadata": {},
   "source": [
    "# Exploring Backpropagation"
   ]
  },
  {
   "cell_type": "markdown",
   "id": "55dec261-450b-4d54-b6f5-73c4d1551375",
   "metadata": {},
   "source": [
    "These notes accompany the [Backpropagation and MLP lesson](https://course.fast.ai/Lessons/lesson13.html#lesson-resources) from Jeremy Howard.  The associated workbook can be found here: [https://github.com/fastai/course22p2/blob/master/nbs/03_backprop.ipynb](https://github.com/fastai/course22p2/blob/master/nbs/03_backprop.ipynb)"
   ]
  },
  {
   "cell_type": "markdown",
   "id": "ad4b0898-81e9-4be5-bfd0-fb66821dcb36",
   "metadata": {},
   "source": [
    "We start by loading MNIST."
   ]
  },
  {
   "cell_type": "code",
   "execution_count": 41,
   "id": "e6b90e31-f875-405a-93fc-c24d140e86c6",
   "metadata": {
    "tags": []
   },
   "outputs": [
    {
     "data": {
      "text/plain": [
       "(#2) [Path('/home/xstof/.fastai/data/mnist_png/training'),Path('/home/xstof/.fastai/data/mnist_png/testing')]"
      ]
     },
     "execution_count": 41,
     "metadata": {},
     "output_type": "execute_result"
    }
   ],
   "source": [
    "import pickle,gzip,math,os,time,shutil,torch,matplotlib as mpl, numpy as np\n",
    "from pathlib import Path\n",
    "import torch\n",
    "from torch import tensor\n",
    "from fastcore.test import test_close\n",
    "from fastai.data.all import *\n",
    "from fastai.vision.all import *\n",
    "import torchvision\n",
    "import torchvision.transforms as transforms\n",
    "import matplotlib.pyplot as plt\n",
    "\n",
    "torch.manual_seed(42)\n",
    "\n",
    "mpl.rcParams['image.cmap'] = 'gray'\n",
    "torch.set_printoptions(precision=2, linewidth=125, sci_mode=False)\n",
    "np.set_printoptions(precision=2, linewidth=125)\n",
    "\n",
    "# path_data = Path('data')\n",
    "# path_gz = path_data/'mnist.pkl.gz'\n",
    "# with gzip.open(path_gz, 'rb') as f: ((x_train, y_train), (x_valid, y_valid), _) = pickle.load(f, encoding='latin-1')\n",
    "# x_train, y_train, x_valid, y_valid = map(tensor, [x_train, y_train, x_valid, y_valid])\n",
    "\n",
    "path = untar_data(URLs.MNIST)\n",
    "path.ls()"
   ]
  },
  {
   "cell_type": "code",
   "execution_count": 42,
   "id": "02dfe306-c574-4faa-8632-ef8586394203",
   "metadata": {
    "tags": []
   },
   "outputs": [],
   "source": [
    "import torch\n",
    "import torchvision\n",
    "import torchvision.transforms as transforms\n",
    "\n",
    "batch_size = 32\n",
    "\n",
    "# Define the transformation to apply to the data\n",
    "transform = transforms.Compose(\n",
    "    [transforms.Grayscale(),\n",
    "     transforms.ToTensor(),  # convert PIL image to PyTorch tensor\n",
    "     transforms.Normalize((0.5,), (0.5,))])  # normalize the data to have a mean of 0.5 and std of 0.5\n",
    "\n",
    "# Load the training dataset\n",
    "trainset = torchvision.datasets.MNIST(root='./data/mnist', train=True, download=True, transform=transform)\n",
    "\n",
    "# Create a data loader for the training dataset\n",
    "trainloader = torch.utils.data.DataLoader(trainset, batch_size=batch_size)\n",
    "dataiter = iter(trainloader)\n",
    "images, labels = dataiter.__next__()"
   ]
  },
  {
   "cell_type": "code",
   "execution_count": 63,
   "id": "cd0d0fc4-e2c8-4f55-a585-8f4ee433d58a",
   "metadata": {
    "tags": []
   },
   "outputs": [
    {
     "data": {
      "text/plain": [
       "(torch.Size([32, 784]), torch.Size([32]))"
      ]
     },
     "execution_count": 63,
     "metadata": {},
     "output_type": "execute_result"
    }
   ],
   "source": [
    "images.shape, labels.shape"
   ]
  },
  {
   "cell_type": "markdown",
   "id": "3800efc5-ec7c-4257-9f04-bef2de36dcfb",
   "metadata": {},
   "source": [
    "As we can see, every image is stored with one explicit channel.  Let's simplify this by removing this dimension. In addition we'll concatenate all pixels."
   ]
  },
  {
   "cell_type": "code",
   "execution_count": 61,
   "id": "9c9c26b2-3c5c-45c2-898e-b774d4323ab9",
   "metadata": {
    "tags": []
   },
   "outputs": [
    {
     "data": {
      "text/plain": [
       "torch.Size([32, 784])"
      ]
     },
     "execution_count": 61,
     "metadata": {},
     "output_type": "execute_result"
    }
   ],
   "source": [
    "images = images.view(32,28*28)\n",
    "images.shape"
   ]
  },
  {
   "cell_type": "markdown",
   "id": "d8a0728d-9624-46db-9b10-224864291ac5",
   "metadata": {},
   "source": [
    "This means, we have a batch of 32 images, each with 784 pixels (28 * 28).  Visuially that looks like this:"
   ]
  },
  {
   "cell_type": "code",
   "execution_count": 64,
   "id": "9959cabd-5ea5-4881-a770-568c78f57c43",
   "metadata": {
    "tags": []
   },
   "outputs": [
    {
     "data": {
      "image/png": "[encoded data removed]",
      "text/plain": [
       "<Figure size 640x480 with 1 Axes>"
      ]
     },
     "metadata": {},
     "output_type": "display_data"
    },
    {
     "name": "stdout",
     "output_type": "stream",
     "text": [
      "label for this image: 4\n"
     ]
    }
   ],
   "source": [
    "# Display the third image in the batch as an image\n",
    "def show_image(img):\n",
    "    plt.imshow(img.view(28,28), cmap='gray')\n",
    "    plt.show()\n",
    "show_image(images[2])\n",
    "print(f\"label for this image: {labels[2]}\")"
   ]
  },
  {
   "cell_type": "code",
   "execution_count": null,
   "id": "843c9819-22fc-476f-b272-e42bfe2aa8bd",
   "metadata": {},
   "outputs": [],
   "source": []
  }
 ],
 "metadata": {
  "kernelspec": {
   "display_name": "Python 3 (ipykernel)",
   "language": "python",
   "name": "python3"
  },
  "language_info": {
   "codemirror_mode": {
    "name": "ipython",
    "version": 3
   },
   "file_extension": ".py",
   "mimetype": "text/x-python",
   "name": "python",
   "nbconvert_exporter": "python",
   "pygments_lexer": "ipython3",
   "version": "3.10.10"
  }
 },
 "nbformat": 4,
 "nbformat_minor": 5
}
