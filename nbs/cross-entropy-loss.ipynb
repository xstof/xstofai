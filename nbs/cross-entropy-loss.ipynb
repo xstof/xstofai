{
 "cells": [
  {
   "cell_type": "markdown",
   "metadata": {},
   "source": [
    "# Cross-Entropy Loss"
   ]
  },
  {
   "cell_type": "markdown",
   "metadata": {},
   "source": [
    "The Cross-Entropy Loss function is typically used as a loss function in multi-class classification problems.\n",
    "\n",
    "The output for a neural network doing classification is a set of probabilities (a so-called probability distribution where every class is associated with a probability).  We try to adapt weights to optimize the resulting probabilities to match as close as possible the ground truth.  To iteratively adapt the weights and improve the prediction, a loss function is needed.  For multi-class classification, Cross-Entropy Loss is used."
   ]
  },
  {
   "cell_type": "markdown",
   "metadata": {},
   "source": [
    "## Shannon Information"
   ]
  },
  {
   "cell_type": "markdown",
   "metadata": {},
   "source": [
    "An occurrence of an unlikely event gives more information than the occurrence of a very likely event.  Shannon came up with a way to quantify how unpredictable a series of events is; measuring the \"disorder\" of system and quantifying uncertainty of a probability distribution.\n",
    "\n",
    "Let's do a thought experiment with two people: person A and person B.  They can agree upfront on the meaning of a series of bits thrown back and forth over a wall (like some mapping function saying \"0101\" means event \"abc\" happened).  Beyond the bits used for communicating they cannot exchange other information.  Let's now assume a number of different scenarios.\n",
    "\n",
    "### A fair coin flip\n",
    "\n",
    "Assume person A does a fair coin flip where the probability distribution of having heads is the same as having tails, each being 50 percent:  $P(H)=0.5$ and $P(T)=0.5$\n",
    "\n",
    "Both A and B can agree to exchange the outcome of the coin flip using a single bit of information where 0 means heads and 1 means tails.  When B receives the bit, he will know exactly what the outcome of the coin flip was.  We can say the entropy of this probability distribution is 1 bit.\n",
    "\n",
    "### Winning team out of 8\n",
    "\n",
    "Assume on the one side of the wall person A observes one team out of 8 winning a tournament.  Each team has a probability of 1/8 or 0.125 of winning, so this is again an equal probability distribution: $P(A)=0.125$, $P(B)=0.125$, $P(C)=0.125$, ..., $P(H)=0.125$\n",
    "\n",
    "A and B can agree to communicate the winning team using 3 bits of information. 3 bits give them $2^3=8$ classes, one for each team.  Let's say \"000\" means team A; \"001\" team B; \"010\" team C and so on.  We can say the entropy for this probability distribution is 3 bits.\n",
    "\n",
    "If we generalize this: for a uniform distribution of M equally possible outcomes, the entropy is: $log_2\\,M$\n",
    "\n",
    "This also holds for distributions where the number of outcomes is not exactly a power of 2, like was the case in the examples before.  Let's have a look at this in the next example.\n",
    "\n",
    "### 10 outcomes\n",
    "\n",
    "If A observes an outcome out of equal distributation of 10 possible outcomes (each with a probability of 0.1), then these can all be encoded using 4 bits.  4 bits allows for representing $2^4=16$ states which is more than needed for our 10 possible outcomes.  There are 6 \"unused\" states.\n",
    "\n",
    "We can group outcomes in groups of 3.  There are 1000 such unique triplets possible.  If we encode our data per 3 observations, then every such triplet can be encoded using 10 bits, giving us a total of $2^10=1024$ states.  That's still too much but we're already much more efficient in encoding out information as we can represent on average 1 outcome = 1/3 triplet using $\\frac{10}{3}=3.333...$ bits.  This is better but not perfect yet.  \n",
    "\n",
    "We grouped our information by 3 outcomes at a time; which gave us $10^3$ outcomes.  Let's call the number of items by which we group is G instead of 3. The number of states we can present with B bits is $2^B$.  The most efficient encoding is one where $2^B = 10^G$ where G is the number of grouped observations and B is the number of bits.\n",
    "\n",
    "$$2^B = 10^G$$\n",
    "\n",
    "Let's take the $log_2$ of both sides:\n",
    "\n",
    "$$B = log_2 (10^G)$$\n",
    "$$B = G\\, log_2 10$$\n",
    "$$\\frac{B}{G} = log_2 10$$\n",
    "\n",
    "$\\frac{B}{G}$ is our entropy and $log_2 10$ is approximately 3.322...\n",
    "\n",
    "So for a uniform distribution of M possible outcomes ($U(M)$) in which every probability of an outcome is $p_{1..M} = \\frac{1}{M}$, the entropy is: $$H(U(M))=log_2\\,M$$\n",
    "\n",
    "### Non-uniform distributions\n",
    "\n",
    "As we've seen before, each outcome with probability $p$ needs $log_2\\,M$ bits to encode or $log_2\\,\\frac{1}{p}$ which is $-log_2\\,p$.  Summing this over an entire distribution and multiplying each possible outcome with its probability gives us the entropy for a non-uniform distribution: $-\\sum_{i=1}^{M}\\,p_{i}\\,log_2\\,p_{i}$\n",
    "\n",
    "This describes how much information, on average, is needed to describe the outcome for a distribution.\n",
    "\n",
    "### Shannon Entropy Formula\n",
    "\n",
    "Shannon Entropy is defined as: $$H=-\\sum_{i=1}^{M}P(x_{i}) \\, log_2 \\, P(x_{i})$$"
   ]
  },
  {
   "cell_type": "markdown",
   "metadata": {},
   "source": [
    "## KL Divergence"
   ]
  },
  {
   "cell_type": "markdown",
   "metadata": {},
   "source": [
    "The Kullback Leibler divergence is a natural measure of distance between distributions, or how much one distribution differs from another one.\n",
    "\n",
    "### Comparing distributions\n",
    "\n",
    "Entropy is the theoretical lower bound on the number of bits we need to to encode information, given a probability distribution. \n",
    "\n",
    "Assume two different probability distributions $P$ and $Q$.  The most optimal encoding for $P$ is given by its entropy $H(P)$.  Any other encoding will need more bits to convey the same events or observations.  How many more bits would we need to encode information using the most optimal encoding for distribution Q, given information coming from distribution P?\n",
    "\n",
    "In P, a single event or observation $x_{i}$ with probability $p(x_{i})$ needs $-log \\, p(x_{i})$ bits to be encoded.  That same event has a different probability in distribution Q and needs $-log \\, q(x_{i})$ bits to be encoded in the optimal encoding for Q.  The difference between the encoding for the same event in both distributions is: $-log \\, q(x_{i})-(-log \\, p(x_{i}))$ or: $$log \\, p(x_{i})-log \\, q(x_{i})$$\n",
    "\n",
    "The above equation tells us the \"excess bits\" for a single event $x_{i}$ when encoded in Q instead of in P.  To look at the average difference in number of bits across the entire distribution $P$, we can multiply each event by its probably of occuring in P.  This is what we call the KL divergence:\n",
    "\n",
    "$$D_{KL}(p||q)=\\sum_{i=1}^N p(x_{i})\\,(log \\, p(x_{i})-log \\, q(x_{i}))$$\n",
    "\n",
    "or given that $log \\, a - log \\, b = log \\,\\frac{a}{b}$:\n",
    "\n",
    "$$D_{KL}(p||q)=\\sum_{i=1}^N p(x_{i})\\,(log \\, \\frac{p(x_{i})}{q(x_{i})})$$\n",
    "\n",
    "### KL Divergence Formula\n",
    "\n",
    "The KL Divergence is defined as: $$D_{KL}(P||Q)=\\sum_{i}P_{i}\\,log \\frac{P_{i}}{Q_{i}}$$\n",
    "\n",
    "### Further intuition\n",
    "\n",
    "Imagine we have 2 coins: one fair coin with an equal distribution of 0.5 for each outcome (heads or tails) and a biased coin with probability $p$ for heads and $q$ for tails.  We're trying to measure how different those are.  If $p$ is close to 0.5 then it would be easy to confuse both distributions by looking at the outcomes they generate.  On the opposite side, if $p$ is close to 0.95 for example, then it would be fairly obvious to dinstinguish between both distributions by observing a series of outcomes.\n",
    "\n",
    "To quantitatively measure the difference between two distributions we can look if a given sequence would be equally probably in both.  If they assign similar probabilities to similar sequences that implies both are very similar.\n",
    "\n",
    "We can generate observations using coin 1 then calculating the probability of coin 2 generating the observations.  Then we can compare that probability to the probability of coin 1.  If those are similar, then the distribution is similar or vice versa.  We could then take the following ratio: $$\\frac{P_{\\text{observations from coin 1}}}{P_{\\text{observations from coin 2}}}$$\n",
    "\n",
    "Let's say our fair coin has probabilities: $$\\begin{cases}p_{1} & \\text{for heads} \\\\ p_{2} & \\text{for tails} \\end{cases}$$\n",
    "\n",
    "We flip this coin $n$ times: H T T H H \n",
    "\n",
    "Then we work out the probability of coin 1 generating this sequence.  To do this we multiply by $p_{1}$ when we see heads and by $p_{2}$ when we see tails: $p_{1} \\cdot p_{2} \\cdot p_{2} \\cdot p_{1} \\cdot p_{1}$\n",
    "\n",
    "Our biased coin has probabilities: $$\\begin{cases}q_{1} & \\text{for heads} \\\\ q_{2} & \\text{for tails} \\end{cases}$$\n",
    "\n",
    "Let's work out the probably of coin 2 generating this sequence.  In a similar way this is: $q_{1} \\cdot q_{2} \\cdot q_{2} \\cdot q_{1} \\cdot q_{1}$\n",
    "\n",
    "If $N_{H}$ is the number of times we got heads and $N_{T}$ is the number of times we got tails, we can simplify both as:\n",
    "$$P(\\text{observations from coin 1})=p_{1}^{N_{H}}\\cdot p_{2}^{N_{T}}$$ and in the biased distribution: $$P(\\text{observations from coin 2})=q_{1}^{N_{H}}\\cdot q_{2}^{N_{T}}$$\n",
    "\n",
    "Calculating the ratio of both:\n",
    "\n",
    "$$\\frac{P_{\\text{observations from coin 1}}}{P_{\\text{observations from coin 2}}}=\\frac{p_{1}^{N_{H}}p_{2}^{N_{T}}}{q_{1}^{N_{H}}q_{2}^{N_{T}}}$$\n",
    "\n",
    "Let's normalize this for sample size by raising this to the power of $\\frac{1}{N}$: $$\\left(\\frac{p_{1}^{N_{H}}p_{2}^{N_{T}}}{q_{1}^{N_{H}}q_{2}^{N_{T}}}\\right)^{\\frac{1}{N}}$$\n",
    "\n",
    "Now let's take the log of this expression:\n",
    "\n",
    "$$log \\left(\\frac{p_{1}^{N_{H}}p_{2}^{N_{T}}}{q_{1}^{N_{H}}q_{2}^{N_{T}}}\\right)^{\\frac{1}{N}}$$\n",
    "$$=\\frac{1}{N} log \\left(\\frac{p_{1}^{N_{H}}p_{2}^{N_{T}}}{q_{1}^{N_{H}}q_{2}^{N_{T}}}\\right)$$\n",
    "$$=\\frac{1}{N} \\left( log\\,p_{1}^{N_{H}} + log\\,p_{2}^{N_{T}} - log\\,q_{1}^{N_{H}} -  log\\,q_{2}^{N_{T}} \\right)$$\n",
    "$$=\\frac{1}{N}log\\,p_{1}^{N_{H}} + \\frac{1}{N}log\\,p_{2}^{N_{T}} - \\frac{1}{N}log\\,q_{1}^{N_{H}} - \\frac{1}{N}log\\,q_{2}^{N_{T}}$$\n",
    "$$=\\frac{N_{H}}{N}log\\,p_{1} + \\frac{N_{T}}{N}log\\,p_{2} - \\frac{N_{H}}{N}log\\,q_{1} - \\frac{N_{T}}{N}log\\,q_{2}$$\n",
    "$$=p_{1}log\\,p_{1} + p_{2}log\\,p_{2} - p_{1}log\\,q_{1} - p_{2}log\\,q_{2}$$\n",
    "$$=p_{1}log\\,p_{1} - p_{1}log\\,q_{1} + p_{2}log\\,p_{2} - p_{2}log\\,q_{2}$$\n",
    "$$=p_{1}log\\frac{p_{1}}{q_{1}} + p_{2}log\\frac{p_{2}}{q_{2}}$$\n",
    "\n",
    "Note how this formula is the formula for KL divergence."
   ]
  },
  {
   "cell_type": "markdown",
   "metadata": {},
   "source": [
    "## Cross-Entropy Loss"
   ]
  },
  {
   "cell_type": "markdown",
   "metadata": {},
   "source": [
    "The output for a neural network doing a classification task is an entire probability distribution $P$.  Also the ground truth can be considered to be a probability distribution $P^{*}$: one where the true class has a probability of 1 and the other categories have a probability of 0.  The goal is for the network to learn and bring $P$ as close as possible to $P^{*}$.\n",
    "\n",
    "As discussed before, one measure of distance between two probability distributions is the KL Divergence: $D_{KL}(P||Q)=\\sum_{i}P_{i}\\,log \\frac{P_{i}}{Q_{i}}$.  An intuitive loss function would try to minimize the distance between the predicted distribution and the true distribution:\n",
    "\n",
    "$$D_{KL}(P^{*}||P)=\\sum_{y}P^{*}(y)\\,log \\frac{P^{*}(y)}{P(y)}$$\n",
    "$$=\\sum_{y}P^{*}(y)\\,\\left (log\\,P^{*}(y) - log\\,P(y) \\right )$$\n",
    "$$=\\sum_{y}P^{*}(y)\\,log\\,P^{*}(y) - \\sum_{y}P^{*}(y)\\,log\\,P(y)$$\n",
    "\n",
    "Note how the first part (summation) of this equation is not dependent on our weights or parameters of the model.  So if we want our loss function to minimize this expression, it should minimize the second part, which is dependent on our weight values.  That second part is our Cross-Entropy Loss formula.  Minimizing the Cross-Entropy Loss is the same as minimizing the KL divergence.\n",
    "\n",
    "It is important that our probabilities add up to 1.  To do this, a softmax function is typically used to normalize our output values of the network, turning them into probabilities on which we can use Cross-Entropy Loss:\n",
    "\n",
    "TODO\n",
    "\n"
   ]
  },
  {
   "cell_type": "markdown",
   "metadata": {},
   "source": [
    "## Formula\n",
    "\n",
    "Here's the general formula for Cross-Entropy Loss:\n",
    "\n",
    "$$H(P^{*}|P)=-\\sum_{i}\\,P^{*}(y)\\,log\\,P(i)$$\n",
    "\n",
    "$P$ is the predicted class distribution and $P^{*}$ is the true class distribution."
   ]
  },
  {
   "cell_type": "markdown",
   "metadata": {},
   "source": [
    "## Single-label Classification\n",
    "\n"
   ]
  },
  {
   "cell_type": "code",
   "execution_count": null,
   "metadata": {},
   "outputs": [
    {
     "ename": "NameError",
     "evalue": "name 'plot_function' is not defined",
     "output_type": "error",
     "traceback": [
      "\u001b[0;31m---------------------------------------------------------------------------\u001b[0m",
      "\u001b[0;31mNameError\u001b[0m                                 Traceback (most recent call last)",
      "Input \u001b[0;32mIn [1]\u001b[0m, in \u001b[0;36m<cell line: 2>\u001b[0;34m()\u001b[0m\n\u001b[1;32m      1\u001b[0m \u001b[38;5;28;01mdef\u001b[39;00m \u001b[38;5;21mloss\u001b[39m(x): \u001b[38;5;241m-\u001b[39mlog(x)\n\u001b[0;32m----> 2\u001b[0m \u001b[43mplot_function\u001b[49m(loss, title\u001b[38;5;241m=\u001b[39m\u001b[38;5;124m'\u001b[39m\u001b[38;5;124mLoss\u001b[39m\u001b[38;5;124m'\u001b[39m, \u001b[38;5;28mmin\u001b[39m\u001b[38;5;241m=\u001b[39m\u001b[38;5;241m0\u001b[39m, \u001b[38;5;28mmax\u001b[39m\u001b[38;5;241m=\u001b[39m\u001b[38;5;241m1\u001b[39m)\n",
      "\u001b[0;31mNameError\u001b[0m: name 'plot_function' is not defined"
     ]
    }
   ],
   "source": [
    "# def loss(x): -log(x)\n",
    "# plot_function(loss, title='Loss', min=0, max=1)"
   ]
  },
  {
   "cell_type": "markdown",
   "metadata": {},
   "source": [
    "## Multi-label Classification\n",
    "\n",
    "Multi-label classification is where we want to recognize more than a single label in a picture.  (\"There's both a panda and a giraffe to be seen.\")  Target and prediction vectors in this case are _not_ probabilities and the target is represented as a \"one-hot\" vector.  This vector has 1 for every class that appears in the picture and 0 for all other classes.\n",
    "\n",
    "Cross-Entropy Loss cannot be used for these one-hot vectors as these do not represent probabilities.  (The sum for all items in such vecctor can be more than one.)  We can look at this problem however as a multiple single-label classification subtasks. For every label we calculate the cross-entropy loss: for \"cat\" that is 0.34, for \"dog\" that is 0.56, for \"panda\" that is 1.2.  The total loss is now just the sum of all the losses for every label: 0.34 + 0.56 + 1.2 = 2.1"
   ]
  },
  {
   "cell_type": "markdown",
   "metadata": {},
   "source": [
    "## References\n",
    "\n",
    "### Articles\n",
    "\n",
    "- [MachineLearningMasteryCross Entropy for Machine Learning](https://machinelearningmastery.com/cross-entropy-for-machine-learning/)\n",
    "- [TowardsDataScience - Cross Entropy for Dummies](https://towardsdatascience.com/cross-entropy-for-dummies-5189303c7735)\n",
    "- [TowardsDataScience - Cross Entropy for Classification](https://towardsdatascience.com/cross-entropy-for-classification-d98e7f974451)\n",
    "- [KL divergence explained](https://www.countbayesie.com/blog/2017/5/9/kullback-leibler-divergence-explained)\n",
    "\n",
    "### Videos\n",
    "\n",
    "- [Intuitively understanding Shannon Entropy](https://www.youtube.com/watch?v=0GCGaw0QOhA)\n",
    "- [Intuitively Understanding the KL Divergence](https://www.youtube.com/watch?v=SxGYPqCgJWM)\n",
    "- [Intuitively Understanding the Cross Entropy Loss](https://www.youtube.com/watch?v=Pwgpl9mKars)"
   ]
  }
 ],
 "metadata": {
  "kernelspec": {
   "display_name": "Python 3 (ipykernel)",
   "language": "python",
   "name": "python3"
  }
 },
 "nbformat": 4,
 "nbformat_minor": 4
}
