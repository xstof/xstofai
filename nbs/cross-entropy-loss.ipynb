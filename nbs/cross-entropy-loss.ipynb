{
 "cells": [
  {
   "cell_type": "markdown",
   "metadata": {},
   "source": [
    "# Cross-Entropy Loss"
   ]
  },
  {
   "cell_type": "markdown",
   "metadata": {},
   "source": [
    "The Cross-Entropy Loss function is typically used as a loss function in multi-class classification problems.\n",
    "\n",
    "The output for a neural network doing classification is a set of probabilities (a so-called probability distribution where every class is associated with a probability).  We try to adapt weights to optimize the resulting probabilities to match as close as possible the ground truth.  To iteratively adapt the weights and improve the prediction , a loss function is needed.  For multi-class classification, Cross-Entropy Loss is used."
   ]
  },
  {
   "cell_type": "markdown",
   "metadata": {},
   "source": [
    "## Shannon Information"
   ]
  },
  {
   "cell_type": "markdown",
   "metadata": {},
   "source": [
    "An occurrence of an unlikely event gives more information than the occurrence of a very likely event.  Shannon came up with a way to quantify how unpredictable a series of events is; measuring the \"disorder\" of system and quantifying uncertainty of a probability distribution.\n",
    "\n",
    "Let's do a thought experiment with two people: person A and person B.  They can agree upfront on the meaning of a series of bits thrown back and forth over a wall (like some mapping function saying \"0101\" means event \"abc\" happened.  Beyond the bits used for communicating they cannot exchange other information.  Let's now assume a number of different scenarios.\n",
    "\n",
    "### A fair coin flip\n",
    "\n",
    "Assume person A does a fair coin flip where the probability distribution of having heads is the same as having tails, each begin 50 percent:  $P(H)=0.5$ and $P(T)=0.5$\n",
    "\n",
    "Both A and B can agree to exchange the outcome of the coin flip using a single bit of information where 0 means heads and 1 means tails.  When B receives the bit, he will know exactly what the outcome of the coin flip was.\n",
    "\n",
    "### Winning team out of 8\n",
    "\n",
    "Assume on the one side of the wall person A observes one team out of 8 winning a tournament.  Each team has a probability of 0.25 percent of winning, so again an equal probability distribution: $P(A)=0.25$, $P(B)=0.25$, $P(C)=0.25$, ..., $P(H)=0.25$\n",
    "\n",
    "\n",
    "\n",
    "### Formula\n",
    "\n",
    "Shannon Entropy is defined as: $$H=-\\sum_{i=1}^{M}P(x_{i}) \\, log_2 \\, P(x_{i})$$"
   ]
  },
  {
   "cell_type": "markdown",
   "metadata": {},
   "source": [
    "## KL Divergence"
   ]
  },
  {
   "cell_type": "markdown",
   "metadata": {},
   "source": [
    "TODO"
   ]
  },
  {
   "cell_type": "markdown",
   "metadata": {},
   "source": [
    "## Cross Entropy Loss"
   ]
  },
  {
   "cell_type": "markdown",
   "metadata": {},
   "source": [
    "TODO"
   ]
  },
  {
   "cell_type": "markdown",
   "metadata": {},
   "source": [
    "## References\n",
    "\n",
    "### Articles\n",
    "\n",
    "- https://machinelearningmastery.com/cross-entropy-for-machine-learning/\n",
    "- https://towardsdatascience.com/cross-entropy-for-dummies-5189303c7735\n",
    "\n",
    "### Videos\n",
    "\n",
    "- [Intuitively understanding Shannon Entropy](https://www.youtube.com/watch?v=0GCGaw0QOhA)"
   ]
  }
 ],
 "metadata": {
  "kernelspec": {
   "display_name": "Python 3 (ipykernel)",
   "language": "python",
   "name": "python3"
  }
 },
 "nbformat": 4,
 "nbformat_minor": 4
}
