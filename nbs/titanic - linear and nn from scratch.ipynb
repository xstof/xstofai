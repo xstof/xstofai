{
 "cells": [
  {
   "cell_type": "markdown",
   "id": "d5b9f82e-a2be-4374-a8dd-dde7f2a2a4ef",
   "metadata": {},
   "source": [
    "# Titanic\n",
    "... or how to build a linear model and neural net from scratch\n",
    "\n",
    "See: https://www.kaggle.com/code/jhoward/linear-model-and-neural-net-from-scratch\n"
   ]
  },
  {
   "cell_type": "markdown",
   "id": "19fceae8-4ee2-4554-8f27-060a98b1aece",
   "metadata": {},
   "source": [
    "## Getting set up"
   ]
  },
  {
   "cell_type": "code",
   "execution_count": null,
   "id": "eeec5b92-203b-4a92-b138-cd2ba8c93c6a",
   "metadata": {},
   "outputs": [],
   "source": [
    "import os\n",
    "from pathlib import Path"
   ]
  },
  {
   "cell_type": "code",
   "execution_count": null,
   "id": "ae006997-9b30-4670-9eae-6fb1b04e5c87",
   "metadata": {},
   "outputs": [
    {
     "name": "stdout",
     "output_type": "stream",
     "text": [
      "Requirement already satisfied: kaggle in /home/xstof/mambaforge/lib/python3.9/site-packages (1.5.12)\n",
      "Requirement already satisfied: python-dateutil in /home/xstof/mambaforge/lib/python3.9/site-packages (from kaggle) (2.8.2)\n",
      "Requirement already satisfied: tqdm in /home/xstof/mambaforge/lib/python3.9/site-packages (from kaggle) (4.64.0)\n",
      "Requirement already satisfied: urllib3 in /home/xstof/mambaforge/lib/python3.9/site-packages (from kaggle) (1.26.9)\n",
      "Requirement already satisfied: python-slugify in /home/xstof/mambaforge/lib/python3.9/site-packages (from kaggle) (6.1.2)\n",
      "Requirement already satisfied: certifi in /home/xstof/mambaforge/lib/python3.9/site-packages (from kaggle) (2022.6.15)\n",
      "Requirement already satisfied: requests in /home/xstof/mambaforge/lib/python3.9/site-packages (from kaggle) (2.27.1)\n",
      "Requirement already satisfied: six>=1.10 in /home/xstof/mambaforge/lib/python3.9/site-packages (from kaggle) (1.16.0)\n",
      "Requirement already satisfied: text-unidecode>=1.3 in /home/xstof/mambaforge/lib/python3.9/site-packages (from python-slugify->kaggle) (1.3)\n",
      "Requirement already satisfied: charset-normalizer~=2.0.0 in /home/xstof/mambaforge/lib/python3.9/site-packages (from requests->kaggle) (2.0.12)\n",
      "Requirement already satisfied: idna<4,>=2.5 in /home/xstof/mambaforge/lib/python3.9/site-packages (from requests->kaggle) (3.3)\n"
     ]
    }
   ],
   "source": [
    "!pip install kaggle  # make sure kaggle api is here so we can use it to dowload the dataset"
   ]
  },
  {
   "cell_type": "code",
   "execution_count": null,
   "id": "f268a031-e83d-4583-aad9-9ab52aaefd5d",
   "metadata": {},
   "outputs": [
    {
     "name": "stdout",
     "output_type": "stream",
     "text": [
      "Requirement already satisfied: sympy in /home/xstof/mambaforge/lib/python3.9/site-packages (1.10.1)\n",
      "Requirement already satisfied: mpmath>=0.19 in /home/xstof/mambaforge/lib/python3.9/site-packages (from sympy) (1.2.1)\n"
     ]
    }
   ],
   "source": [
    "! pip install sympy"
   ]
  },
  {
   "cell_type": "code",
   "execution_count": null,
   "id": "d6aaf9fe-60e4-4942-a7bd-af34b0977204",
   "metadata": {},
   "outputs": [],
   "source": [
    "#|eval: false\n",
    "from pathlib import Path\n",
    "\n",
    "cred_path = Path('~/.kaggle/kaggle.json').expanduser()\n",
    "if not cred_path.exists():\n",
    "    cred_path.parent.mkdir(exist_ok=True)\n",
    "    cred_path.write_text(creds)\n",
    "    cred_path.chmod(0o600)"
   ]
  },
  {
   "cell_type": "code",
   "execution_count": null,
   "id": "127ca2f7-598a-40c6-afff-ca2a02d06b47",
   "metadata": {},
   "outputs": [
    {
     "name": "stdout",
     "output_type": "stream",
     "text": [
      "titanic.zip: Skipping, found more recently modified local copy (use --force to force download)\n"
     ]
    }
   ],
   "source": [
    "#|eval: false\n",
    "isRunningOnKaggle = os.environ.get('KAGGLE_KERNEL_RUN_TYPE', '')\n",
    "if isRunningOnKaggle: path = Path('../input/titanic')\n",
    "else:\n",
    "    import zipfile,kaggle\n",
    "    path = Path('titanic')\n",
    "    kaggle.api.competition_download_cli(str(path))"
   ]
  },
  {
   "cell_type": "code",
   "execution_count": null,
   "id": "d40e9cfd-55aa-4681-95d3-80292d14cf4d",
   "metadata": {},
   "outputs": [],
   "source": [
    "#|eval: false\n",
    "import torch, numpy as np, pandas as pd\n",
    "np.set_printoptions(linewidth=140)\n",
    "torch.set_printoptions(linewidth=140, sci_mode=False, edgeitems=7)\n",
    "pd.set_option('display.width', 140)"
   ]
  },
  {
   "cell_type": "markdown",
   "id": "2850ab1c-0ce7-46e8-9835-caaeac55aa71",
   "metadata": {},
   "source": [
    "## Analyzing and cleaning the data"
   ]
  },
  {
   "cell_type": "code",
   "execution_count": null,
   "id": "e67e98f1-f01f-4240-8d67-718f536ff569",
   "metadata": {},
   "outputs": [
    {
     "data": {
      "text/html": [
       "<div>\n",
       "<style scoped>\n",
       "    .dataframe tbody tr th:only-of-type {\n",
       "        vertical-align: middle;\n",
       "    }\n",
       "\n",
       "    .dataframe tbody tr th {\n",
       "        vertical-align: top;\n",
       "    }\n",
       "\n",
       "    .dataframe thead th {\n",
       "        text-align: right;\n",
       "    }\n",
       "</style>\n",
       "<table border=\"1\" class=\"dataframe\">\n",
       "  <thead>\n",
       "    <tr style=\"text-align: right;\">\n",
       "      <th></th>\n",
       "      <th>PassengerId</th>\n",
       "      <th>Survived</th>\n",
       "      <th>Pclass</th>\n",
       "      <th>Name</th>\n",
       "      <th>Sex</th>\n",
       "      <th>Age</th>\n",
       "      <th>SibSp</th>\n",
       "      <th>Parch</th>\n",
       "      <th>Ticket</th>\n",
       "      <th>Fare</th>\n",
       "      <th>Cabin</th>\n",
       "      <th>Embarked</th>\n",
       "    </tr>\n",
       "  </thead>\n",
       "  <tbody>\n",
       "    <tr>\n",
       "      <th>0</th>\n",
       "      <td>1</td>\n",
       "      <td>0</td>\n",
       "      <td>3</td>\n",
       "      <td>Braund, Mr. Owen Harris</td>\n",
       "      <td>male</td>\n",
       "      <td>22.0</td>\n",
       "      <td>1</td>\n",
       "      <td>0</td>\n",
       "      <td>A/5 21171</td>\n",
       "      <td>7.2500</td>\n",
       "      <td>NaN</td>\n",
       "      <td>S</td>\n",
       "    </tr>\n",
       "    <tr>\n",
       "      <th>1</th>\n",
       "      <td>2</td>\n",
       "      <td>1</td>\n",
       "      <td>1</td>\n",
       "      <td>Cumings, Mrs. John Bradley (Florence Briggs Thayer)</td>\n",
       "      <td>female</td>\n",
       "      <td>38.0</td>\n",
       "      <td>1</td>\n",
       "      <td>0</td>\n",
       "      <td>PC 17599</td>\n",
       "      <td>71.2833</td>\n",
       "      <td>C85</td>\n",
       "      <td>C</td>\n",
       "    </tr>\n",
       "    <tr>\n",
       "      <th>2</th>\n",
       "      <td>3</td>\n",
       "      <td>1</td>\n",
       "      <td>3</td>\n",
       "      <td>Heikkinen, Miss. Laina</td>\n",
       "      <td>female</td>\n",
       "      <td>26.0</td>\n",
       "      <td>0</td>\n",
       "      <td>0</td>\n",
       "      <td>STON/O2. 3101282</td>\n",
       "      <td>7.9250</td>\n",
       "      <td>NaN</td>\n",
       "      <td>S</td>\n",
       "    </tr>\n",
       "    <tr>\n",
       "      <th>3</th>\n",
       "      <td>4</td>\n",
       "      <td>1</td>\n",
       "      <td>1</td>\n",
       "      <td>Futrelle, Mrs. Jacques Heath (Lily May Peel)</td>\n",
       "      <td>female</td>\n",
       "      <td>35.0</td>\n",
       "      <td>1</td>\n",
       "      <td>0</td>\n",
       "      <td>113803</td>\n",
       "      <td>53.1000</td>\n",
       "      <td>C123</td>\n",
       "      <td>S</td>\n",
       "    </tr>\n",
       "    <tr>\n",
       "      <th>4</th>\n",
       "      <td>5</td>\n",
       "      <td>0</td>\n",
       "      <td>3</td>\n",
       "      <td>Allen, Mr. William Henry</td>\n",
       "      <td>male</td>\n",
       "      <td>35.0</td>\n",
       "      <td>0</td>\n",
       "      <td>0</td>\n",
       "      <td>373450</td>\n",
       "      <td>8.0500</td>\n",
       "      <td>NaN</td>\n",
       "      <td>S</td>\n",
       "    </tr>\n",
       "    <tr>\n",
       "      <th>...</th>\n",
       "      <td>...</td>\n",
       "      <td>...</td>\n",
       "      <td>...</td>\n",
       "      <td>...</td>\n",
       "      <td>...</td>\n",
       "      <td>...</td>\n",
       "      <td>...</td>\n",
       "      <td>...</td>\n",
       "      <td>...</td>\n",
       "      <td>...</td>\n",
       "      <td>...</td>\n",
       "      <td>...</td>\n",
       "    </tr>\n",
       "    <tr>\n",
       "      <th>886</th>\n",
       "      <td>887</td>\n",
       "      <td>0</td>\n",
       "      <td>2</td>\n",
       "      <td>Montvila, Rev. Juozas</td>\n",
       "      <td>male</td>\n",
       "      <td>27.0</td>\n",
       "      <td>0</td>\n",
       "      <td>0</td>\n",
       "      <td>211536</td>\n",
       "      <td>13.0000</td>\n",
       "      <td>NaN</td>\n",
       "      <td>S</td>\n",
       "    </tr>\n",
       "    <tr>\n",
       "      <th>887</th>\n",
       "      <td>888</td>\n",
       "      <td>1</td>\n",
       "      <td>1</td>\n",
       "      <td>Graham, Miss. Margaret Edith</td>\n",
       "      <td>female</td>\n",
       "      <td>19.0</td>\n",
       "      <td>0</td>\n",
       "      <td>0</td>\n",
       "      <td>112053</td>\n",
       "      <td>30.0000</td>\n",
       "      <td>B42</td>\n",
       "      <td>S</td>\n",
       "    </tr>\n",
       "    <tr>\n",
       "      <th>888</th>\n",
       "      <td>889</td>\n",
       "      <td>0</td>\n",
       "      <td>3</td>\n",
       "      <td>Johnston, Miss. Catherine Helen \"Carrie\"</td>\n",
       "      <td>female</td>\n",
       "      <td>NaN</td>\n",
       "      <td>1</td>\n",
       "      <td>2</td>\n",
       "      <td>W./C. 6607</td>\n",
       "      <td>23.4500</td>\n",
       "      <td>NaN</td>\n",
       "      <td>S</td>\n",
       "    </tr>\n",
       "    <tr>\n",
       "      <th>889</th>\n",
       "      <td>890</td>\n",
       "      <td>1</td>\n",
       "      <td>1</td>\n",
       "      <td>Behr, Mr. Karl Howell</td>\n",
       "      <td>male</td>\n",
       "      <td>26.0</td>\n",
       "      <td>0</td>\n",
       "      <td>0</td>\n",
       "      <td>111369</td>\n",
       "      <td>30.0000</td>\n",
       "      <td>C148</td>\n",
       "      <td>C</td>\n",
       "    </tr>\n",
       "    <tr>\n",
       "      <th>890</th>\n",
       "      <td>891</td>\n",
       "      <td>0</td>\n",
       "      <td>3</td>\n",
       "      <td>Dooley, Mr. Patrick</td>\n",
       "      <td>male</td>\n",
       "      <td>32.0</td>\n",
       "      <td>0</td>\n",
       "      <td>0</td>\n",
       "      <td>370376</td>\n",
       "      <td>7.7500</td>\n",
       "      <td>NaN</td>\n",
       "      <td>Q</td>\n",
       "    </tr>\n",
       "  </tbody>\n",
       "</table>\n",
       "<p>891 rows × 12 columns</p>\n",
       "</div>"
      ],
      "text/plain": [
       "     PassengerId  Survived  Pclass                                                 Name     Sex   Age  SibSp  Parch            Ticket  \\\n",
       "0              1         0       3                              Braund, Mr. Owen Harris    male  22.0      1      0         A/5 21171   \n",
       "1              2         1       1  Cumings, Mrs. John Bradley (Florence Briggs Thayer)  female  38.0      1      0          PC 17599   \n",
       "2              3         1       3                               Heikkinen, Miss. Laina  female  26.0      0      0  STON/O2. 3101282   \n",
       "3              4         1       1         Futrelle, Mrs. Jacques Heath (Lily May Peel)  female  35.0      1      0            113803   \n",
       "4              5         0       3                             Allen, Mr. William Henry    male  35.0      0      0            373450   \n",
       "..           ...       ...     ...                                                  ...     ...   ...    ...    ...               ...   \n",
       "886          887         0       2                                Montvila, Rev. Juozas    male  27.0      0      0            211536   \n",
       "887          888         1       1                         Graham, Miss. Margaret Edith  female  19.0      0      0            112053   \n",
       "888          889         0       3             Johnston, Miss. Catherine Helen \"Carrie\"  female   NaN      1      2        W./C. 6607   \n",
       "889          890         1       1                                Behr, Mr. Karl Howell    male  26.0      0      0            111369   \n",
       "890          891         0       3                                  Dooley, Mr. Patrick    male  32.0      0      0            370376   \n",
       "\n",
       "        Fare Cabin Embarked  \n",
       "0     7.2500   NaN        S  \n",
       "1    71.2833   C85        C  \n",
       "2     7.9250   NaN        S  \n",
       "3    53.1000  C123        S  \n",
       "4     8.0500   NaN        S  \n",
       "..       ...   ...      ...  \n",
       "886  13.0000   NaN        S  \n",
       "887  30.0000   B42        S  \n",
       "888  23.4500   NaN        S  \n",
       "889  30.0000  C148        C  \n",
       "890   7.7500   NaN        Q  \n",
       "\n",
       "[891 rows x 12 columns]"
      ]
     },
     "execution_count": null,
     "metadata": {},
     "output_type": "execute_result"
    }
   ],
   "source": [
    "#|eval: false\n",
    "# for local run: unzipt the data first into 'titanic' directory\n",
    "df = pd.read_csv('./titanic/train.csv')\n",
    "df"
   ]
  },
  {
   "cell_type": "markdown",
   "id": "67c1ae07-697f-477c-94e3-96b460f541ad",
   "metadata": {},
   "source": [
    "The idea here is that we multiply each column by some coefficient and add those all up to get to a result that will predict if a person survived or not."
   ]
  },
  {
   "cell_type": "code",
   "execution_count": null,
   "id": "bde51841-10cd-4578-bdcf-0168e1cf98c1",
   "metadata": {},
   "outputs": [
    {
     "data": {
      "text/plain": [
       "PassengerId      0\n",
       "Survived         0\n",
       "Pclass           0\n",
       "Name             0\n",
       "Sex              0\n",
       "Age            177\n",
       "SibSp            0\n",
       "Parch            0\n",
       "Ticket           0\n",
       "Fare             0\n",
       "Cabin          687\n",
       "Embarked         2\n",
       "dtype: int64"
      ]
     },
     "execution_count": null,
     "metadata": {},
     "output_type": "execute_result"
    }
   ],
   "source": [
    "df.isna().sum()"
   ]
  },
  {
   "cell_type": "markdown",
   "id": "c5067e7d-b1b5-4687-8755-96247eaddae9",
   "metadata": {},
   "source": [
    "This learns us that there's some columns like \"Age\" and \"Cabin\" and \"Embarked\" that have no values - which is problematic as we can't multiply \"nothing\" by a coefficient.  We'll replace these with \"the mode\" of the respective column, which is the most common value."
   ]
  },
  {
   "cell_type": "code",
   "execution_count": null,
   "id": "57823dda-426f-439e-b4a7-a46d91bb9a88",
   "metadata": {},
   "outputs": [
    {
     "data": {
      "text/plain": [
       "PassengerId                      1\n",
       "Survived                       0.0\n",
       "Pclass                         3.0\n",
       "Name           Abbing, Mr. Anthony\n",
       "Sex                           male\n",
       "Age                           24.0\n",
       "SibSp                          0.0\n",
       "Parch                          0.0\n",
       "Ticket                        1601\n",
       "Fare                          8.05\n",
       "Cabin                      B96 B98\n",
       "Embarked                         S\n",
       "Name: 0, dtype: object"
      ]
     },
     "execution_count": null,
     "metadata": {},
     "output_type": "execute_result"
    }
   ],
   "source": [
    "modes = df.mode().iloc[0]\n",
    "modes"
   ]
  },
  {
   "cell_type": "code",
   "execution_count": null,
   "id": "2bdb6d02-1c5c-4ffd-830c-470459ae8b88",
   "metadata": {},
   "outputs": [
    {
     "data": {
      "text/plain": [
       "PassengerId    0\n",
       "Survived       0\n",
       "Pclass         0\n",
       "Name           0\n",
       "Sex            0\n",
       "Age            0\n",
       "SibSp          0\n",
       "Parch          0\n",
       "Ticket         0\n",
       "Fare           0\n",
       "Cabin          0\n",
       "Embarked       0\n",
       "dtype: int64"
      ]
     },
     "execution_count": null,
     "metadata": {},
     "output_type": "execute_result"
    }
   ],
   "source": [
    "df.fillna(modes, inplace=True)\n",
    "df.isna().sum()"
   ]
  },
  {
   "cell_type": "markdown",
   "id": "28c91d9d-51ab-4908-8066-917e5bb426e9",
   "metadata": {},
   "source": [
    "Here we go - no more missing values."
   ]
  },
  {
   "cell_type": "code",
   "execution_count": null,
   "id": "42593686-ad9a-43ce-8a15-7640bc929ce9",
   "metadata": {},
   "outputs": [
    {
     "data": {
      "text/html": [
       "<div>\n",
       "<style scoped>\n",
       "    .dataframe tbody tr th:only-of-type {\n",
       "        vertical-align: middle;\n",
       "    }\n",
       "\n",
       "    .dataframe tbody tr th {\n",
       "        vertical-align: top;\n",
       "    }\n",
       "\n",
       "    .dataframe thead th {\n",
       "        text-align: right;\n",
       "    }\n",
       "</style>\n",
       "<table border=\"1\" class=\"dataframe\">\n",
       "  <thead>\n",
       "    <tr style=\"text-align: right;\">\n",
       "      <th></th>\n",
       "      <th>PassengerId</th>\n",
       "      <th>Survived</th>\n",
       "      <th>Pclass</th>\n",
       "      <th>Age</th>\n",
       "      <th>SibSp</th>\n",
       "      <th>Parch</th>\n",
       "      <th>Fare</th>\n",
       "    </tr>\n",
       "  </thead>\n",
       "  <tbody>\n",
       "    <tr>\n",
       "      <th>count</th>\n",
       "      <td>891.000000</td>\n",
       "      <td>891.000000</td>\n",
       "      <td>891.000000</td>\n",
       "      <td>891.000000</td>\n",
       "      <td>891.000000</td>\n",
       "      <td>891.000000</td>\n",
       "      <td>891.000000</td>\n",
       "    </tr>\n",
       "    <tr>\n",
       "      <th>mean</th>\n",
       "      <td>446.000000</td>\n",
       "      <td>0.383838</td>\n",
       "      <td>2.308642</td>\n",
       "      <td>28.566970</td>\n",
       "      <td>0.523008</td>\n",
       "      <td>0.381594</td>\n",
       "      <td>32.204208</td>\n",
       "    </tr>\n",
       "    <tr>\n",
       "      <th>std</th>\n",
       "      <td>257.353842</td>\n",
       "      <td>0.486592</td>\n",
       "      <td>0.836071</td>\n",
       "      <td>13.199572</td>\n",
       "      <td>1.102743</td>\n",
       "      <td>0.806057</td>\n",
       "      <td>49.693429</td>\n",
       "    </tr>\n",
       "    <tr>\n",
       "      <th>min</th>\n",
       "      <td>1.000000</td>\n",
       "      <td>0.000000</td>\n",
       "      <td>1.000000</td>\n",
       "      <td>0.420000</td>\n",
       "      <td>0.000000</td>\n",
       "      <td>0.000000</td>\n",
       "      <td>0.000000</td>\n",
       "    </tr>\n",
       "    <tr>\n",
       "      <th>25%</th>\n",
       "      <td>223.500000</td>\n",
       "      <td>0.000000</td>\n",
       "      <td>2.000000</td>\n",
       "      <td>22.000000</td>\n",
       "      <td>0.000000</td>\n",
       "      <td>0.000000</td>\n",
       "      <td>7.910400</td>\n",
       "    </tr>\n",
       "    <tr>\n",
       "      <th>50%</th>\n",
       "      <td>446.000000</td>\n",
       "      <td>0.000000</td>\n",
       "      <td>3.000000</td>\n",
       "      <td>24.000000</td>\n",
       "      <td>0.000000</td>\n",
       "      <td>0.000000</td>\n",
       "      <td>14.454200</td>\n",
       "    </tr>\n",
       "    <tr>\n",
       "      <th>75%</th>\n",
       "      <td>668.500000</td>\n",
       "      <td>1.000000</td>\n",
       "      <td>3.000000</td>\n",
       "      <td>35.000000</td>\n",
       "      <td>1.000000</td>\n",
       "      <td>0.000000</td>\n",
       "      <td>31.000000</td>\n",
       "    </tr>\n",
       "    <tr>\n",
       "      <th>max</th>\n",
       "      <td>891.000000</td>\n",
       "      <td>1.000000</td>\n",
       "      <td>3.000000</td>\n",
       "      <td>80.000000</td>\n",
       "      <td>8.000000</td>\n",
       "      <td>6.000000</td>\n",
       "      <td>512.329200</td>\n",
       "    </tr>\n",
       "  </tbody>\n",
       "</table>\n",
       "</div>"
      ],
      "text/plain": [
       "       PassengerId    Survived      Pclass         Age       SibSp       Parch        Fare\n",
       "count   891.000000  891.000000  891.000000  891.000000  891.000000  891.000000  891.000000\n",
       "mean    446.000000    0.383838    2.308642   28.566970    0.523008    0.381594   32.204208\n",
       "std     257.353842    0.486592    0.836071   13.199572    1.102743    0.806057   49.693429\n",
       "min       1.000000    0.000000    1.000000    0.420000    0.000000    0.000000    0.000000\n",
       "25%     223.500000    0.000000    2.000000   22.000000    0.000000    0.000000    7.910400\n",
       "50%     446.000000    0.000000    3.000000   24.000000    0.000000    0.000000   14.454200\n",
       "75%     668.500000    1.000000    3.000000   35.000000    1.000000    0.000000   31.000000\n",
       "max     891.000000    1.000000    3.000000   80.000000    8.000000    6.000000  512.329200"
      ]
     },
     "execution_count": null,
     "metadata": {},
     "output_type": "execute_result"
    }
   ],
   "source": [
    "df.describe(include=(np.number))"
   ]
  },
  {
   "cell_type": "code",
   "execution_count": null,
   "id": "dc93a00c-ba4d-41f0-a31c-937386d683a0",
   "metadata": {},
   "outputs": [
    {
     "data": {
      "text/plain": [
       "<AxesSubplot:>"
      ]
     },
     "execution_count": null,
     "metadata": {},
     "output_type": "execute_result"
    },
    {
     "data": {
      "image/png": "[encoded data removed]",
      "text/plain": [
       "<Figure size 432x288 with 1 Axes>"
      ]
     },
     "metadata": {
      "needs_background": "light"
     },
     "output_type": "display_data"
    }
   ],
   "source": [
    "df['Fare'].hist()"
   ]
  },
  {
   "cell_type": "markdown",
   "id": "d8cdbe0a-7672-4226-a7bf-55f012458531",
   "metadata": {},
   "source": [
    "As we can see, Fare is not equally distributed compared to the other variables, so lets take the log of that:"
   ]
  },
  {
   "cell_type": "code",
   "execution_count": null,
   "id": "72be8adc-7f83-4aba-a394-d2ec1979551d",
   "metadata": {},
   "outputs": [],
   "source": [
    "df['LogFare'] = np.log(df['Fare']+1)"
   ]
  },
  {
   "cell_type": "code",
   "execution_count": null,
   "id": "2c540781-a31f-4569-98dc-100025f6e818",
   "metadata": {},
   "outputs": [
    {
     "data": {
      "text/plain": [
       "<AxesSubplot:>"
      ]
     },
     "execution_count": null,
     "metadata": {},
     "output_type": "execute_result"
    },
    {
     "data": {
      "image/png": "[encoded data removed]",
      "text/plain": [
       "<Figure size 432x288 with 1 Axes>"
      ]
     },
     "metadata": {
      "needs_background": "light"
     },
     "output_type": "display_data"
    }
   ],
   "source": [
    "df['LogFare'].hist()"
   ]
  },
  {
   "cell_type": "code",
   "execution_count": null,
   "id": "b0b149dd-6580-40d2-87ca-c452379f28eb",
   "metadata": {},
   "outputs": [
    {
     "data": {
      "text/plain": [
       "array([3, 1, 2])"
      ]
     },
     "execution_count": null,
     "metadata": {},
     "output_type": "execute_result"
    }
   ],
   "source": [
    "df.Pclass.unique()"
   ]
  },
  {
   "cell_type": "code",
   "execution_count": null,
   "id": "ca08e83f-7ac1-424e-acd5-2be81a20a743",
   "metadata": {},
   "outputs": [
    {
     "data": {
      "text/html": [
       "<div>\n",
       "<style scoped>\n",
       "    .dataframe tbody tr th:only-of-type {\n",
       "        vertical-align: middle;\n",
       "    }\n",
       "\n",
       "    .dataframe tbody tr th {\n",
       "        vertical-align: top;\n",
       "    }\n",
       "\n",
       "    .dataframe thead th {\n",
       "        text-align: right;\n",
       "    }\n",
       "</style>\n",
       "<table border=\"1\" class=\"dataframe\">\n",
       "  <thead>\n",
       "    <tr style=\"text-align: right;\">\n",
       "      <th></th>\n",
       "      <th>Name</th>\n",
       "      <th>Sex</th>\n",
       "      <th>Ticket</th>\n",
       "      <th>Cabin</th>\n",
       "      <th>Embarked</th>\n",
       "    </tr>\n",
       "  </thead>\n",
       "  <tbody>\n",
       "    <tr>\n",
       "      <th>count</th>\n",
       "      <td>891</td>\n",
       "      <td>891</td>\n",
       "      <td>891</td>\n",
       "      <td>891</td>\n",
       "      <td>891</td>\n",
       "    </tr>\n",
       "    <tr>\n",
       "      <th>unique</th>\n",
       "      <td>891</td>\n",
       "      <td>2</td>\n",
       "      <td>681</td>\n",
       "      <td>147</td>\n",
       "      <td>3</td>\n",
       "    </tr>\n",
       "    <tr>\n",
       "      <th>top</th>\n",
       "      <td>Braund, Mr. Owen Harris</td>\n",
       "      <td>male</td>\n",
       "      <td>347082</td>\n",
       "      <td>B96 B98</td>\n",
       "      <td>S</td>\n",
       "    </tr>\n",
       "    <tr>\n",
       "      <th>freq</th>\n",
       "      <td>1</td>\n",
       "      <td>577</td>\n",
       "      <td>7</td>\n",
       "      <td>691</td>\n",
       "      <td>646</td>\n",
       "    </tr>\n",
       "  </tbody>\n",
       "</table>\n",
       "</div>"
      ],
      "text/plain": [
       "                           Name   Sex  Ticket    Cabin Embarked\n",
       "count                       891   891     891      891      891\n",
       "unique                      891     2     681      147        3\n",
       "top     Braund, Mr. Owen Harris  male  347082  B96 B98        S\n",
       "freq                          1   577       7      691      646"
      ]
     },
     "execution_count": null,
     "metadata": {},
     "output_type": "execute_result"
    }
   ],
   "source": [
    "df.describe(include=[object])"
   ]
  },
  {
   "cell_type": "markdown",
   "id": "f59e7d45-3abc-4eaf-9078-0c5b04db23b8",
   "metadata": {},
   "source": [
    "Now, we can't mulitply non-numbers by coefficients, so let's replace categories like Male and Female with numbers instead."
   ]
  },
  {
   "cell_type": "code",
   "execution_count": null,
   "id": "a953a188-628a-49cb-9e15-2fdd3ada1b52",
   "metadata": {},
   "outputs": [
    {
     "data": {
      "text/html": [
       "<div>\n",
       "<style scoped>\n",
       "    .dataframe tbody tr th:only-of-type {\n",
       "        vertical-align: middle;\n",
       "    }\n",
       "\n",
       "    .dataframe tbody tr th {\n",
       "        vertical-align: top;\n",
       "    }\n",
       "\n",
       "    .dataframe thead th {\n",
       "        text-align: right;\n",
       "    }\n",
       "</style>\n",
       "<table border=\"1\" class=\"dataframe\">\n",
       "  <thead>\n",
       "    <tr style=\"text-align: right;\">\n",
       "      <th></th>\n",
       "      <th>PassengerId</th>\n",
       "      <th>Survived</th>\n",
       "      <th>Name</th>\n",
       "      <th>Age</th>\n",
       "      <th>SibSp</th>\n",
       "      <th>Parch</th>\n",
       "      <th>Ticket</th>\n",
       "      <th>Fare</th>\n",
       "      <th>Cabin</th>\n",
       "      <th>LogFare</th>\n",
       "      <th>Sex_female</th>\n",
       "      <th>Sex_male</th>\n",
       "      <th>Pclass_1</th>\n",
       "      <th>Pclass_2</th>\n",
       "      <th>Pclass_3</th>\n",
       "      <th>Embarked_C</th>\n",
       "      <th>Embarked_Q</th>\n",
       "      <th>Embarked_S</th>\n",
       "    </tr>\n",
       "  </thead>\n",
       "  <tbody>\n",
       "    <tr>\n",
       "      <th>0</th>\n",
       "      <td>1</td>\n",
       "      <td>0</td>\n",
       "      <td>Braund, Mr. Owen Harris</td>\n",
       "      <td>22.0</td>\n",
       "      <td>1</td>\n",
       "      <td>0</td>\n",
       "      <td>A/5 21171</td>\n",
       "      <td>7.2500</td>\n",
       "      <td>B96 B98</td>\n",
       "      <td>2.110213</td>\n",
       "      <td>0</td>\n",
       "      <td>1</td>\n",
       "      <td>0</td>\n",
       "      <td>0</td>\n",
       "      <td>1</td>\n",
       "      <td>0</td>\n",
       "      <td>0</td>\n",
       "      <td>1</td>\n",
       "    </tr>\n",
       "    <tr>\n",
       "      <th>1</th>\n",
       "      <td>2</td>\n",
       "      <td>1</td>\n",
       "      <td>Cumings, Mrs. John Bradley (Florence Briggs Thayer)</td>\n",
       "      <td>38.0</td>\n",
       "      <td>1</td>\n",
       "      <td>0</td>\n",
       "      <td>PC 17599</td>\n",
       "      <td>71.2833</td>\n",
       "      <td>C85</td>\n",
       "      <td>4.280593</td>\n",
       "      <td>1</td>\n",
       "      <td>0</td>\n",
       "      <td>1</td>\n",
       "      <td>0</td>\n",
       "      <td>0</td>\n",
       "      <td>1</td>\n",
       "      <td>0</td>\n",
       "      <td>0</td>\n",
       "    </tr>\n",
       "    <tr>\n",
       "      <th>2</th>\n",
       "      <td>3</td>\n",
       "      <td>1</td>\n",
       "      <td>Heikkinen, Miss. Laina</td>\n",
       "      <td>26.0</td>\n",
       "      <td>0</td>\n",
       "      <td>0</td>\n",
       "      <td>STON/O2. 3101282</td>\n",
       "      <td>7.9250</td>\n",
       "      <td>B96 B98</td>\n",
       "      <td>2.188856</td>\n",
       "      <td>1</td>\n",
       "      <td>0</td>\n",
       "      <td>0</td>\n",
       "      <td>0</td>\n",
       "      <td>1</td>\n",
       "      <td>0</td>\n",
       "      <td>0</td>\n",
       "      <td>1</td>\n",
       "    </tr>\n",
       "    <tr>\n",
       "      <th>3</th>\n",
       "      <td>4</td>\n",
       "      <td>1</td>\n",
       "      <td>Futrelle, Mrs. Jacques Heath (Lily May Peel)</td>\n",
       "      <td>35.0</td>\n",
       "      <td>1</td>\n",
       "      <td>0</td>\n",
       "      <td>113803</td>\n",
       "      <td>53.1000</td>\n",
       "      <td>C123</td>\n",
       "      <td>3.990834</td>\n",
       "      <td>1</td>\n",
       "      <td>0</td>\n",
       "      <td>1</td>\n",
       "      <td>0</td>\n",
       "      <td>0</td>\n",
       "      <td>0</td>\n",
       "      <td>0</td>\n",
       "      <td>1</td>\n",
       "    </tr>\n",
       "    <tr>\n",
       "      <th>4</th>\n",
       "      <td>5</td>\n",
       "      <td>0</td>\n",
       "      <td>Allen, Mr. William Henry</td>\n",
       "      <td>35.0</td>\n",
       "      <td>0</td>\n",
       "      <td>0</td>\n",
       "      <td>373450</td>\n",
       "      <td>8.0500</td>\n",
       "      <td>B96 B98</td>\n",
       "      <td>2.202765</td>\n",
       "      <td>0</td>\n",
       "      <td>1</td>\n",
       "      <td>0</td>\n",
       "      <td>0</td>\n",
       "      <td>1</td>\n",
       "      <td>0</td>\n",
       "      <td>0</td>\n",
       "      <td>1</td>\n",
       "    </tr>\n",
       "    <tr>\n",
       "      <th>...</th>\n",
       "      <td>...</td>\n",
       "      <td>...</td>\n",
       "      <td>...</td>\n",
       "      <td>...</td>\n",
       "      <td>...</td>\n",
       "      <td>...</td>\n",
       "      <td>...</td>\n",
       "      <td>...</td>\n",
       "      <td>...</td>\n",
       "      <td>...</td>\n",
       "      <td>...</td>\n",
       "      <td>...</td>\n",
       "      <td>...</td>\n",
       "      <td>...</td>\n",
       "      <td>...</td>\n",
       "      <td>...</td>\n",
       "      <td>...</td>\n",
       "      <td>...</td>\n",
       "    </tr>\n",
       "    <tr>\n",
       "      <th>886</th>\n",
       "      <td>887</td>\n",
       "      <td>0</td>\n",
       "      <td>Montvila, Rev. Juozas</td>\n",
       "      <td>27.0</td>\n",
       "      <td>0</td>\n",
       "      <td>0</td>\n",
       "      <td>211536</td>\n",
       "      <td>13.0000</td>\n",
       "      <td>B96 B98</td>\n",
       "      <td>2.639057</td>\n",
       "      <td>0</td>\n",
       "      <td>1</td>\n",
       "      <td>0</td>\n",
       "      <td>1</td>\n",
       "      <td>0</td>\n",
       "      <td>0</td>\n",
       "      <td>0</td>\n",
       "      <td>1</td>\n",
       "    </tr>\n",
       "    <tr>\n",
       "      <th>887</th>\n",
       "      <td>888</td>\n",
       "      <td>1</td>\n",
       "      <td>Graham, Miss. Margaret Edith</td>\n",
       "      <td>19.0</td>\n",
       "      <td>0</td>\n",
       "      <td>0</td>\n",
       "      <td>112053</td>\n",
       "      <td>30.0000</td>\n",
       "      <td>B42</td>\n",
       "      <td>3.433987</td>\n",
       "      <td>1</td>\n",
       "      <td>0</td>\n",
       "      <td>1</td>\n",
       "      <td>0</td>\n",
       "      <td>0</td>\n",
       "      <td>0</td>\n",
       "      <td>0</td>\n",
       "      <td>1</td>\n",
       "    </tr>\n",
       "    <tr>\n",
       "      <th>888</th>\n",
       "      <td>889</td>\n",
       "      <td>0</td>\n",
       "      <td>Johnston, Miss. Catherine Helen \"Carrie\"</td>\n",
       "      <td>24.0</td>\n",
       "      <td>1</td>\n",
       "      <td>2</td>\n",
       "      <td>W./C. 6607</td>\n",
       "      <td>23.4500</td>\n",
       "      <td>B96 B98</td>\n",
       "      <td>3.196630</td>\n",
       "      <td>1</td>\n",
       "      <td>0</td>\n",
       "      <td>0</td>\n",
       "      <td>0</td>\n",
       "      <td>1</td>\n",
       "      <td>0</td>\n",
       "      <td>0</td>\n",
       "      <td>1</td>\n",
       "    </tr>\n",
       "    <tr>\n",
       "      <th>889</th>\n",
       "      <td>890</td>\n",
       "      <td>1</td>\n",
       "      <td>Behr, Mr. Karl Howell</td>\n",
       "      <td>26.0</td>\n",
       "      <td>0</td>\n",
       "      <td>0</td>\n",
       "      <td>111369</td>\n",
       "      <td>30.0000</td>\n",
       "      <td>C148</td>\n",
       "      <td>3.433987</td>\n",
       "      <td>0</td>\n",
       "      <td>1</td>\n",
       "      <td>1</td>\n",
       "      <td>0</td>\n",
       "      <td>0</td>\n",
       "      <td>1</td>\n",
       "      <td>0</td>\n",
       "      <td>0</td>\n",
       "    </tr>\n",
       "    <tr>\n",
       "      <th>890</th>\n",
       "      <td>891</td>\n",
       "      <td>0</td>\n",
       "      <td>Dooley, Mr. Patrick</td>\n",
       "      <td>32.0</td>\n",
       "      <td>0</td>\n",
       "      <td>0</td>\n",
       "      <td>370376</td>\n",
       "      <td>7.7500</td>\n",
       "      <td>B96 B98</td>\n",
       "      <td>2.169054</td>\n",
       "      <td>0</td>\n",
       "      <td>1</td>\n",
       "      <td>0</td>\n",
       "      <td>0</td>\n",
       "      <td>1</td>\n",
       "      <td>0</td>\n",
       "      <td>1</td>\n",
       "      <td>0</td>\n",
       "    </tr>\n",
       "  </tbody>\n",
       "</table>\n",
       "<p>891 rows × 18 columns</p>\n",
       "</div>"
      ],
      "text/plain": [
       "     PassengerId  Survived                                                 Name   Age  SibSp  Parch            Ticket     Fare    Cabin  \\\n",
       "0              1         0                              Braund, Mr. Owen Harris  22.0      1      0         A/5 21171   7.2500  B96 B98   \n",
       "1              2         1  Cumings, Mrs. John Bradley (Florence Briggs Thayer)  38.0      1      0          PC 17599  71.2833      C85   \n",
       "2              3         1                               Heikkinen, Miss. Laina  26.0      0      0  STON/O2. 3101282   7.9250  B96 B98   \n",
       "3              4         1         Futrelle, Mrs. Jacques Heath (Lily May Peel)  35.0      1      0            113803  53.1000     C123   \n",
       "4              5         0                             Allen, Mr. William Henry  35.0      0      0            373450   8.0500  B96 B98   \n",
       "..           ...       ...                                                  ...   ...    ...    ...               ...      ...      ...   \n",
       "886          887         0                                Montvila, Rev. Juozas  27.0      0      0            211536  13.0000  B96 B98   \n",
       "887          888         1                         Graham, Miss. Margaret Edith  19.0      0      0            112053  30.0000      B42   \n",
       "888          889         0             Johnston, Miss. Catherine Helen \"Carrie\"  24.0      1      2        W./C. 6607  23.4500  B96 B98   \n",
       "889          890         1                                Behr, Mr. Karl Howell  26.0      0      0            111369  30.0000     C148   \n",
       "890          891         0                                  Dooley, Mr. Patrick  32.0      0      0            370376   7.7500  B96 B98   \n",
       "\n",
       "      LogFare  Sex_female  Sex_male  Pclass_1  Pclass_2  Pclass_3  Embarked_C  Embarked_Q  Embarked_S  \n",
       "0    2.110213           0         1         0         0         1           0           0           1  \n",
       "1    4.280593           1         0         1         0         0           1           0           0  \n",
       "2    2.188856           1         0         0         0         1           0           0           1  \n",
       "3    3.990834           1         0         1         0         0           0           0           1  \n",
       "4    2.202765           0         1         0         0         1           0           0           1  \n",
       "..        ...         ...       ...       ...       ...       ...         ...         ...         ...  \n",
       "886  2.639057           0         1         0         1         0           0           0           1  \n",
       "887  3.433987           1         0         1         0         0           0           0           1  \n",
       "888  3.196630           1         0         0         0         1           0           0           1  \n",
       "889  3.433987           0         1         1         0         0           1           0           0  \n",
       "890  2.169054           0         1         0         0         1           0           1           0  \n",
       "\n",
       "[891 rows x 18 columns]"
      ]
     },
     "execution_count": null,
     "metadata": {},
     "output_type": "execute_result"
    }
   ],
   "source": [
    "df = pd.get_dummies(df, columns=['Sex','Pclass','Embarked'])\n",
    "df"
   ]
  },
  {
   "cell_type": "markdown",
   "id": "f55899e7-8eb6-4652-b298-cdfc2061b724",
   "metadata": {},
   "source": [
    "Note how this `get_dummies` function removed the original columns and included the new ones."
   ]
  },
  {
   "cell_type": "code",
   "execution_count": null,
   "id": "0926cb87-113a-467d-8d0d-b5f74f552bf1",
   "metadata": {},
   "outputs": [
    {
     "data": {
      "text/html": [
       "<div>\n",
       "<style scoped>\n",
       "    .dataframe tbody tr th:only-of-type {\n",
       "        vertical-align: middle;\n",
       "    }\n",
       "\n",
       "    .dataframe tbody tr th {\n",
       "        vertical-align: top;\n",
       "    }\n",
       "\n",
       "    .dataframe thead th {\n",
       "        text-align: right;\n",
       "    }\n",
       "</style>\n",
       "<table border=\"1\" class=\"dataframe\">\n",
       "  <thead>\n",
       "    <tr style=\"text-align: right;\">\n",
       "      <th></th>\n",
       "      <th>Sex_male</th>\n",
       "      <th>Sex_female</th>\n",
       "      <th>Pclass_1</th>\n",
       "      <th>Pclass_2</th>\n",
       "      <th>Pclass_3</th>\n",
       "      <th>Embarked_C</th>\n",
       "      <th>Embarked_Q</th>\n",
       "      <th>Embarked_S</th>\n",
       "    </tr>\n",
       "  </thead>\n",
       "  <tbody>\n",
       "    <tr>\n",
       "      <th>0</th>\n",
       "      <td>1</td>\n",
       "      <td>0</td>\n",
       "      <td>0</td>\n",
       "      <td>0</td>\n",
       "      <td>1</td>\n",
       "      <td>0</td>\n",
       "      <td>0</td>\n",
       "      <td>1</td>\n",
       "    </tr>\n",
       "    <tr>\n",
       "      <th>1</th>\n",
       "      <td>0</td>\n",
       "      <td>1</td>\n",
       "      <td>1</td>\n",
       "      <td>0</td>\n",
       "      <td>0</td>\n",
       "      <td>1</td>\n",
       "      <td>0</td>\n",
       "      <td>0</td>\n",
       "    </tr>\n",
       "    <tr>\n",
       "      <th>2</th>\n",
       "      <td>0</td>\n",
       "      <td>1</td>\n",
       "      <td>0</td>\n",
       "      <td>0</td>\n",
       "      <td>1</td>\n",
       "      <td>0</td>\n",
       "      <td>0</td>\n",
       "      <td>1</td>\n",
       "    </tr>\n",
       "    <tr>\n",
       "      <th>3</th>\n",
       "      <td>0</td>\n",
       "      <td>1</td>\n",
       "      <td>1</td>\n",
       "      <td>0</td>\n",
       "      <td>0</td>\n",
       "      <td>0</td>\n",
       "      <td>0</td>\n",
       "      <td>1</td>\n",
       "    </tr>\n",
       "    <tr>\n",
       "      <th>4</th>\n",
       "      <td>1</td>\n",
       "      <td>0</td>\n",
       "      <td>0</td>\n",
       "      <td>0</td>\n",
       "      <td>1</td>\n",
       "      <td>0</td>\n",
       "      <td>0</td>\n",
       "      <td>1</td>\n",
       "    </tr>\n",
       "  </tbody>\n",
       "</table>\n",
       "</div>"
      ],
      "text/plain": [
       "   Sex_male  Sex_female  Pclass_1  Pclass_2  Pclass_3  Embarked_C  Embarked_Q  Embarked_S\n",
       "0         1           0         0         0         1           0           0           1\n",
       "1         0           1         1         0         0           1           0           0\n",
       "2         0           1         0         0         1           0           0           1\n",
       "3         0           1         1         0         0           0           0           1\n",
       "4         1           0         0         0         1           0           0           1"
      ]
     },
     "execution_count": null,
     "metadata": {},
     "output_type": "execute_result"
    }
   ],
   "source": [
    "added_cols = ['Sex_male', 'Sex_female', 'Pclass_1', 'Pclass_2', 'Pclass_3', 'Embarked_C', 'Embarked_Q', 'Embarked_S']\n",
    "df[added_cols].head()"
   ]
  },
  {
   "cell_type": "markdown",
   "id": "e5ea1087-373c-4813-83ac-e84962c0182c",
   "metadata": {},
   "source": [
    "## Prepare dependent and independent variables\n",
    "\n",
    "Our dependent variable is easy: we're trying to predict if someone survived Titanic:"
   ]
  },
  {
   "cell_type": "code",
   "execution_count": null,
   "id": "2d99df6c-6aea-4926-b8f5-7eff95710b86",
   "metadata": {},
   "outputs": [
    {
     "data": {
      "text/plain": [
       "tensor([0, 1, 1, 1, 0, 0, 0, 0, 1, 1, 1, 1, 0, 0, 0, 1, 0, 1, 0, 1, 0, 1, 1, 1, 0, 1, 0, 0, 1, 0, 0, 1, 1, 0, 0, 0, 1, 0, 0, 1, 0, 0, 0, 1,\n",
       "        1, 0, 0, 1, 0, 0, 0, 0, 1, 1, 0, 1, 1, 0, 1, 0, 0, 1, 0, 0, 0, 1, 1, 0, 1, 0, 0, 0, 0, 0, 1, 0, 0, 0, 1, 1, 0, 1, 1, 0, 1, 1, 0, 0,\n",
       "        1, 0, 0, 0, 0, 0, 0, 0, 0, 1, 1, 0, 0, 0, 0, 0, 0, 0, 1, 1, 0, 1, 0, 0, 0, 0, 0, 0, 0, 0, 0, 0, 0, 0, 0, 1, 0, 1, 0, 1, 1, 0, 0, 0,\n",
       "        0, 1, 0, 0, 1, 0, 0, 0, 0, 1, 1, 0, 0, 0, 1, 0, 0, 0, 0, 1, 0, 0, 0, 0, 1, 0, 0, 0, 0, 1, 0, 0, 0, 1, 1, 0, 0, 0, 0, 0, 1, 0, 0, 0,\n",
       "        0, 0, 0, 0, 0, 0, 0, 1, 1, 0, 1, 1, 0, 0, 1, 0, 1, 1, 1, 1, 0, 0, 1, 0, 0, 0, 0, 0, 1, 0, 0, 1, 1, 1, 0, 1, 0, 0, 0, 1, 1, 0, 1, 0,\n",
       "        1, 0, 0, 0, 1, 0, 1, 0, 0, 0, 1, 0, 0, 1, 0, 0, 0, 1, 0, 0, 0, 1, 0, 0, 0, 0, 0, 1, 1, 0, 0, 0, 0, 0, 0, 1, 1, 1, 1, 1, 0, 1, 0, 0,\n",
       "        0, 0, 0, 1, 1, 1, 0, 1, 1, 0, 1, 1, 0, 0, 0, 1, 0, 0, 0, 1, 0, 0, 1, 0, 1, 1, 1, 1, 0, 0, 0, 0, 0, 0, 1, 1, 1, 1, 0, 1, 0, 1, 1, 1,\n",
       "        0, 1, 1, 1, 0, 0, 0, 1, 1, 0, 1, 1, 0, 0, 1, 1, 0, 1, 0, 1, 1, 1, 1, 0, 0, 0, 1, 0, 0, 1, 1, 0, 1, 1, 0, 0, 0, 1, 1, 1, 1, 0, 0, 0,\n",
       "        0, 0, 0, 0, 1, 0, 1, 1, 0, 0, 0, 0, 0, 0, 1, 1, 1, 1, 1, 0, 0, 0, 0, 1, 1, 0, 0, 0, 1, 1, 0, 1, 0, 0, 0, 1, 0, 1, 1, 1, 0, 1, 1, 0,\n",
       "        0, 0, 0, 1, 1, 0, 0, 0, 0, 0, 0, 1, 0, 0, 0, 0, 1, 0, 1, 0, 1, 1, 0, 0, 0, 0, 0, 0, 0, 0, 1, 1, 0, 1, 1, 1, 1, 0, 0, 1, 0, 1, 0, 0,\n",
       "        1, 0, 0, 1, 1, 1, 1, 1, 1, 1, 0, 0, 0, 1, 0, 1, 0, 1, 1, 0, 1, 0, 0, 0, 0, 0, 0, 0, 0, 1, 0, 0, 1, 1, 0, 0, 0, 0, 0, 1, 0, 0, 0, 1,\n",
       "        1, 0, 1, 0, 0, 1, 0, 0, 0, 0, 0, 0, 1, 0, 0, 0, 0, 0, 0, 0, 1, 0, 1, 1, 0, 1, 1, 0, 1, 1, 0, 0, 1, 0, 1, 0, 1, 0, 0, 1, 0, 0, 1, 0,\n",
       "        0, 0, 1, 0, 0, 1, 0, 1, 0, 1, 0, 1, 1, 0, 0, 1, 0, 0, 1, 1, 0, 1, 1, 0, 0, 1, 1, 0, 1, 0, 1, 1, 0, 0, 0, 0, 0, 0, 0, 0, 0, 1, 1, 1,\n",
       "        1, 1, 0, 0, 1, 1, 0, 1, 1, 1, 0, 0, 0, 1, 0, 1, 0, 0, 0, 1, 0, 0, 0, 0, 1, 0, 0, 1, 1, 0, 0, 0, 1, 0, 0, 1, 1, 1, 0, 0, 1, 0, 0, 1,\n",
       "        0, 0, 1, 0, 0, 1, 1, 0, 0, 0, 0, 1, 0, 0, 1, 0, 1, 0, 0, 1, 0, 0, 0, 0, 0, 1, 0, 1, 1, 1, 0, 1, 0, 1, 0, 1, 0, 1, 0, 0, 0, 0, 0, 0,\n",
       "        1, 0, 0, 0, 1, 0, 0, 0, 0, 1, 1, 0, 0, 1, 0, 0, 0, 1, 0, 1, 0, 1, 0, 0, 0, 0, 0, 0, 0, 1, 1, 1, 1, 0, 0, 0, 0, 1, 0, 0, 1, 1, 0, 0,\n",
       "        0, 0, 1, 1, 1, 1, 1, 0, 1, 0, 0, 0, 1, 1, 0, 0, 1, 0, 0, 0, 1, 0, 1, 1, 0, 0, 1, 0, 0, 0, 0, 0, 0, 1, 0, 0, 1, 0, 1, 0, 1, 0, 0, 1,\n",
       "        0, 0, 1, 1, 0, 0, 1, 1, 0, 0, 0, 1, 0, 0, 1, 1, 0, 1, 0, 0, 0, 0, 0, 0, 0, 0, 1, 0, 0, 1, 0, 1, 1, 1, 0, 0, 0, 0, 1, 0, 1, 0, 0, 0,\n",
       "        0, 0, 0, 0, 1, 1, 0, 0, 0, 1, 1, 1, 1, 0, 0, 0, 0, 1, 0, 0, 0, 0, 0, 0, 0, 0, 0, 0, 1, 1, 0, 1, 0, 0, 0, 1, 1, 1, 1, 1, 0, 0, 0, 1,\n",
       "        0, 0, 1, 1, 0, 0, 1, 0, 0, 0, 0, 0, 0, 1, 0, 0, 0, 1, 0, 1, 1, 1, 1, 0, 0, 0, 1, 0, 0, 1, 1, 0, 0, 1, 0, 1, 0, 0, 1, 1, 0, 0, 0, 1,\n",
       "        1, 0, 0, 0, 0, 0, 0, 1, 0, 1, 0])"
      ]
     },
     "execution_count": null,
     "metadata": {},
     "output_type": "execute_result"
    }
   ],
   "source": [
    "from torch import tensor\n",
    "t_dep = tensor(df.Survived)\n",
    "t_dep"
   ]
  },
  {
   "cell_type": "markdown",
   "id": "1b2c80de-c136-4319-95d9-0e542ab851b1",
   "metadata": {},
   "source": [
    "Our independent variables are all the columns we want to use to predict the outcome with:"
   ]
  },
  {
   "cell_type": "code",
   "execution_count": null,
   "id": "1377d0d3-d42f-4bb4-83f5-c4e8e61ee9ae",
   "metadata": {},
   "outputs": [
    {
     "data": {
      "text/plain": [
       "['Age',\n",
       " 'SibSp',\n",
       " 'Parch',\n",
       " 'LogFare',\n",
       " 'Sex_male',\n",
       " 'Sex_female',\n",
       " 'Pclass_1',\n",
       " 'Pclass_2',\n",
       " 'Pclass_3',\n",
       " 'Embarked_C',\n",
       " 'Embarked_Q',\n",
       " 'Embarked_S']"
      ]
     },
     "execution_count": null,
     "metadata": {},
     "output_type": "execute_result"
    }
   ],
   "source": [
    "indep_cols = ['Age','SibSp','Parch', 'LogFare'] + added_cols\n",
    "indep_cols"
   ]
  },
  {
   "cell_type": "code",
   "execution_count": null,
   "id": "50fe9d8c-b564-4d93-a43e-1db0981d20f9",
   "metadata": {},
   "outputs": [
    {
     "data": {
      "text/plain": [
       "tensor([[22.0000,  1.0000,  0.0000,  2.1102,  1.0000,  0.0000,  0.0000,  0.0000,  1.0000,  0.0000,  0.0000,  1.0000],\n",
       "        [38.0000,  1.0000,  0.0000,  4.2806,  0.0000,  1.0000,  1.0000,  0.0000,  0.0000,  1.0000,  0.0000,  0.0000],\n",
       "        [26.0000,  0.0000,  0.0000,  2.1889,  0.0000,  1.0000,  0.0000,  0.0000,  1.0000,  0.0000,  0.0000,  1.0000],\n",
       "        [35.0000,  1.0000,  0.0000,  3.9908,  0.0000,  1.0000,  1.0000,  0.0000,  0.0000,  0.0000,  0.0000,  1.0000],\n",
       "        [35.0000,  0.0000,  0.0000,  2.2028,  1.0000,  0.0000,  0.0000,  0.0000,  1.0000,  0.0000,  0.0000,  1.0000],\n",
       "        [24.0000,  0.0000,  0.0000,  2.2469,  1.0000,  0.0000,  0.0000,  0.0000,  1.0000,  0.0000,  1.0000,  0.0000],\n",
       "        [54.0000,  0.0000,  0.0000,  3.9677,  1.0000,  0.0000,  1.0000,  0.0000,  0.0000,  0.0000,  0.0000,  1.0000],\n",
       "        ...,\n",
       "        [25.0000,  0.0000,  0.0000,  2.0857,  1.0000,  0.0000,  0.0000,  0.0000,  1.0000,  0.0000,  0.0000,  1.0000],\n",
       "        [39.0000,  0.0000,  5.0000,  3.4054,  0.0000,  1.0000,  0.0000,  0.0000,  1.0000,  0.0000,  1.0000,  0.0000],\n",
       "        [27.0000,  0.0000,  0.0000,  2.6391,  1.0000,  0.0000,  0.0000,  1.0000,  0.0000,  0.0000,  0.0000,  1.0000],\n",
       "        [19.0000,  0.0000,  0.0000,  3.4340,  0.0000,  1.0000,  1.0000,  0.0000,  0.0000,  0.0000,  0.0000,  1.0000],\n",
       "        [24.0000,  1.0000,  2.0000,  3.1966,  0.0000,  1.0000,  0.0000,  0.0000,  1.0000,  0.0000,  0.0000,  1.0000],\n",
       "        [26.0000,  0.0000,  0.0000,  3.4340,  1.0000,  0.0000,  1.0000,  0.0000,  0.0000,  1.0000,  0.0000,  0.0000],\n",
       "        [32.0000,  0.0000,  0.0000,  2.1691,  1.0000,  0.0000,  0.0000,  0.0000,  1.0000,  0.0000,  1.0000,  0.0000]])"
      ]
     },
     "execution_count": null,
     "metadata": {},
     "output_type": "execute_result"
    }
   ],
   "source": [
    "t_indep = tensor(df[indep_cols].values, dtype=torch.float)\n",
    "t_indep"
   ]
  },
  {
   "cell_type": "code",
   "execution_count": null,
   "id": "177a875b-5f77-409b-b788-5c7aad7dcfc5",
   "metadata": {},
   "outputs": [
    {
     "data": {
      "text/plain": [
       "torch.Size([891, 12])"
      ]
     },
     "execution_count": null,
     "metadata": {},
     "output_type": "execute_result"
    }
   ],
   "source": [
    "t_indep.shape"
   ]
  },
  {
   "cell_type": "markdown",
   "id": "f5e7cc43-b3c4-4fae-992c-2ce0cf85425a",
   "metadata": {},
   "source": [
    "This tells us that we have data for 891 people (rows) with each having 12 indep variables associated (cols).  These number represent row by row our x-values while we'll initialize our weights at random."
   ]
  },
  {
   "cell_type": "markdown",
   "id": "ee3599cd-492e-4560-8c5e-eb0ac6953d63",
   "metadata": {},
   "source": [
    "## Setting up a Linear Model\n",
    "\n",
    "### Get to predictions\n",
    "\n",
    "At first we'll do a manual single step of\n",
    "- calculating predictions\n",
    "- calculating the loss for these"
   ]
  },
  {
   "cell_type": "code",
   "execution_count": null,
   "id": "17c85fa8-0980-4f83-95ce-b2ba60130052",
   "metadata": {},
   "outputs": [
    {
     "data": {
      "text/plain": [
       "<torch._C.Generator at 0x7fcda9d8cd90>"
      ]
     },
     "execution_count": null,
     "metadata": {},
     "output_type": "execute_result"
    }
   ],
   "source": [
    "# make sure our random numbers are \"predictable\" when we re-run the notebook:\n",
    "torch.manual_seed(42)"
   ]
  },
  {
   "cell_type": "code",
   "execution_count": null,
   "id": "5179dc3c-07ca-427f-9820-550062047097",
   "metadata": {},
   "outputs": [
    {
     "data": {
      "text/plain": [
       "12"
      ]
     },
     "execution_count": null,
     "metadata": {},
     "output_type": "execute_result"
    }
   ],
   "source": [
    "n_coeff = t_indep.shape[1]\n",
    "n_coeff"
   ]
  },
  {
   "cell_type": "markdown",
   "id": "bf766641-c987-4f84-9288-b588d3218d5a",
   "metadata": {},
   "source": [
    "We'll initialize 12 coefficients, one for each column upon which we'll base our predictions."
   ]
  },
  {
   "cell_type": "code",
   "execution_count": null,
   "id": "e39b994c-0ba9-4720-ab50-72414ab8b752",
   "metadata": {},
   "outputs": [
    {
     "data": {
      "text/plain": [
       "tensor([0.8823, 0.9150, 0.3829, 0.9593, 0.3904, 0.6009, 0.2566, 0.7936, 0.9408, 0.1332, 0.9346, 0.5936])"
      ]
     },
     "execution_count": null,
     "metadata": {},
     "output_type": "execute_result"
    }
   ],
   "source": [
    "coeffs = torch.rand(n_coeff)\n",
    "coeffs"
   ]
  },
  {
   "cell_type": "markdown",
   "id": "be5a1126-8a23-490e-9d12-03633fe053fd",
   "metadata": {},
   "source": [
    "This gets us coeffs which are between 0 and 1. Let's make sure these are between -0.5 and 0.5 instead:"
   ]
  },
  {
   "cell_type": "code",
   "execution_count": null,
   "id": "e0f3f601-c45a-4374-a983-543777edaf09",
   "metadata": {},
   "outputs": [
    {
     "data": {
      "text/plain": [
       "tensor([ 0.3694,  0.0677,  0.2411, -0.0706,  0.3854,  0.0739, -0.2334,  0.1274, -0.2304, -0.0586, -0.2031,  0.3317])"
      ]
     },
     "execution_count": null,
     "metadata": {},
     "output_type": "execute_result"
    }
   ],
   "source": [
    "coeffs = torch.rand(n_coeff) - 0.5\n",
    "coeffs"
   ]
  },
  {
   "cell_type": "markdown",
   "id": "e1ad5bf3-d46e-4968-9f30-777c03dbd44f",
   "metadata": {},
   "source": [
    "We will multiply every row with these coefficients to get to our prediction, so we'll do this for every person:"
   ]
  },
  {
   "cell_type": "code",
   "execution_count": null,
   "id": "bbf20216-181a-4e88-9a24-9d51aa3feeb9",
   "metadata": {},
   "outputs": [
    {
     "data": {
      "text/plain": [
       "tensor([[ 8.1269,  0.0677,  0.0000, -0.1490,  0.3854,  0.0000, -0.0000,  0.0000, -0.2304, -0.0000, -0.0000,  0.3317],\n",
       "        [14.0374,  0.0677,  0.0000, -0.3022,  0.0000,  0.0739, -0.2334,  0.0000, -0.0000, -0.0586, -0.0000,  0.0000],\n",
       "        [ 9.6045,  0.0000,  0.0000, -0.1545,  0.0000,  0.0739, -0.0000,  0.0000, -0.2304, -0.0000, -0.0000,  0.3317],\n",
       "        [12.9292,  0.0677,  0.0000, -0.2817,  0.0000,  0.0739, -0.2334,  0.0000, -0.0000, -0.0000, -0.0000,  0.3317],\n",
       "        [12.9292,  0.0000,  0.0000, -0.1555,  0.3854,  0.0000, -0.0000,  0.0000, -0.2304, -0.0000, -0.0000,  0.3317],\n",
       "        [ 8.8657,  0.0000,  0.0000, -0.1586,  0.3854,  0.0000, -0.0000,  0.0000, -0.2304, -0.0000, -0.2031,  0.0000],\n",
       "        [19.9478,  0.0000,  0.0000, -0.2801,  0.3854,  0.0000, -0.2334,  0.0000, -0.0000, -0.0000, -0.0000,  0.3317],\n",
       "        ...,\n",
       "        [ 9.2351,  0.0000,  0.0000, -0.1472,  0.3854,  0.0000, -0.0000,  0.0000, -0.2304, -0.0000, -0.0000,  0.3317],\n",
       "        [14.4068,  0.0000,  1.2055, -0.2404,  0.0000,  0.0739, -0.0000,  0.0000, -0.2304, -0.0000, -0.2031,  0.0000],\n",
       "        [ 9.9739,  0.0000,  0.0000, -0.1863,  0.3854,  0.0000, -0.0000,  0.1274, -0.0000, -0.0000, -0.0000,  0.3317],\n",
       "        [ 7.0187,  0.0000,  0.0000, -0.2424,  0.0000,  0.0739, -0.2334,  0.0000, -0.0000, -0.0000, -0.0000,  0.3317],\n",
       "        [ 8.8657,  0.0677,  0.4822, -0.2257,  0.0000,  0.0739, -0.0000,  0.0000, -0.2304, -0.0000, -0.0000,  0.3317],\n",
       "        [ 9.6045,  0.0000,  0.0000, -0.2424,  0.3854,  0.0000, -0.2334,  0.0000, -0.0000, -0.0586, -0.0000,  0.0000],\n",
       "        [11.8209,  0.0000,  0.0000, -0.1531,  0.3854,  0.0000, -0.0000,  0.0000, -0.2304, -0.0000, -0.2031,  0.0000]])"
      ]
     },
     "execution_count": null,
     "metadata": {},
     "output_type": "execute_result"
    }
   ],
   "source": [
    "t_indep * coeffs"
   ]
  },
  {
   "cell_type": "markdown",
   "id": "1ccf32b8-3178-434d-88f1-a14f8508d87c",
   "metadata": {},
   "source": [
    "The first col jumps out: it has way higher values than all the rest.  We'll want to normalize this and make sure all cols are between 0 and 1 by dividing by their max value:"
   ]
  },
  {
   "cell_type": "code",
   "execution_count": null,
   "id": "eee33e80-d18f-4c97-9aa8-f16fad81b172",
   "metadata": {},
   "outputs": [
    {
     "data": {
      "text/plain": [
       "(tensor([80.0000,  8.0000,  6.0000,  6.2409,  1.0000,  1.0000,  1.0000,  1.0000,  1.0000,  1.0000,  1.0000,  1.0000]),\n",
       " tensor([630, 159, 678, 258,   0,   1,   1,   9,   0,   1,   5,   0]))"
      ]
     },
     "execution_count": null,
     "metadata": {},
     "output_type": "execute_result"
    }
   ],
   "source": [
    "vals, indices = t_indep.max(dim=0)\n",
    "(vals, indices)"
   ]
  },
  {
   "cell_type": "code",
   "execution_count": null,
   "id": "48def5be-fce8-481c-ae40-0b0fb4b50dd2",
   "metadata": {},
   "outputs": [
    {
     "data": {
      "text/plain": [
       "tensor([[0.2750, 0.1250, 0.0000, 0.3381, 1.0000, 0.0000, 0.0000, 0.0000, 1.0000, 0.0000, 0.0000, 1.0000],\n",
       "        [0.4750, 0.1250, 0.0000, 0.6859, 0.0000, 1.0000, 1.0000, 0.0000, 0.0000, 1.0000, 0.0000, 0.0000],\n",
       "        [0.3250, 0.0000, 0.0000, 0.3507, 0.0000, 1.0000, 0.0000, 0.0000, 1.0000, 0.0000, 0.0000, 1.0000],\n",
       "        [0.4375, 0.1250, 0.0000, 0.6395, 0.0000, 1.0000, 1.0000, 0.0000, 0.0000, 0.0000, 0.0000, 1.0000],\n",
       "        [0.4375, 0.0000, 0.0000, 0.3530, 1.0000, 0.0000, 0.0000, 0.0000, 1.0000, 0.0000, 0.0000, 1.0000],\n",
       "        [0.3000, 0.0000, 0.0000, 0.3600, 1.0000, 0.0000, 0.0000, 0.0000, 1.0000, 0.0000, 1.0000, 0.0000],\n",
       "        [0.6750, 0.0000, 0.0000, 0.6358, 1.0000, 0.0000, 1.0000, 0.0000, 0.0000, 0.0000, 0.0000, 1.0000],\n",
       "        ...,\n",
       "        [0.3125, 0.0000, 0.0000, 0.3342, 1.0000, 0.0000, 0.0000, 0.0000, 1.0000, 0.0000, 0.0000, 1.0000],\n",
       "        [0.4875, 0.0000, 0.8333, 0.5456, 0.0000, 1.0000, 0.0000, 0.0000, 1.0000, 0.0000, 1.0000, 0.0000],\n",
       "        [0.3375, 0.0000, 0.0000, 0.4229, 1.0000, 0.0000, 0.0000, 1.0000, 0.0000, 0.0000, 0.0000, 1.0000],\n",
       "        [0.2375, 0.0000, 0.0000, 0.5502, 0.0000, 1.0000, 1.0000, 0.0000, 0.0000, 0.0000, 0.0000, 1.0000],\n",
       "        [0.3000, 0.1250, 0.3333, 0.5122, 0.0000, 1.0000, 0.0000, 0.0000, 1.0000, 0.0000, 0.0000, 1.0000],\n",
       "        [0.3250, 0.0000, 0.0000, 0.5502, 1.0000, 0.0000, 1.0000, 0.0000, 0.0000, 1.0000, 0.0000, 0.0000],\n",
       "        [0.4000, 0.0000, 0.0000, 0.3476, 1.0000, 0.0000, 0.0000, 0.0000, 1.0000, 0.0000, 1.0000, 0.0000]])"
      ]
     },
     "execution_count": null,
     "metadata": {},
     "output_type": "execute_result"
    }
   ],
   "source": [
    "t_indep = t_indep / vals # Note: this uses \"broadcasting\"\n",
    "t_indep"
   ]
  },
  {
   "cell_type": "code",
   "execution_count": null,
   "id": "a4d188e1-ae92-4f96-801d-c05ffb009d3b",
   "metadata": {},
   "outputs": [
    {
     "data": {
      "text/plain": [
       "tensor([[ 0.1016,  0.0085,  0.0000, -0.0239,  0.3854,  0.0000, -0.0000,  0.0000, -0.2304, -0.0000, -0.0000,  0.3317],\n",
       "        [ 0.1755,  0.0085,  0.0000, -0.0484,  0.0000,  0.0739, -0.2334,  0.0000, -0.0000, -0.0586, -0.0000,  0.0000],\n",
       "        [ 0.1201,  0.0000,  0.0000, -0.0248,  0.0000,  0.0739, -0.0000,  0.0000, -0.2304, -0.0000, -0.0000,  0.3317],\n",
       "        [ 0.1616,  0.0085,  0.0000, -0.0451,  0.0000,  0.0739, -0.2334,  0.0000, -0.0000, -0.0000, -0.0000,  0.3317],\n",
       "        [ 0.1616,  0.0000,  0.0000, -0.0249,  0.3854,  0.0000, -0.0000,  0.0000, -0.2304, -0.0000, -0.0000,  0.3317],\n",
       "        [ 0.1108,  0.0000,  0.0000, -0.0254,  0.3854,  0.0000, -0.0000,  0.0000, -0.2304, -0.0000, -0.2031,  0.0000],\n",
       "        [ 0.2493,  0.0000,  0.0000, -0.0449,  0.3854,  0.0000, -0.2334,  0.0000, -0.0000, -0.0000, -0.0000,  0.3317],\n",
       "        ...,\n",
       "        [ 0.1154,  0.0000,  0.0000, -0.0236,  0.3854,  0.0000, -0.0000,  0.0000, -0.2304, -0.0000, -0.0000,  0.3317],\n",
       "        [ 0.1801,  0.0000,  0.2009, -0.0385,  0.0000,  0.0739, -0.0000,  0.0000, -0.2304, -0.0000, -0.2031,  0.0000],\n",
       "        [ 0.1247,  0.0000,  0.0000, -0.0299,  0.3854,  0.0000, -0.0000,  0.1274, -0.0000, -0.0000, -0.0000,  0.3317],\n",
       "        [ 0.0877,  0.0000,  0.0000, -0.0388,  0.0000,  0.0739, -0.2334,  0.0000, -0.0000, -0.0000, -0.0000,  0.3317],\n",
       "        [ 0.1108,  0.0085,  0.0804, -0.0362,  0.0000,  0.0739, -0.0000,  0.0000, -0.2304, -0.0000, -0.0000,  0.3317],\n",
       "        [ 0.1201,  0.0000,  0.0000, -0.0388,  0.3854,  0.0000, -0.2334,  0.0000, -0.0000, -0.0586, -0.0000,  0.0000],\n",
       "        [ 0.1478,  0.0000,  0.0000, -0.0245,  0.3854,  0.0000, -0.0000,  0.0000, -0.2304, -0.0000, -0.2031,  0.0000]])"
      ]
     },
     "execution_count": null,
     "metadata": {},
     "output_type": "execute_result"
    }
   ],
   "source": [
    "t_indep * coeffs  # this now provides the values which are to be added row by row"
   ]
  },
  {
   "cell_type": "code",
   "execution_count": null,
   "id": "39e07d85-7c4a-4df7-8858-72c1e6c28028",
   "metadata": {},
   "outputs": [
    {
     "data": {
      "text/plain": [
       "(torch.Size([891]), tensor([ 0.5729, -0.0826,  0.2705,  0.2971,  0.6235]))"
      ]
     },
     "execution_count": null,
     "metadata": {},
     "output_type": "execute_result"
    }
   ],
   "source": [
    "preds = (t_indep * coeffs).sum(dim=1)\n",
    "(preds.shape, preds[:5])"
   ]
  },
  {
   "cell_type": "markdown",
   "id": "408ffd14-b643-4fd6-9be0-50733b4d0a2f",
   "metadata": {},
   "source": [
    "This gives us 891 predictions (out of which only 5 shown above), one for each person (row in our original t_indep matrix)."
   ]
  },
  {
   "cell_type": "markdown",
   "id": "6bcd3bac-0503-4e7b-a712-a577081fab06",
   "metadata": {},
   "source": [
    "### Calculate loss"
   ]
  },
  {
   "cell_type": "code",
   "execution_count": null,
   "id": "1caf322e-d2e3-4ed5-88ea-b46f73f7dc34",
   "metadata": {},
   "outputs": [
    {
     "data": {
      "text/plain": [
       "tensor([ 0.5729, -1.0826, -0.7295, -0.7029,  0.6235])"
      ]
     },
     "execution_count": null,
     "metadata": {},
     "output_type": "execute_result"
    }
   ],
   "source": [
    "prediction_errors = preds-t_dep  # this gives the rror for each person, compared to the truth value from t_dep\n",
    "prediction_errors[:5]            # show 5 examples"
   ]
  },
  {
   "cell_type": "code",
   "execution_count": null,
   "id": "dc795e65-f88d-4eda-bd33-c14d440aae32",
   "metadata": {},
   "outputs": [
    {
     "data": {
      "text/plain": [
       "tensor([0.5729, 1.0826, 0.7295, 0.7029, 0.6235])"
      ]
     },
     "execution_count": null,
     "metadata": {},
     "output_type": "execute_result"
    }
   ],
   "source": [
    "abs_pred_errors = torch.abs(prediction_errors)\n",
    "abs_pred_errors[:5]"
   ]
  },
  {
   "cell_type": "code",
   "execution_count": null,
   "id": "4177b9a4-3555-48cc-a7ca-79b2de5485c5",
   "metadata": {},
   "outputs": [
    {
     "data": {
      "text/plain": [
       "tensor(0.5908)"
      ]
     },
     "execution_count": null,
     "metadata": {},
     "output_type": "execute_result"
    }
   ],
   "source": [
    "mean_error = abs_pred_errors.mean()\n",
    "mean_error"
   ]
  },
  {
   "cell_type": "markdown",
   "id": "2c416283-5487-4b6d-aa1c-19249195a718",
   "metadata": {},
   "source": [
    "This is our loss.  Note that so far we've not done any optimization steps.  To do this, we'll create some helper functions first."
   ]
  },
  {
   "cell_type": "code",
   "execution_count": null,
   "id": "62ad5b61-0f23-4a7c-ab01-4e408db59dd7",
   "metadata": {},
   "outputs": [],
   "source": [
    "def calc_preds(coeffs, indeps): return (indeps * coeffs).sum(dim=1)\n",
    "def calc_loss(coeffs, indeps, deps): return (torch.abs(calc_preds(coeffs, indeps)-deps)).mean()"
   ]
  },
  {
   "cell_type": "code",
   "execution_count": null,
   "id": "8ebc6ff7-3418-4eac-9362-bf3624ee60a6",
   "metadata": {},
   "outputs": [
    {
     "data": {
      "text/plain": [
       "tensor(0.5908)"
      ]
     },
     "execution_count": null,
     "metadata": {},
     "output_type": "execute_result"
    }
   ],
   "source": [
    "calc_loss(coeffs, t_indep, t_dep) # see if our function gets to the same result as we've seen manually"
   ]
  },
  {
   "cell_type": "markdown",
   "id": "80117891-9728-4363-b830-bdfc589fde67",
   "metadata": {},
   "source": [
    "### Gradient Descent"
   ]
  },
  {
   "cell_type": "code",
   "execution_count": null,
   "id": "0d181916-a9ad-493a-95c7-a071a305d56f",
   "metadata": {},
   "outputs": [
    {
     "data": {
      "text/plain": [
       "tensor([ 0.3694,  0.0677,  0.2411, -0.0706,  0.3854,  0.0739, -0.2334,  0.1274, -0.2304, -0.0586, -0.2031,  0.3317], requires_grad=True)"
      ]
     },
     "execution_count": null,
     "metadata": {},
     "output_type": "execute_result"
    }
   ],
   "source": [
    "coeffs.requires_grad_()"
   ]
  },
  {
   "cell_type": "markdown",
   "id": "ef4d5b3b-eaf5-4af5-83c0-00c62d6fdfa7",
   "metadata": {},
   "source": [
    "Now are coefficients are marked so the gradients are being tracked throughout the calculations we do with those.  Let's calculate our loss with the coefficients:"
   ]
  },
  {
   "cell_type": "code",
   "execution_count": null,
   "id": "4ac6bf57-3332-4c2b-a948-b8df945ef2ed",
   "metadata": {},
   "outputs": [
    {
     "data": {
      "text/plain": [
       "tensor(0.5908, grad_fn=<MeanBackward0>)"
      ]
     },
     "execution_count": null,
     "metadata": {},
     "output_type": "execute_result"
    }
   ],
   "source": [
    "loss = calc_loss(coeffs, t_indep, t_dep)\n",
    "loss"
   ]
  },
  {
   "cell_type": "markdown",
   "id": "a26b1ab8-5620-4f48-87a8-842863eabc7f",
   "metadata": {},
   "source": [
    "We can now ask to calculate our gradients with respect to each weight / coefficient:"
   ]
  },
  {
   "cell_type": "code",
   "execution_count": null,
   "id": "b9bf5578-9d7b-4ecc-a816-f785acb91d17",
   "metadata": {},
   "outputs": [
    {
     "data": {
      "text/plain": [
       "tensor([ 0.0826,  0.0174, -0.0007,  0.0453,  0.4052, -0.2088, -0.0651,  0.0157,  0.2458, -0.0382, -0.0034,  0.2379])"
      ]
     },
     "execution_count": null,
     "metadata": {},
     "output_type": "execute_result"
    }
   ],
   "source": [
    "loss.backward()\n",
    "coeffs.grad"
   ]
  },
  {
   "cell_type": "code",
   "execution_count": null,
   "id": "afb2a170-4f50-4c30-9e30-02a8a8b54f11",
   "metadata": {},
   "outputs": [
    {
     "data": {
      "text/plain": [
       "tensor([ 0.3694,  0.0677,  0.2411, -0.0706,  0.3854,  0.0739, -0.2334,  0.1274, -0.2304, -0.0586, -0.2031,  0.3317], requires_grad=True)"
      ]
     },
     "execution_count": null,
     "metadata": {},
     "output_type": "execute_result"
    }
   ],
   "source": [
    "coeffs"
   ]
  },
  {
   "cell_type": "markdown",
   "id": "7c812abc-44e0-4c15-901e-7c7bd962cc63",
   "metadata": {},
   "source": [
    "Let's take our first weight:  if we increase our first coefficient with 1, then our resulting loss will increase with that weight.  This only goes for very small tiny amounts those, so let's not try this with 1 but rather with for example 0.01"
   ]
  },
  {
   "cell_type": "code",
   "execution_count": null,
   "id": "3a1bc906-4128-493c-8de2-018096662841",
   "metadata": {},
   "outputs": [
    {
     "data": {
      "text/plain": [
       "tensor([ 0.3794,  0.0677,  0.2411, -0.0706,  0.3854,  0.0739, -0.2334,  0.1274, -0.2304, -0.0586, -0.2031,  0.3317],\n",
       "       grad_fn=<AddBackward0>)"
      ]
     },
     "execution_count": null,
     "metadata": {},
     "output_type": "execute_result"
    }
   ],
   "source": [
    "coeffs_increased_first = coeffs + tensor([0.01,0,0,0,0,0,0,0,0,0,0,0])\n",
    "coeffs_increased_first # increased the first of our weights with 1"
   ]
  },
  {
   "cell_type": "code",
   "execution_count": null,
   "id": "f126c38f-26a2-4b4f-9cf2-3db547a6157b",
   "metadata": {},
   "outputs": [
    {
     "data": {
      "text/plain": [
       "tensor(0.5916, grad_fn=<MeanBackward0>)"
      ]
     },
     "execution_count": null,
     "metadata": {},
     "output_type": "execute_result"
    }
   ],
   "source": [
    "coeffs.grad.zero_()  # don't forget to reset gradients as normally those get added every time they are calculated\n",
    "loss_new = calc_loss(coeffs_increased_first, t_indep, t_dep)\n",
    "loss_new"
   ]
  },
  {
   "cell_type": "markdown",
   "id": "ab9cb867-c136-41ad-b932-44ff245fe9c2",
   "metadata": {},
   "source": [
    "The difference of this new loss with our previous loss is:"
   ]
  },
  {
   "cell_type": "code",
   "execution_count": null,
   "id": "aa38ee1f-751a-4a70-88c1-27028f4922bc",
   "metadata": {},
   "outputs": [
    {
     "data": {
      "text/plain": [
       "tensor(0.0826, grad_fn=<MulBackward0>)"
      ]
     },
     "execution_count": null,
     "metadata": {},
     "output_type": "execute_result"
    }
   ],
   "source": [
    "(loss_new-loss)*100"
   ]
  },
  {
   "cell_type": "markdown",
   "id": "0ae9467a-1050-49c4-b417-94be953c5f89",
   "metadata": {},
   "source": [
    "See how our loss is now slightly higher, with approximately or exactly the same amount as our gradient told us."
   ]
  },
  {
   "cell_type": "markdown",
   "id": "666af607-a830-41f8-b236-fcf080949e4e",
   "metadata": {},
   "source": [
    "Let's take a single Gradient Descent step:"
   ]
  },
  {
   "cell_type": "code",
   "execution_count": null,
   "id": "0e785281-4ff1-445c-8657-88aa05eaf200",
   "metadata": {},
   "outputs": [
    {
     "name": "stdout",
     "output_type": "stream",
     "text": [
      "first our loss was 0.590818464756012 and after our gradient descent step it was: 0.5592127442359924\n"
     ]
    }
   ],
   "source": [
    "coeffs.grad.zero_()\n",
    "loss = calc_loss(coeffs, t_indep, t_dep)\n",
    "loss.backward()\n",
    "with torch.no_grad():\n",
    "    coeffs.sub_(coeffs.grad * 0.1)\n",
    "    coeffs.grad.zero_()\n",
    "    lower_loss = calc_loss(coeffs, t_indep, t_dep)\n",
    "    print(f'first our loss was {loss} and after our gradient descent step it was: {lower_loss}')"
   ]
  },
  {
   "cell_type": "markdown",
   "id": "141de479-b181-4cc5-bd4d-51f0ff66e229",
   "metadata": {},
   "source": [
    "### Training the linear model"
   ]
  },
  {
   "cell_type": "markdown",
   "id": "5c3ff797-f36e-407e-976c-b2eb66e4a6e1",
   "metadata": {},
   "source": [
    "For training our model we also need a validation set.  To create such set we can use `RandomSplitter` from FastAI:"
   ]
  },
  {
   "cell_type": "code",
   "execution_count": null,
   "id": "c3875d5c-0b99-43c5-b737-5755f6b4d5d6",
   "metadata": {},
   "outputs": [
    {
     "name": "stdout",
     "output_type": "stream",
     "text": [
      "Our training set has 713 items while our validation set has 178 items\n"
     ]
    }
   ],
   "source": [
    "from fastai.data.transforms import RandomSplitter\n",
    "trn_split,val_split=RandomSplitter(seed=42)(df)\n",
    "print(f'Our training set has {len(trn_split)} items while our validation set has {len(val_split)} items')"
   ]
  },
  {
   "cell_type": "markdown",
   "id": "724b3247-5d5d-4163-b4cd-f2a6ddc04638",
   "metadata": {},
   "source": [
    "The contents of those lists coming from `RandomSplitter` are merely indexes.  We can apply them to our data:"
   ]
  },
  {
   "cell_type": "code",
   "execution_count": null,
   "id": "b9c49538-ecd3-4205-89fe-b7ef80a6b4dd",
   "metadata": {},
   "outputs": [
    {
     "data": {
      "text/plain": [
       "(713, 178)"
      ]
     },
     "execution_count": null,
     "metadata": {},
     "output_type": "execute_result"
    }
   ],
   "source": [
    "trn_indep, trn_dep = t_indep[trn_split], t_dep[trn_split]\n",
    "val_indep, val_dep = t_indep[val_split], t_dep[val_split]\n",
    "len(trn_indep),len(val_indep)"
   ]
  },
  {
   "cell_type": "markdown",
   "id": "f2059ad6-577a-4b7b-9ae3-1b63ee6af679",
   "metadata": {},
   "source": [
    "Let's create some functions:"
   ]
  },
  {
   "cell_type": "code",
   "execution_count": null,
   "id": "4273ad3c-370c-42b0-9d7a-26c20ff8ac61",
   "metadata": {},
   "outputs": [],
   "source": [
    "def update_coeffs(coeffs, lr):\n",
    "    coeffs.sub_(coeffs.grad * lr)\n",
    "    coeffs.grad.zero_()\n",
    "\n",
    "def one_epoch(coeffs, lr):\n",
    "    loss = calc_loss(coeffs, trn_indep, trn_dep)\n",
    "    loss.backward()\n",
    "    with torch.no_grad(): update_coeffs(coeffs, lr)\n",
    "    print(f\"{loss:.3f}\", end=\"; \")\n",
    "    \n",
    "def init_coeffs(): return (torch.rand(n_coeff)-0.5).requires_grad_()"
   ]
  },
  {
   "cell_type": "code",
   "execution_count": null,
   "id": "a329ec20-d42a-4f57-bc22-36429f03faf6",
   "metadata": {},
   "outputs": [],
   "source": [
    "def train_model(epochs=50, lr=0.01):\n",
    "    torch.manual_seed(442)\n",
    "    coeffs = init_coeffs()\n",
    "    for i in range(epochs): one_epoch(coeffs, lr=lr)\n",
    "    return coeffs"
   ]
  },
  {
   "cell_type": "code",
   "execution_count": null,
   "id": "17f05330-6219-4487-acd7-d731830567c9",
   "metadata": {},
   "outputs": [
    {
     "name": "stdout",
     "output_type": "stream",
     "text": [
      "0.536; 0.518; 0.503; 0.489; 0.477; 0.465; 0.454; 0.443; 0.431; 0.420; 0.410; 0.399; 0.388; 0.378; 0.368; 0.358; 0.350; 0.343; 0.337; 0.330; 0.325; 0.319; 0.315; 0.310; 0.309; 0.302; 0.301; 0.296; 0.295; 0.290; 0.291; 0.285; 0.284; 0.280; 0.280; 0.275; 0.276; 0.270; 0.271; 0.266; 0.269; 0.264; 0.267; 0.263; 0.264; 0.261; 0.262; 0.259; 0.258; 0.257; "
     ]
    }
   ],
   "source": [
    "coeffs = train_model(50, 0.1)"
   ]
  },
  {
   "cell_type": "markdown",
   "id": "8af93b90-77d7-44dc-8861-75b041e408a8",
   "metadata": {},
   "source": [
    "See how the loss is going down!  Let's look at the coefficients for each feature column:"
   ]
  },
  {
   "cell_type": "code",
   "execution_count": null,
   "id": "6632f889-a4e8-40fb-ab98-e7b867cbca47",
   "metadata": {},
   "outputs": [
    {
     "data": {
      "text/plain": [
       "{'Age': tensor(-0.2391),\n",
       " 'SibSp': tensor(0.0568),\n",
       " 'Parch': tensor(0.2175),\n",
       " 'LogFare': tensor(0.0012),\n",
       " 'Sex_male': tensor(-0.4694),\n",
       " 'Sex_female': tensor(0.3018),\n",
       " 'Pclass_1': tensor(0.6391),\n",
       " 'Pclass_2': tensor(0.4451),\n",
       " 'Pclass_3': tensor(0.4072),\n",
       " 'Embarked_C': tensor(0.1547),\n",
       " 'Embarked_Q': tensor(0.2134),\n",
       " 'Embarked_S': tensor(0.1760)}"
      ]
     },
     "execution_count": null,
     "metadata": {},
     "output_type": "execute_result"
    }
   ],
   "source": [
    "def show_coeffs(): return dict(zip(indep_cols, coeffs.requires_grad_(False)))\n",
    "show_coeffs()"
   ]
  },
  {
   "cell_type": "markdown",
   "id": "8c4c322a-4161-4b9a-8abf-5b9d4af1f777",
   "metadata": {},
   "source": [
    "Let's see how we do on our validation set, with data that has never been seen by our model:"
   ]
  },
  {
   "cell_type": "code",
   "execution_count": null,
   "id": "b82d2a83-2ed2-4f7d-867e-0c10fe96169e",
   "metadata": {},
   "outputs": [
    {
     "name": "stdout",
     "output_type": "stream",
     "text": [
      "we have now 178 predictions for our validation set.  First 5 are:\n"
     ]
    },
    {
     "data": {
      "text/plain": [
       "tensor([0.8891, 0.0799, 0.0212, 0.0987, 0.0775])"
      ]
     },
     "execution_count": null,
     "metadata": {},
     "output_type": "execute_result"
    }
   ],
   "source": [
    "preds = calc_preds(coeffs, val_indep)\n",
    "print(f'we have now {len(preds)} predictions for our validation set.  First 5 are:')\n",
    "preds[:5]"
   ]
  },
  {
   "cell_type": "code",
   "execution_count": null,
   "id": "3bbdbc6b-6bfc-49e1-a2b7-a469c82f7952",
   "metadata": {},
   "outputs": [
    {
     "data": {
      "text/plain": [
       "tensor([ True,  True,  True,  True,  True,  True,  True,  True,  True,  True, False, False, False,  True,  True, False,  True,  True,  True,\n",
       "         True,  True,  True,  True,  True,  True,  True,  True,  True,  True,  True,  True, False,  True,  True,  True, False,  True,  True,\n",
       "         True, False, False,  True,  True,  True,  True, False, False,  True,  True,  True,  True,  True,  True,  True,  True,  True,  True,\n",
       "         True,  True,  True,  True,  True, False,  True, False,  True,  True,  True,  True,  True,  True, False,  True,  True,  True,  True,\n",
       "         True, False,  True,  True, False,  True,  True,  True,  True,  True,  True,  True,  True,  True,  True,  True,  True,  True,  True,\n",
       "         True,  True,  True,  True,  True,  True,  True,  True,  True, False, False, False,  True, False,  True,  True, False, False,  True,\n",
       "         True,  True, False,  True,  True,  True,  True, False,  True,  True,  True,  True, False,  True,  True,  True,  True,  True,  True,\n",
       "         True,  True, False,  True,  True,  True,  True,  True,  True,  True,  True, False,  True,  True,  True,  True, False, False, False,\n",
       "         True,  True, False,  True,  True, False, False,  True,  True,  True,  True, False,  True,  True,  True,  True,  True,  True, False,\n",
       "         True,  True,  True, False,  True, False, False])"
      ]
     },
     "execution_count": null,
     "metadata": {},
     "output_type": "execute_result"
    }
   ],
   "source": [
    "results = val_dep.bool() == (preds>0.5)\n",
    "results"
   ]
  },
  {
   "cell_type": "code",
   "execution_count": null,
   "id": "f0e4cddb-2f54-4f04-9f76-e6ff8ae6975d",
   "metadata": {},
   "outputs": [
    {
     "name": "stdout",
     "output_type": "stream",
     "text": [
      "our average accuracy is: 0.7921348214149475\n"
     ]
    },
    {
     "data": {
      "text/plain": [
       "tensor([     0.8891,      0.0799,      0.0212,      0.0987,      0.0775,      0.0578,      0.8885,      0.8398,      0.2196,      0.8360,\n",
       "             0.0186,      0.0646,      0.1457,      0.8511,      0.0126,      0.2118,      0.1520,      0.8851,      0.0358,      0.7928,\n",
       "             0.0425,      0.1789,      1.0233,      0.8599,      0.0544,      0.0872,      0.9259,      0.1610,      0.0634,      0.8511,\n",
       "             0.9421,      0.9460,      0.0574,      0.0231,      0.8712,      0.9806,      0.2059,      1.0247,      0.0425,      0.8179,\n",
       "             0.0954,      0.0425,      0.1157,      1.0008,      0.0544,      0.9445,      0.0369,      0.0808,      0.0799,      0.8197,\n",
       "             0.2666,      0.1957,      0.1885,      0.0395,      0.0745,      0.0565,      0.0799,      0.0139,      0.0515,      0.0292,\n",
       "             0.2353,      0.0705,      0.1072,      0.0515,      0.7992,      0.3200,      0.0805,     -0.0021,      0.0755,      0.7890,\n",
       "             0.0365,      0.8650,      0.0595,      0.0425,      0.2745,      0.0664,      0.0425,      0.2401,      0.0954,      0.0118,\n",
       "             0.1999,      1.1206,      0.0455,      0.0425,      0.7740,      0.1360,      0.2785,      1.1556,      0.8257,      0.0835,\n",
       "             0.0186,      0.0425,      1.0068,      0.0032,      0.9125,      0.0233,      0.0149,      0.8655,      0.8571,      0.0948,\n",
       "             0.1038,      0.8511,      0.0186,      0.0246,      0.2609,      0.0267,      0.0246,      0.8475,      0.2576,      0.0346,\n",
       "             0.8974,      0.8001,      0.2746,      1.0636,      0.0425,      0.9242,      0.8581,      0.0799,     -0.0113,      0.9835,\n",
       "             0.1314,      0.1892,      0.0799,      0.9717,      0.0212,      0.2596,      0.8108,      0.8078,      0.0664,      0.0279,\n",
       "             1.0699,      0.0497,      0.8231,      0.8263,      1.0319,      0.0574,     -0.0241,      0.0276,      0.0410,      0.8189,\n",
       "             0.0625,      0.9481,     -0.0203,      0.0560,      0.8715,      0.9366,      0.0007,      0.8651,      1.1060,      0.7660,\n",
       "             0.8460,      0.9236,      0.8606,      0.1926,      0.0943,      0.1722,      0.0425,      0.8328,      0.0506,      0.0426,\n",
       "             1.0246,      0.0515,      0.0498,      0.3186,      0.9900,      1.0257,      0.8922,      0.7979,      0.3075,      0.1819,\n",
       "             0.9735,      0.0575,      1.0591,      0.0425,     -0.0173,      1.0826,      0.2746,      0.1308])"
      ]
     },
     "execution_count": null,
     "metadata": {},
     "output_type": "execute_result"
    }
   ],
   "source": [
    "print(f'our average accuracy is: {results.float().mean()}')\n",
    "preds"
   ]
  },
  {
   "cell_type": "code",
   "execution_count": null,
   "id": "8938a545-6bb5-47d8-9eee-9b4359cf9b3f",
   "metadata": {},
   "outputs": [
    {
     "name": "stdout",
     "output_type": "stream",
     "text": [
      "our accuracy is: 0.7921348214149475\n"
     ]
    }
   ],
   "source": [
    "def acc(coeffs): return (val_dep.bool()==(calc_preds(coeffs, val_indep)>0.5)).float().mean()\n",
    "print(f'our accuracy is: {acc(coeffs)}')"
   ]
  },
  {
   "cell_type": "markdown",
   "id": "69082522-b7b5-4f97-8e63-51e7dd3a0a5b",
   "metadata": {},
   "source": [
    "### Sigmoid normalization\n",
    "\n",
    "Some of our predictions are below zero and some are above 1 - let's normalize those using a sigmoid function:"
   ]
  },
  {
   "cell_type": "code",
   "execution_count": null,
   "id": "8f0f207f-483e-4aaf-abd8-d3071e7f139d",
   "metadata": {},
   "outputs": [
    {
     "data": {
      "image/png": "[encoded data removed]",
      "text/plain": [
       "<Figure size 432x288 with 1 Axes>"
      ]
     },
     "metadata": {
      "needs_background": "light"
     },
     "output_type": "display_data"
    }
   ],
   "source": [
    "import sympy\n",
    "sympy.plot(\"1/(1+exp(-x))\", xlim=(-5,5));"
   ]
  },
  {
   "cell_type": "code",
   "execution_count": null,
   "id": "5d099a2a-5409-49ef-982d-9a9053ba452f",
   "metadata": {},
   "outputs": [],
   "source": [
    "def calc_preds(coeffs, indeps): return torch.sigmoid((indeps*coeffs).sum(axis=1)) # this redefines the prev function"
   ]
  },
  {
   "cell_type": "code",
   "execution_count": null,
   "id": "59326999-63cf-45a5-abc7-e7a3b14951de",
   "metadata": {},
   "outputs": [
    {
     "name": "stdout",
     "output_type": "stream",
     "text": [
      "0.510; 0.327; 0.294; 0.207; 0.201; 0.199; 0.198; 0.197; 0.196; 0.196; 0.196; 0.195; 0.195; 0.195; 0.195; 0.195; 0.195; 0.195; 0.194; 0.194; 0.194; 0.194; 0.194; 0.194; 0.194; 0.194; 0.194; 0.194; 0.194; 0.194; 0.194; 0.194; 0.194; 0.194; 0.194; 0.194; 0.194; 0.193; 0.193; 0.193; 0.193; 0.193; 0.193; 0.193; 0.193; 0.193; 0.193; 0.193; 0.193; 0.193; "
     ]
    }
   ],
   "source": [
    "coeffs = train_model(lr=100)"
   ]
  },
  {
   "cell_type": "code",
   "execution_count": null,
   "id": "80643b24-7ab7-4fb2-acb5-70f6e66c86eb",
   "metadata": {},
   "outputs": [
    {
     "name": "stdout",
     "output_type": "stream",
     "text": [
      "our accuracy is: 0.8258426785469055\n"
     ]
    }
   ],
   "source": [
    "print(f'our accuracy is: {acc(coeffs)}')  # is improved normally"
   ]
  },
  {
   "cell_type": "markdown",
   "id": "4b725334-2f4b-438f-85e5-d8f19cd1d9e5",
   "metadata": {},
   "source": [
    "## Submit to Kaggle\n",
    "\n"
   ]
  },
  {
   "cell_type": "code",
   "execution_count": null,
   "id": "4e8cc2a5-3c83-4088-bd6e-032ec359bc1e",
   "metadata": {},
   "outputs": [],
   "source": [
    "test_df = pd.read_csv('./titanic/test.csv')\n",
    "test_df['Fare'] = test_df.Fare.fillna(0)"
   ]
  },
  {
   "cell_type": "code",
   "execution_count": null,
   "id": "ecec5157-5a99-44f8-8c88-2b92b51f9bdf",
   "metadata": {},
   "outputs": [
    {
     "data": {
      "text/plain": [
       "tensor([80.0000,  8.0000,  6.0000,  6.2409,  1.0000,  1.0000,  1.0000,  1.0000,  1.0000,  1.0000,  1.0000,  1.0000])"
      ]
     },
     "execution_count": null,
     "metadata": {},
     "output_type": "execute_result"
    }
   ],
   "source": [
    "test_df.fillna(modes, inplace=True)\n",
    "test_df['LogFare'] = np.log(test_df['Fare']+1)\n",
    "test_df = pd.get_dummies(test_df, columns=[\"Sex\",\"Pclass\",\"Embarked\"])\n",
    "\n",
    "test_indep = tensor(test_df[indep_cols].values, dtype=torch.float)\n",
    "test_indep = test_indep / vals\n",
    "vals"
   ]
  },
  {
   "cell_type": "code",
   "execution_count": null,
   "id": "3d92a606-80ec-4a0a-bc6a-ba2ebec0df9b",
   "metadata": {},
   "outputs": [],
   "source": [
    "test_df['Survived'] = (calc_preds(test_indep, coeffs)>0.5).int()"
   ]
  },
  {
   "cell_type": "code",
   "execution_count": null,
   "id": "0c4a84bd-c089-4400-8902-1ac65fb2de7e",
   "metadata": {},
   "outputs": [],
   "source": [
    "sub_df = test_df[['PassengerId','Survived']]"
   ]
  },
  {
   "cell_type": "code",
   "execution_count": null,
   "id": "d09ce367-ccd6-4c1b-b306-d27807702b01",
   "metadata": {},
   "outputs": [],
   "source": [
    "sub_df.to_csv('./titanic/sub.csv', index=False)"
   ]
  },
  {
   "cell_type": "code",
   "execution_count": null,
   "id": "1c514c15-1991-4019-948b-cd22bb304fa0",
   "metadata": {},
   "outputs": [],
   "source": [
    "# command line to submit to Kaggle:\n",
    "# kaggle competitions submit -c titanic -f nbs/titanic/sub.csv -m \"first submission\""
   ]
  },
  {
   "cell_type": "markdown",
   "id": "676682a6-7870-421e-9bb3-5d3915bde0dd",
   "metadata": {},
   "source": [
    "## Using a Matrix product"
   ]
  },
  {
   "cell_type": "markdown",
   "id": "403965cb-27b8-4d30-8b30-83f99ff76fe1",
   "metadata": {},
   "source": [
    "When we multiplied our weights/coefficients with our inputs (independent vars), that looked like this:"
   ]
  },
  {
   "cell_type": "code",
   "execution_count": null,
   "id": "5135c661-f9c8-46aa-bd4d-6337bfdb766b",
   "metadata": {},
   "outputs": [
    {
     "name": "stdout",
     "output_type": "stream",
     "text": [
      "shape for our indep variables: torch.Size([178, 12]) and for our coeffs: torch.Size([12])\n",
      "shape of the output: torch.Size([178])\n"
     ]
    },
    {
     "data": {
      "text/plain": [
       "tensor([ 13.6089, -14.7533, -15.4929, -13.1274, -13.3325, -13.6610,   4.0167,   5.8253, -23.0645,   3.4834, -22.6130, -15.7467, -22.3585,\n",
       "          4.4615, -22.6582, -12.4425, -12.8174,   5.8064, -13.5660,  -3.3766, -22.4632, -12.6487,  13.6359,   5.1308, -22.3926, -14.8863,\n",
       "         -3.0881, -12.7612, -22.3283,   4.4609,   5.8044,  -4.1316, -22.3695, -22.5843,  13.4964,  -3.7069, -12.4694,  14.1804, -22.4624,\n",
       "         -3.4474, -13.2288, -22.4624, -13.7275,  14.0347, -22.3875,  -4.0215, -22.4182, -22.6391, -14.7575,  -3.2149,  -5.0196, -23.2145,\n",
       "        -23.0521, -22.4864, -13.3600, -13.4725, -14.7532, -22.8404, -22.4062, -22.5187,  -5.1856, -22.5161, -13.0934, -22.4068,   5.3747,\n",
       "        -12.0506, -13.3138, -22.6985, -15.3090,   5.5082, -22.5007,   3.5429, -13.4537, -22.4559, -12.0498, -22.3138, -22.4624, -12.4381,\n",
       "        -13.2201, -13.7391, -13.2998,  13.7273, -22.4445, -22.4665,   5.4042,  -6.6977,  -5.0811,   7.0301,  12.6450, -13.2951, -22.6109,\n",
       "        -22.4624,  14.0867, -15.6054,   3.7333,  -6.5654, -13.6972,   4.1465,   4.4984, -14.6649, -22.6348,   4.4609, -22.6132, -22.5757,\n",
       "        -12.3268, -13.6512, -22.5684,   5.3629,  -5.2202, -22.7411,   5.5522,  -3.5265, -12.0436,  14.5804, -22.4624,  13.3295,  -4.1303,\n",
       "        -14.7532, -22.8019,  13.6447, -23.0690,  -5.9866, -14.7532,  -3.7630, -15.4929, -12.1373,  -3.2684,  -3.2868, -22.3059, -13.8394,\n",
       "          7.3663, -22.6140,   5.5247,   5.7410,  14.0335, -22.3687, -13.9684, -22.5497,  -6.6439,   5.7141, -13.4263,  13.4812, -22.8617,\n",
       "        -14.9032,  -3.8442,   6.3010, -22.7220,   3.5589,   7.2280,   3.2512,  -3.4625,   4.2525,   5.9479, -15.2217, -15.0676, -24.0177,\n",
       "        -22.4624,  -3.3451, -13.5013, -22.4387,  14.1658,  -6.5817, -22.6050, -12.5964,  13.7395,   6.7952,   5.6328,   5.5629, -13.2952,\n",
       "        -12.6240,  -3.5321, -22.3449,   7.0628, -22.4559, -22.8380,   6.7744, -12.0429, -22.4375], grad_fn=<SumBackward1>)"
      ]
     },
     "execution_count": null,
     "metadata": {},
     "output_type": "execute_result"
    }
   ],
   "source": [
    "print(f'shape for our indep variables: {val_indep.shape} and for our coeffs: {coeffs.shape}')\n",
    "output = (val_indep*coeffs).sum(axis=1)  # [x1, x2, x3, ..., x12] * [c1, c2, c3, ..., c12]\n",
    "print(f'shape of the output: {output.shape}')\n",
    "output"
   ]
  },
  {
   "cell_type": "markdown",
   "id": "e078879a-e31a-4081-816a-b94c8f8749ea",
   "metadata": {},
   "source": [
    "How the operator * works on tensors:"
   ]
  },
  {
   "cell_type": "code",
   "execution_count": null,
   "id": "654ab72f-dc1a-4c45-a2bd-23fdd4610774",
   "metadata": {},
   "outputs": [],
   "source": [
    "t1 = torch.tensor([1,2,3])\n",
    "t2 = torch.tensor([2])\n",
    "t3 = t1 * t1 # elementwise multiplication: tensor([1, 4, 9])\n",
    "t4 = t1 * t2  # broadcasting: tensor([2, 4, 6])\n",
    "t5 = torch.tensor([2,3])\n",
    "# this gives an error: t6 = t1 * t5 => The size of tensor a (3) must match the size of tensor b (2) at non-singleton dimension 0\n",
    "t7 = torch.tensor([1,2,3]) * torch.tensor([2,3,4]) # tensor([ 2,  6, 12]) => element wise"
   ]
  },
  {
   "cell_type": "markdown",
   "id": "deb43329-f889-4d47-8e79-5991d94c1a46",
   "metadata": {},
   "source": [
    "We can however be more efficient by using a matrix dot product to calculate our indep * coeffs:"
   ]
  },
  {
   "cell_type": "code",
   "execution_count": null,
   "id": "2a7d401d-90bd-4811-baa7-11c561ce7b4b",
   "metadata": {},
   "outputs": [
    {
     "name": "stdout",
     "output_type": "stream",
     "text": [
      "a is: tensor([2, 3, 4])\n",
      "b is tensor([[1, 2, 3],\n",
      "        [2, 3, 1],\n",
      "        [3, 2, 1]])\n",
      "a is a 1x3 matrix and b a 3x3 matrix, so result should be a 1x3 matrix\n"
     ]
    },
    {
     "data": {
      "text/plain": [
       "tensor([20, 21, 13])"
      ]
     },
     "execution_count": null,
     "metadata": {},
     "output_type": "execute_result"
    }
   ],
   "source": [
    "# For the behavior of matrix multiplication operator @, see:\n",
    "# https://pytorch.org/docs/stable/generated/torch.matmul.html\n",
    "# the behavior depends on the dimensionality of the params:\n",
    "torch.tensor([1,2,3])@torch.tensor([2,4,6]) # is: 2 + 8 + 18 = 28\n",
    "a = torch.tensor( [2, 3, 4])\n",
    "b = torch.tensor([[1, 2, 3],\n",
    "                  [2, 3, 1],\n",
    "                  [3, 2, 1]])\n",
    "print(f'a is: {a}')\n",
    "print(f'b is {b}')\n",
    "print(f'a is a 1x3 matrix and b a 3x3 matrix, so result should be a 1x3 matrix')\n",
    "a@b # [2+6+12=20, 4+9+8=21, 6+3+4=13]"
   ]
  },
  {
   "cell_type": "code",
   "execution_count": null,
   "id": "7c4c4b43-e65a-4f74-8531-21485f0e6d65",
   "metadata": {},
   "outputs": [
    {
     "name": "stdout",
     "output_type": "stream",
     "text": [
      "shape of the output: torch.Size([178])\n"
     ]
    },
    {
     "data": {
      "text/plain": [
       "tensor([ 13.6089, -14.7533, -15.4929, -13.1274, -13.3325, -13.6610,   4.0167,   5.8253, -23.0645,   3.4834, -22.6130, -15.7467, -22.3585,\n",
       "          4.4615, -22.6582, -12.4425, -12.8174,   5.8064, -13.5660,  -3.3766, -22.4632, -12.6487,  13.6359,   5.1308, -22.3926, -14.8863,\n",
       "         -3.0881, -12.7612, -22.3283,   4.4609,   5.8044,  -4.1316, -22.3695, -22.5843,  13.4964,  -3.7069, -12.4694,  14.1804, -22.4624,\n",
       "         -3.4474, -13.2288, -22.4624, -13.7275,  14.0347, -22.3875,  -4.0215, -22.4182, -22.6391, -14.7575,  -3.2149,  -5.0196, -23.2145,\n",
       "        -23.0521, -22.4864, -13.3600, -13.4725, -14.7532, -22.8404, -22.4062, -22.5187,  -5.1856, -22.5161, -13.0934, -22.4068,   5.3747,\n",
       "        -12.0506, -13.3138, -22.6985, -15.3090,   5.5082, -22.5007,   3.5429, -13.4537, -22.4559, -12.0498, -22.3138, -22.4624, -12.4381,\n",
       "        -13.2201, -13.7391, -13.2998,  13.7273, -22.4445, -22.4665,   5.4042,  -6.6977,  -5.0811,   7.0301,  12.6450, -13.2951, -22.6109,\n",
       "        -22.4624,  14.0867, -15.6054,   3.7333,  -6.5654, -13.6972,   4.1465,   4.4984, -14.6649, -22.6348,   4.4609, -22.6132, -22.5757,\n",
       "        -12.3268, -13.6512, -22.5684,   5.3629,  -5.2202, -22.7411,   5.5522,  -3.5265, -12.0436,  14.5804, -22.4624,  13.3295,  -4.1303,\n",
       "        -14.7532, -22.8019,  13.6447, -23.0690,  -5.9866, -14.7532,  -3.7630, -15.4929, -12.1373,  -3.2684,  -3.2868, -22.3059, -13.8394,\n",
       "          7.3663, -22.6140,   5.5247,   5.7410,  14.0335, -22.3687, -13.9684, -22.5497,  -6.6439,   5.7141, -13.4263,  13.4812, -22.8617,\n",
       "        -14.9032,  -3.8442,   6.3010, -22.7220,   3.5589,   7.2280,   3.2512,  -3.4625,   4.2525,   5.9479, -15.2217, -15.0676, -24.0177,\n",
       "        -22.4624,  -3.3451, -13.5013, -22.4387,  14.1658,  -6.5817, -22.6050, -12.5964,  13.7395,   6.7952,   5.6328,   5.5629, -13.2952,\n",
       "        -12.6240,  -3.5321, -22.3449,   7.0628, -22.4559, -22.8380,   6.7744, -12.0429, -22.4375], grad_fn=<MvBackward0>)"
      ]
     },
     "execution_count": null,
     "metadata": {},
     "output_type": "execute_result"
    }
   ],
   "source": [
    "output = val_indep @ coeffs  # this simple operation replaces: (val_indep*coeffs).sum(axis=1)\n",
    "print(f'shape of the output: {output.shape}')\n",
    "output"
   ]
  },
  {
   "cell_type": "code",
   "execution_count": null,
   "id": "add98752-6fd0-464e-9f31-1efcade5436c",
   "metadata": {},
   "outputs": [],
   "source": [
    "def calc_preds(coeffs, indeps): return torch.sigmoid(indeps@coeffs) # this redefines the prev function"
   ]
  },
  {
   "cell_type": "code",
   "execution_count": null,
   "id": "0914ee81-cf32-43fa-92ea-8d14bf480206",
   "metadata": {},
   "outputs": [
    {
     "name": "stdout",
     "output_type": "stream",
     "text": [
      "0.510; 0.327; 0.294; 0.207; 0.201; 0.199; 0.198; 0.197; 0.196; 0.196; 0.196; 0.195; 0.195; 0.195; 0.195; 0.195; 0.195; 0.195; 0.194; 0.194; 0.194; 0.194; 0.194; 0.194; 0.194; 0.194; 0.194; 0.194; 0.194; 0.194; 0.194; 0.194; 0.194; 0.194; 0.194; 0.194; 0.194; 0.193; 0.193; 0.193; 0.193; 0.193; 0.193; 0.193; 0.193; 0.193; 0.193; 0.193; 0.193; 0.193; "
     ]
    },
    {
     "data": {
      "text/plain": [
       "tensor([ -1.4997,  -1.4376,  -0.6251,   0.2758, -10.4215,   8.7926,   3.8766,   2.6415,  -6.4879,   1.7732,   2.5102,  -5.2006],\n",
       "       requires_grad=True)"
      ]
     },
     "execution_count": null,
     "metadata": {},
     "output_type": "execute_result"
    }
   ],
   "source": [
    "coeffs = train_model(lr=100)\n",
    "coeffs"
   ]
  },
  {
   "cell_type": "code",
   "execution_count": null,
   "id": "a6d5d998-8fa4-4a94-b1cf-9acd5cb24141",
   "metadata": {},
   "outputs": [
    {
     "data": {
      "text/plain": [
       "tensor(0.8258)"
      ]
     },
     "execution_count": null,
     "metadata": {},
     "output_type": "execute_result"
    }
   ],
   "source": [
    "acc(coeffs)"
   ]
  },
  {
   "cell_type": "markdown",
   "id": "73573e17-8e79-440e-b10f-87828e889871",
   "metadata": {},
   "source": [
    "Our coefficients are now in the form of a simple row-vector.  The behavior of the @ operator is slightly differnet and we'll later need to do  matrix-matrix multiplications for which we'll need the coefficients to be a column vector instead of a row vector.  We can do this by providing an additional param to torch.rand:"
   ]
  },
  {
   "cell_type": "code",
   "execution_count": null,
   "id": "bc5c4891-d6d0-4f95-a909-c21cdace312c",
   "metadata": {},
   "outputs": [
    {
     "data": {
      "text/plain": [
       "tensor([[0.0672],\n",
       "        [0.0732],\n",
       "        [0.0142],\n",
       "        [0.0499],\n",
       "        [0.0317],\n",
       "        [0.0259],\n",
       "        [0.0549],\n",
       "        [0.0587],\n",
       "        [0.0447],\n",
       "        [0.0813],\n",
       "        [0.0351],\n",
       "        [0.0245]], requires_grad=True)"
      ]
     },
     "execution_count": null,
     "metadata": {},
     "output_type": "execute_result"
    }
   ],
   "source": [
    "def init_coeffs(): return (torch.rand(n_coeff, 1)*0.1).requires_grad_()\n",
    "col_coeffs = init_coeffs()\n",
    "col_coeffs"
   ]
  },
  {
   "cell_type": "code",
   "execution_count": null,
   "id": "319b63be-dbb7-463b-988d-51a3b6f3aaf8",
   "metadata": {},
   "outputs": [
    {
     "data": {
      "text/plain": [
       "tensor([1, 0, 1, 0, 0, 1, 1, 0, 0, 1, 1, 0, 0, 0, 1, 1, 1, 0, 0, 0, 0, 1, 0, 0, 1, 0, 0, 0, 0, 1, 1, 0, 1, 1, 0, 0, 0, 1, 0, 0, 1, 1, 0, 0,\n",
       "        1, 1, 0, 0, 1, 0, 0, 0, 1, 0, 0, 0, 1, 0, 0, 0, 0, 0, 1, 0, 0, 1, 1, 1, 1, 1, 1, 1, 0, 0, 0, 0, 1, 0, 1, 0, 0, 0, 1, 1, 0, 1, 0, 0,\n",
       "        0, 0, 0, 0, 0, 1, 1, 1, 1, 0, 0, 1, 1, 0, 0, 1, 0, 0, 0, 0, 0, 0, 0, 1, 0, 1, 1, 0, 1, 0, 0, 1, 0, 1, 0, 1, 1, 0, 0, 1, 0, 0, 0, 0,\n",
       "        0, 0, 0, 0, 1, 0, 1, 0, 0, 1, 1, 0, 1, 1, 0, 0, 1, 0, 0, 1, 1, 0, 0, 1, 0, 0, 0, 1, 0, 1, 0, 0, 0, 1, 1, 0, 0, 0, 1, 0, 0, 1, 0, 1,\n",
       "        1, 1, 0, 0, 0, 0, 1, 1, 1, 1, 0, 1, 1, 0, 0, 0, 1, 1, 0, 0, 0, 0, 1, 1, 1, 1, 0, 0, 0, 1, 0, 0, 1, 0, 0, 1, 0, 0, 0, 0, 0, 0, 1, 0,\n",
       "        0, 0, 0, 0, 1, 1, 1, 0, 0, 0, 1, 0, 0, 0, 0, 0, 1, 0, 1, 0, 1, 0, 0, 0, 0, 0, 1, 1, 0, 0, 0, 0, 1, 1, 1, 0, 1, 1, 1, 0, 0, 1, 0, 0,\n",
       "        1, 0, 1, 0, 0, 0, 0, 1, 0, 1, 1, 0, 0, 1, 1, 1, 1, 0, 0, 1, 1, 1, 0, 1, 0, 1, 1, 0, 0, 0, 1, 1, 1, 0, 0, 1, 0, 1, 1, 1, 0, 1, 1, 0,\n",
       "        1, 0, 0, 0, 1, 1, 1, 0, 0, 0, 0, 1, 0, 0, 0, 0, 0, 1, 1, 1, 0, 1, 0, 0, 1, 1, 0, 1, 1, 0, 1, 1, 0, 0, 0, 0, 0, 0, 1, 0, 0, 0, 1, 0,\n",
       "        0, 0, 0, 0, 0, 0, 0, 1, 0, 0, 0, 1, 1, 0, 0, 1, 0, 1, 0, 1, 0, 0, 1, 1, 1, 0, 0, 1, 0, 0, 0, 1, 0, 1, 0, 0, 1, 0, 1, 0, 1, 0, 0, 1,\n",
       "        0, 1, 1, 0, 0, 0, 0, 1, 0, 0, 0, 0, 0, 0, 1, 1, 1, 1, 1, 1, 0, 1, 0, 1, 0, 1, 0, 0, 1, 1, 0, 0, 0, 1, 0, 0, 0, 0, 1, 0, 0, 1, 0, 0,\n",
       "        0, 1, 0, 1, 0, 0, 1, 0, 1, 0, 1, 1, 0, 0, 0, 0, 0, 0, 1, 1, 1, 1, 1, 0, 1, 0, 1, 0, 0, 1, 1, 1, 0, 0, 0, 0, 0, 1, 1, 0, 0, 0, 1, 1,\n",
       "        0, 0, 0, 0, 0, 1, 1, 1, 0, 0, 0, 1, 0, 1, 1, 1, 1, 1, 0, 0, 1, 1, 0, 0, 1, 0, 0, 1, 0, 1, 0, 1, 0, 0, 1, 1, 1, 0, 0, 0, 0, 0, 0, 0,\n",
       "        1, 0, 0, 0, 0, 1, 1, 1, 0, 0, 0, 1, 0, 0, 1, 0, 0, 0, 0, 0, 0, 0, 0, 1, 0, 0, 1, 0, 0, 1, 0, 0, 0, 1, 0, 0, 0, 0, 0, 1, 1, 0, 1, 1,\n",
       "        0, 0, 0, 0, 1, 0, 1, 1, 0, 0, 0, 0, 0, 1, 0, 0, 0, 1, 0, 0, 0, 0, 1, 0, 0, 0, 0, 0, 0, 1, 1, 0, 1, 0, 0, 0, 1, 0, 0, 1, 0, 1, 1, 0,\n",
       "        0, 0, 0, 1, 0, 0, 0, 0, 0, 0, 0, 0, 0, 0, 1, 1, 0, 0, 0, 0, 1, 0, 1, 0, 0, 1, 0, 0, 1, 0, 0, 0, 1, 1, 1, 0, 0, 0, 1, 0, 0, 0, 1, 0,\n",
       "        1, 0, 1, 1, 0, 0, 0, 0, 0, 0, 0, 0, 0, 0, 1, 0, 1, 0, 1, 0, 0, 1, 0, 0, 0, 0, 1, 0, 1, 0, 0, 0, 0, 1, 1, 1, 0, 0, 0, 0, 1, 0, 0, 0,\n",
       "        1, 1, 0, 0, 0, 0, 1, 0, 0])"
      ]
     },
     "execution_count": null,
     "metadata": {},
     "output_type": "execute_result"
    }
   ],
   "source": [
    "trn_dep # see how this is a simple row vector - this needs to become a col vector"
   ]
  },
  {
   "cell_type": "code",
   "execution_count": null,
   "id": "c68c8273-5ac7-4d0b-a00f-1fa0401b131b",
   "metadata": {},
   "outputs": [
    {
     "name": "stdout",
     "output_type": "stream",
     "text": [
      "a is: \n",
      " tensor([-1.8477,  0.8635, -0.9901,  1.6304])\n",
      "a2 after resize of a has 1 row and 4 cols: \n",
      " tensor([[-1.8477,  0.8635, -0.9901,  1.6304]])\n",
      "a2 transposed is now a column vector: \n",
      " tensor([[-1.8477],\n",
      "        [ 0.8635],\n",
      "        [-0.9901],\n",
      "        [ 1.6304]])\n"
     ]
    }
   ],
   "source": [
    "a = torch.randn(4) # TODO try transpose this to col vector\n",
    "print(f'a is: \\n {a}')\n",
    "# b = torch.transpose(a,0,1) => this does not work: Dimension out of range (expected to be in range of [-1, 0], but got 1)\n",
    "a2 = a.resize(1,4)\n",
    "print(f'a2 after resize of a has 1 row and 4 cols: \\n {a2}')\n",
    "b = torch.transpose(a2,0,-1)\n",
    "print(f'a2 transposed is now a column vector: \\n {b}')"
   ]
  },
  {
   "cell_type": "code",
   "execution_count": null,
   "id": "39cd509a-0b51-41c1-b664-071107eccc16",
   "metadata": {},
   "outputs": [
    {
     "name": "stdout",
     "output_type": "stream",
     "text": [
      "shape of trn_dep is: torch.Size([713, 1])\n",
      "shape of val_dep is: torch.Size([178, 1])\n",
      "\n"
     ]
    }
   ],
   "source": [
    "print(f'shape of trn_dep is: {trn_dep.shape}')\n",
    "print(f'shape of val_dep is: {val_dep.shape}')\n",
    "trn_dep.resize_(1,713)\n",
    "trn_dep.transpose_(0,1)\n",
    "val_dep.resize_(1,178)\n",
    "val_dep.transpose_(0,1)\n",
    "print('')"
   ]
  },
  {
   "cell_type": "code",
   "execution_count": null,
   "id": "5d9628c6-d863-4410-b9c1-bab1209876b4",
   "metadata": {},
   "outputs": [
    {
     "name": "stdout",
     "output_type": "stream",
     "text": [
      "0.512; 0.323; 0.290; 0.205; 0.200; 0.198; 0.197; 0.197; 0.196; 0.196; 0.196; 0.195; 0.195; 0.195; 0.195; 0.195; 0.195; 0.194; 0.194; 0.194; 0.194; 0.194; 0.194; 0.194; 0.194; 0.194; 0.194; 0.194; 0.194; 0.194; 0.194; 0.194; 0.194; 0.194; 0.194; 0.194; 0.193; 0.193; 0.193; 0.193; 0.193; 0.193; 0.193; 0.193; 0.193; 0.193; 0.193; 0.193; 0.193; 0.193; "
     ]
    }
   ],
   "source": [
    "coeffs = train_model(lr=100)"
   ]
  },
  {
   "cell_type": "code",
   "execution_count": null,
   "id": "d420b10e-f540-40cc-840d-c617ac4c5b3c",
   "metadata": {},
   "outputs": [
    {
     "data": {
      "text/plain": [
       "tensor(0.8258)"
      ]
     },
     "execution_count": null,
     "metadata": {},
     "output_type": "execute_result"
    }
   ],
   "source": [
    "acc(coeffs)"
   ]
  },
  {
   "cell_type": "markdown",
   "id": "9c837a7d-3d3a-442c-8fa5-6c5e4f526bba",
   "metadata": {},
   "source": [
    "## Towards a Neural Network\n",
    "\n",
    "Let's make a neural network with 2 layers.  Each layer has a set of weights, one for each feature column (12 in total: `n_coeff`).  The output for layer 1 is hidden and connected to layer 2, so we can choose how many hidden outputs we make this; let's call this `n_hidden`.\n",
    "\n",
    "Layer 1:\n",
    "- input is:    1 x `n_coeff` (rowvector of 12 inputs)\n",
    "- weights are: `n_coeff` x `n_hidden` (so we have n_hidden outputs)\n",
    "  we will divide those coefficients by the number of hidden outputs, so size remains proportional when those are added up in the next layer\n",
    "- result is:   1 x `n_hidden`\n",
    "\n",
    "Layer 2:\n",
    "- input is:    1 x `n_hidden`\n",
    "- weights are: `n_hidden` x 1 (we just need a single output)\n",
    "- result is:   1 output"
   ]
  },
  {
   "cell_type": "code",
   "execution_count": null,
   "id": "76661e19-15d9-48e6-ac78-53c42a819fe1",
   "metadata": {},
   "outputs": [
    {
     "data": {
      "text/plain": [
       "12"
      ]
     },
     "execution_count": null,
     "metadata": {},
     "output_type": "execute_result"
    }
   ],
   "source": [
    "n_coeff"
   ]
  },
  {
   "cell_type": "code",
   "execution_count": null,
   "id": "1495563c-9107-4c69-b071-8cccc2043d9b",
   "metadata": {},
   "outputs": [],
   "source": []
  }
 ],
 "metadata": {
  "kernelspec": {
   "display_name": "Python 3 (ipykernel)",
   "language": "python",
   "name": "python3"
  }
 },
 "nbformat": 4,
 "nbformat_minor": 5
}
