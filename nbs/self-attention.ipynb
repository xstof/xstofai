{
 "cells": [
  {
   "cell_type": "markdown",
   "id": "341662c6-481d-4f92-8503-1a6bbe143dd3",
   "metadata": {},
   "source": [
    "# Self Attention"
   ]
  },
  {
   "cell_type": "markdown",
   "id": "0ae7714a-bb40-4ed4-8ee0-bf541a1f1383",
   "metadata": {},
   "source": [
    "The below personal learning notes made use of [Understanding and Coding the Self-Attention Mechanism of Large Language Models From Scratch](https://sebastianraschka.com/blog/2023/self-attention-from-scratch.html)"
   ]
  },
  {
   "cell_type": "code",
   "execution_count": null,
   "id": "c0ff7092-c379-4a92-936e-51d21c2d7f93",
   "metadata": {},
   "outputs": [],
   "source": [
    "#|hide\n",
    "import numpy as np # linear algebra\n",
    "import pandas as pd # data processing, CSV file I/O (e.g. pd.read_csv)\n",
    "import matplotlib.pyplot as plt\n",
    "import torch\n",
    "import torch.nn as nn\n",
    "from torch.nn import functional as F"
   ]
  },
  {
   "cell_type": "markdown",
   "id": "70c85faf-19b7-4fae-be47-8fefd1ce95a4",
   "metadata": {},
   "source": [
    "## What is self-attention?"
   ]
  },
  {
   "cell_type": "markdown",
   "id": "6127bedb-2259-4371-a142-5a52c55a2ef3",
   "metadata": {},
   "source": [
    "Self-Attention started out from research work in translation and was introduced to give access to all elements in a sequence at each time step.  In language tasks, the meaning of a word can depend on the context within a larger text document.  Attention enables the model to weigh the importance of different elements in the input sequence and adjust their influence on the output."
   ]
  },
  {
   "cell_type": "markdown",
   "id": "2e6f5447-e490-481b-9e67-caf7088fb80d",
   "metadata": {},
   "source": [
    "## Embedding an Input Sentence"
   ]
  },
  {
   "cell_type": "markdown",
   "id": "3b7e6d1d-6a9e-4e59-a02e-1e192545d4be",
   "metadata": {},
   "source": [
    "Our input is: \"Music makes me happy\".  We'll create an embeding for this entire sentence first."
   ]
  },
  {
   "cell_type": "code",
   "execution_count": null,
   "id": "0cf2806c-2d72-4258-95b6-548e20114c2a",
   "metadata": {},
   "outputs": [
    {
     "data": {
      "text/plain": [
       "['Music', 'makes', 'me', 'happy']"
      ]
     },
     "execution_count": null,
     "metadata": {},
     "output_type": "execute_result"
    }
   ],
   "source": [
    "sentence = \"Music makes me happy\"\n",
    "\n",
    "sentence_words = sentence.split()\n",
    "sentence_words"
   ]
  },
  {
   "cell_type": "code",
   "execution_count": null,
   "id": "fa5741b7-579a-4af4-9aad-84bae49fab1f",
   "metadata": {},
   "outputs": [
    {
     "data": {
      "text/plain": [
       "['Music', 'happy', 'makes', 'me']"
      ]
     },
     "execution_count": null,
     "metadata": {},
     "output_type": "execute_result"
    }
   ],
   "source": [
    "sentence_words_sorted = sorted(sentence_words)\n",
    "sentence_words_sorted"
   ]
  },
  {
   "cell_type": "code",
   "execution_count": null,
   "id": "2302470f-6f89-43ec-a8e1-09515d85c408",
   "metadata": {},
   "outputs": [
    {
     "data": {
      "text/plain": [
       "{'Music': 0, 'happy': 1, 'makes': 2, 'me': 3}"
      ]
     },
     "execution_count": null,
     "metadata": {},
     "output_type": "execute_result"
    }
   ],
   "source": [
    "dict = {word_str:word_idx for word_idx, word_str in enumerate(sentence_words_sorted)}\n",
    "dict"
   ]
  },
  {
   "cell_type": "markdown",
   "id": "affec714-84fc-4520-ab58-5abf2601280f",
   "metadata": {},
   "source": [
    "`dict` is our dictionary, conveniently restricted to just the words we're using here.  Every word we're using has a number associated (the index in our dictionary.  \n",
    "\n",
    "We can now translate our sentence in an array of integers:"
   ]
  },
  {
   "cell_type": "code",
   "execution_count": null,
   "id": "3855eb7d-de37-4383-abee-8e448980a4af",
   "metadata": {},
   "outputs": [
    {
     "data": {
      "text/plain": [
       "[0, 2, 3, 1]"
      ]
     },
     "execution_count": null,
     "metadata": {},
     "output_type": "execute_result"
    }
   ],
   "source": [
    "sentence_int = [dict[word] for word in sentence_words]\n",
    "sentence_int"
   ]
  },
  {
   "cell_type": "markdown",
   "id": "346f99ed-2cdd-4d1e-8896-c577fa7f0516",
   "metadata": {},
   "source": [
    "## Resources"
   ]
  },
  {
   "cell_type": "markdown",
   "id": "ead4441d-ae46-456c-bd66-463299f85559",
   "metadata": {},
   "source": [
    "- [Attention is all you need](https://arxiv.org/abs/1706.03762)\n",
    "- [Thinking Like Transformers](https://arxiv.org/abs/2106.06981)"
   ]
  },
  {
   "cell_type": "code",
   "execution_count": null,
   "id": "119134fe-eea8-4d9d-a0f1-f875272541ee",
   "metadata": {},
   "outputs": [],
   "source": []
  }
 ],
 "metadata": {
  "kernelspec": {
   "display_name": "python3",
   "language": "python",
   "name": "python3"
  }
 },
 "nbformat": 4,
 "nbformat_minor": 5
}
