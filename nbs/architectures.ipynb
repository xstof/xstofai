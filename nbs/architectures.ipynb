{
 "cells": [
  {
   "cell_type": "markdown",
   "id": "3d60a100-8a0f-4243-9b71-e9d91bef2206",
   "metadata": {},
   "source": [
    "# Architectures\n",
    "\n",
    "## Impact of choice of Architecture\n",
    "\n",
    "The chosen model architecture can highly impact results.  If, for example, not looking at the time axis,  we compare performance of models between `resnet` and  `convnext_in22` we see a score difference between 83 and 87.  The default choice should no longer be blindly `resnet` as the community has moved on from that.\n",
    "\n",
    "Beyond mere scoring, another important factor to take into account is how well an architecture is suiteable for transfer-learning.  [Have a look](https://www.kaggle.com/code/jhoward/the-best-vision-models-for-fine-tuning?scriptVersionId=102071666&cellId=16) at `convnext_large_in22k` for example.\n",
    "\n",
    "## GPU Impact\n",
    "\n",
    "Larger architectures will require a GPU with more memory as they have more parameters.  There's however a way to circumvent this.  See [Practical Deep Learning for Coders - Lesson 7](https://youtu.be/p4ZZq0736Po?t=445).\n",
    "\n",
    "### Listing GPU Memory\n",
    "Jeremy reports on GPU memory used by doing:"
   ]
  },
  {
   "cell_type": "code",
   "execution_count": null,
   "id": "eb204219-36ec-465f-b776-b3158d54c43e",
   "metadata": {},
   "outputs": [],
   "source": [
    "import gc\n",
    "def report_gpu():\n",
    "    print(torch.cuda.list_gpu_processes())\n",
    "    gc.collect()\n",
    "    torch.cuda.empty_cache()"
   ]
  },
  {
   "cell_type": "markdown",
   "id": "a32737bd-357e-48b8-935e-a443bb18c4d0",
   "metadata": {},
   "source": [
    "### Gradient Accumulation\n",
    "\n",
    "Using a cool trick called [`gradient accumulation`](https://youtu.be/p4ZZq0736Po) one can run largest models even on a modest GPU.  FastAI has this built in."
   ]
  },
  {
   "cell_type": "markdown",
   "id": "1fb79cb7-cd58-40c8-be2e-f5651e53fd75",
   "metadata": {},
   "source": [
    "\n",
    "## References\n",
    "\n",
    "- [Practical Deep Learning for Coders - Lesson 6 (evaluating different architectures](https://youtu.be/AdhG64NF76E?t=5201)\n",
    "- [Which image models are best (Notebook from Jeremy on Kaggle](https://www.kaggle.com/code/jhoward/which-image-models-are-best)\n",
    "- [The best vision models for fine tuning (Notebook from Jeremy on Kaggle](https://www.kaggle.com/code/jhoward/the-best-vision-models-for-fine-tuning/notebook)"
   ]
  },
  {
   "cell_type": "code",
   "execution_count": null,
   "id": "86483ae5-b0cc-439b-81c3-defe1bc7c7d1",
   "metadata": {},
   "outputs": [],
   "source": []
  }
 ],
 "metadata": {
  "kernelspec": {
   "display_name": "python3",
   "language": "python",
   "name": "python3"
  }
 },
 "nbformat": 4,
 "nbformat_minor": 5
}
