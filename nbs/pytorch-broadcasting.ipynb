{
 "cells": [
  {
   "cell_type": "markdown",
   "id": "d75035ef-e5f0-4d28-9d55-851a3c7638b6",
   "metadata": {},
   "source": [
    "# Pytorch Broadcasting"
   ]
  },
  {
   "cell_type": "code",
   "execution_count": null,
   "id": "9c55cfa9-b965-4db6-ad84-247e8140746a",
   "metadata": {},
   "outputs": [],
   "source": [
    "#|hide\n",
    "import numpy as np # linear algebra\n",
    "import pandas as pd # data processing, CSV file I/O (e.g. pd.read_csv)\n",
    "import matplotlib.pyplot as plt\n",
    "import torch\n",
    "import torch.nn as nn\n",
    "from torch.nn import functional as F\n",
    "\n",
    "torch.manual_seed(123)\n",
    "torch.set_printoptions(precision=1, sci_mode=False, profile='short')"
   ]
  },
  {
   "cell_type": "markdown",
   "id": "36e6f38f-648e-4611-a89e-892d4c9356c7",
   "metadata": {},
   "source": [
    "## Some simple tensors"
   ]
  },
  {
   "cell_type": "markdown",
   "id": "b56e43aa-0a2e-42c7-ac3f-b5746d67fdd5",
   "metadata": {},
   "source": [
    "Let's start with some simple tensors we can use to learn with:"
   ]
  },
  {
   "cell_type": "code",
   "execution_count": null,
   "id": "ebcace48-e61b-4aad-a3aa-4c1bf86f9f85",
   "metadata": {},
   "outputs": [],
   "source": [
    "x = torch.tensor([[1, 2, 3],\n",
    "                  [4, 5, 6]])\n",
    "y = torch.tensor([2,4,5])"
   ]
  },
  {
   "cell_type": "code",
   "execution_count": null,
   "id": "bd2fa2f7-9646-4f10-85b3-36955e92a754",
   "metadata": {},
   "outputs": [
    {
     "data": {
      "text/plain": [
       "(torch.Size([3, 2, 3]), torch.Size([3]))"
      ]
     },
     "execution_count": null,
     "metadata": {},
     "output_type": "execute_result"
    }
   ],
   "source": [
    "x.shape, y.shape"
   ]
  },
  {
   "cell_type": "markdown",
   "id": "9bf6a5a2-bafa-47db-ae55-d23faca52872",
   "metadata": {},
   "source": [
    "x has 2 rows (first dimension) and 3 cols (second dimension)"
   ]
  },
  {
   "cell_type": "markdown",
   "id": "85a74abc-005e-4fd5-b4e1-9c2d1a4d7adc",
   "metadata": {},
   "source": [
    "## Broadcasting - 2 dimensions"
   ]
  },
  {
   "cell_type": "markdown",
   "id": "24fab933-d162-4970-96d2-2ab3e89aac35",
   "metadata": {},
   "source": [
    "Pytorch broadcasting takes 2 tensors and compares their dimensions, starting from the right to the left.  So:\n",
    "\n",
    "- x has dim: `2, 3`\n",
    "- y has dim: `   3`\n",
    "\n",
    "now pytorch will align the most right dimensions and use y two times (because of the missing corresponding dimension 2 x has but y has not.  This always starts from the most inner dimension."
   ]
  },
  {
   "cell_type": "code",
   "execution_count": null,
   "id": "00e46bcc-8cd6-4e3b-bc8c-d97e57260019",
   "metadata": {},
   "outputs": [
    {
     "data": {
      "text/plain": [
       "tensor([[ 2,  6, 12],\n",
       "        [20, 30, 42]])"
      ]
     },
     "execution_count": null,
     "metadata": {},
     "output_type": "execute_result"
    }
   ],
   "source": [
    "x * y # element wise addition"
   ]
  },
  {
   "cell_type": "markdown",
   "id": "0afd5725-1760-4eeb-8eb1-5815c326db36",
   "metadata": {},
   "source": [
    "What if y has two dimensions but the first dimension is 1?\n",
    "\n",
    "- x has dim: `2, 3`\n",
    "- y has dim: `1, 3`"
   ]
  },
  {
   "cell_type": "code",
   "execution_count": null,
   "id": "ccd634d9-c219-4ce3-aef1-d7cd6edfe1cc",
   "metadata": {},
   "outputs": [],
   "source": [
    "y = torch.tensor([[2,4,5]])"
   ]
  },
  {
   "cell_type": "code",
   "execution_count": null,
   "id": "5c2dbd37-6e40-485e-8f9c-c979e77b83f4",
   "metadata": {},
   "outputs": [
    {
     "data": {
      "text/plain": [
       "tensor([[ 2,  8, 15],\n",
       "        [ 8, 20, 30]])"
      ]
     },
     "execution_count": null,
     "metadata": {},
     "output_type": "execute_result"
    }
   ],
   "source": [
    "x * y"
   ]
  },
  {
   "cell_type": "markdown",
   "id": "eace362f-daaa-4abf-bf1a-b7a070d13b87",
   "metadata": {},
   "source": [
    "This is exactly the same result: y will be broadcasted.  Will this also work when y has 2 dimensions, just like x?  In that case, no broadcasting is needed:"
   ]
  },
  {
   "cell_type": "code",
   "execution_count": null,
   "id": "8a9dd266-4248-4dd4-987b-2ccd257d9533",
   "metadata": {},
   "outputs": [
    {
     "data": {
      "text/plain": [
       "tensor([[ 2,  6, 12],\n",
       "        [20, 30, 42]])"
      ]
     },
     "execution_count": null,
     "metadata": {},
     "output_type": "execute_result"
    }
   ],
   "source": [
    "x = torch.tensor([[1, 2, 3],\n",
    "                  [4, 5, 6]])\n",
    "y = torch.tensor([[2, 3, 4],\n",
    "                  [5, 6, 7]])\n",
    "x * y"
   ]
  },
  {
   "cell_type": "markdown",
   "id": "968eb935-f2e5-4f39-b5f8-a4c83ce371c7",
   "metadata": {},
   "source": [
    "What if x has 4 dimensions?  Will it still broadcast?\n",
    "\n",
    "- x has dim: `4, 3`\n",
    "- y has dim: `2, 3`"
   ]
  },
  {
   "cell_type": "code",
   "execution_count": null,
   "id": "888e21c0-a5a6-4ce2-9166-7022d2d8485c",
   "metadata": {},
   "outputs": [],
   "source": [
    "x = torch.tensor([[1, 2, 3],\n",
    "                  [4, 5, 6],\n",
    "                  [7, 6, 5],\n",
    "                  [4, 3, 2]])\n",
    "y = torch.tensor([[2, 3, 4],\n",
    "                  [5, 6, 7]])\n",
    "# THIS DOES NOT WORK: x * y\n",
    "# ERROR: The size of tensor a (4) must match the size of tensor b (2) at non-singleton dimension 0"
   ]
  },
  {
   "cell_type": "markdown",
   "id": "9b98a4c8-7567-452b-b1ca-a7bd8458da9b",
   "metadata": {},
   "source": [
    "This means: this will not work, we need to make sure that either the dimension is missing or the dimension is 1 for broadcasting to work."
   ]
  },
  {
   "cell_type": "markdown",
   "id": "bffed780-51d1-4983-a76d-3dd5cf9d9a90",
   "metadata": {},
   "source": [
    "## Broadcasting - more dimensions"
   ]
  },
  {
   "cell_type": "markdown",
   "id": "582bd127-1111-4edd-a501-07664199c04f",
   "metadata": {},
   "source": [
    "What if we have two tensors with more than 2 dimentions?"
   ]
  },
  {
   "cell_type": "code",
   "execution_count": null,
   "id": "d3d9811e-64ba-44f0-9d8b-c672b702d75b",
   "metadata": {},
   "outputs": [],
   "source": [
    "x = torch.tensor([[[1, 2, 3],\n",
    "                  [4, 5, 6]],\n",
    "                 [[7, 6, 5],\n",
    "                  [4, 3, 2]],\n",
    "                 [[2, 3, 4],\n",
    "                  [5, 6, 7]],\n",
    "                 [[6, 5, 4],\n",
    "                  [3, 2, 1]]])\n",
    "y = torch.tensor([2, 3, 4])"
   ]
  },
  {
   "cell_type": "code",
   "execution_count": null,
   "id": "428a20e5-601a-45be-8d40-50526b2bb723",
   "metadata": {},
   "outputs": [
    {
     "data": {
      "text/plain": [
       "(torch.Size([4, 2, 3]), torch.Size([3]))"
      ]
     },
     "execution_count": null,
     "metadata": {},
     "output_type": "execute_result"
    }
   ],
   "source": [
    "x.shape, y.shape"
   ]
  },
  {
   "cell_type": "markdown",
   "id": "b83b56de-ccb3-4243-9dc6-9917239b440c",
   "metadata": {},
   "source": [
    "What happens if we multiply this ($4 \\times 2 \\times 3$) by ($3$):\n",
    "\n",
    "- x has dim: `4, 2, 3`\n",
    "- y has dim: `      3`"
   ]
  },
  {
   "cell_type": "code",
   "execution_count": null,
   "id": "afcce617-a0bb-4efa-b691-fe0f8f9ac8d5",
   "metadata": {},
   "outputs": [
    {
     "data": {
      "text/plain": [
       "tensor([[[ 2,  6, 12],\n",
       "         [ 8, 15, 24]],\n",
       "\n",
       "        [[14, 18, 20],\n",
       "         [ 8,  9,  8]],\n",
       "\n",
       "        [[ 4,  9, 16],\n",
       "         [10, 18, 28]],\n",
       "\n",
       "        [[12, 15, 16],\n",
       "         [ 6,  6,  4]]])"
      ]
     },
     "execution_count": null,
     "metadata": {},
     "output_type": "execute_result"
    }
   ],
   "source": [
    "z = x * y\n",
    "z"
   ]
  },
  {
   "cell_type": "code",
   "execution_count": null,
   "id": "855032cf-eec5-46dc-b1f8-ed63c1c55874",
   "metadata": {},
   "outputs": [
    {
     "data": {
      "text/plain": [
       "torch.Size([4, 2, 3])"
      ]
     },
     "execution_count": null,
     "metadata": {},
     "output_type": "execute_result"
    }
   ],
   "source": [
    "z.shape"
   ]
  },
  {
   "cell_type": "code",
   "execution_count": null,
   "id": "352c8725-72a9-475d-98a8-08b588aafb05",
   "metadata": {},
   "outputs": [
    {
     "data": {
      "text/plain": [
       "True"
      ]
     },
     "execution_count": null,
     "metadata": {},
     "output_type": "execute_result"
    }
   ],
   "source": [
    "y = torch.tensor([[2,3,4]])\n",
    "z2 = x * y\n",
    "torch.allclose(z, z2)"
   ]
  },
  {
   "cell_type": "markdown",
   "id": "49bf5820-8138-417c-a345-88775f7a327f",
   "metadata": {},
   "source": [
    "This last result means that when:\n",
    "\n",
    "- x has dim: `4, 2, 3`\n",
    "- y has dim: `   1, 3`\n",
    "\n",
    "the result is exactly the same.\n",
    "\n",
    "Let's try have a broadcast dimension of 1 in both tensors:"
   ]
  },
  {
   "cell_type": "code",
   "execution_count": null,
   "id": "5e74027f-d59b-4b91-884d-9bd8d5de7a24",
   "metadata": {},
   "outputs": [],
   "source": [
    "x = torch.tensor([\n",
    "                 [[1, 2, 3]],\n",
    "                 [[7, 6, 5]],\n",
    "                 [[2, 3, 4]],\n",
    "                 [[6, 5, 4]]\n",
    "                ])\n",
    "y = torch.tensor([[2, 1, 4],\n",
    "                  [1, 3, 5],\n",
    "                  [1, 2, 3]])"
   ]
  },
  {
   "cell_type": "markdown",
   "id": "67ec5842-9461-41fc-a2a7-338e80f6a126",
   "metadata": {},
   "source": [
    "Now: \n",
    "    \n",
    "- x has dim: `4, 1, 3`\n",
    "- y has dim: `   3, 3`\n",
    "\n",
    "So the result must be $4 \\times 3 \\times 3$"
   ]
  },
  {
   "cell_type": "code",
   "execution_count": null,
   "id": "5a79c98e-08ce-4193-88d0-e2d1966a1f2f",
   "metadata": {},
   "outputs": [
    {
     "data": {
      "text/plain": [
       "tensor([[[ 2,  2, 12],\n",
       "         [ 1,  6, 15],\n",
       "         [ 1,  4,  9]],\n",
       "\n",
       "        [[14,  6, 20],\n",
       "         [ 7, 18, 25],\n",
       "         [ 7, 12, 15]],\n",
       "\n",
       "        [[ 4,  3, 16],\n",
       "         [ 2,  9, 20],\n",
       "         [ 2,  6, 12]],\n",
       "\n",
       "        [[12,  5, 16],\n",
       "         [ 6, 15, 20],\n",
       "         [ 6, 10, 12]]])"
      ]
     },
     "execution_count": null,
     "metadata": {},
     "output_type": "execute_result"
    }
   ],
   "source": [
    "x * y"
   ]
  },
  {
   "cell_type": "markdown",
   "id": "3dbe04e2-79c8-49e4-9a0f-851474a3c254",
   "metadata": {},
   "source": [
    "How did we get here?\n",
    "\n",
    "The last dimension for x and y is equal, so we multiplied element wise the most inner elements.  However, along dimension with index 1, y has 3 times 3 numbers and x only has 1, so we need to broadcast x here and use `[1,2,3]` 3 times to match up with y.  So to match the shape with y, the dimension fo x with index 1 will first be duplicated 3 times:"
   ]
  },
  {
   "cell_type": "code",
   "execution_count": null,
   "id": "be208bb7-b988-4d61-9cda-cfbe0a332dc2",
   "metadata": {},
   "outputs": [],
   "source": [
    "x2 = torch.tensor([\n",
    "                 [[1, 2, 3],\n",
    "                  [1, 2, 3],\n",
    "                  [1, 2, 3]],\n",
    "    \n",
    "                 [[7, 6, 5],\n",
    "                  [7, 6, 5],\n",
    "                  [7, 6, 5]],\n",
    "    \n",
    "                 [[2, 3, 4],\n",
    "                  [2, 3, 4],\n",
    "                  [2, 3, 4]],\n",
    "    \n",
    "                 [[6, 5, 4],\n",
    "                  [6, 5, 4],\n",
    "                  [6, 5, 4]]\n",
    "                ])\n",
    "y2 = torch.tensor([[2, 1, 4],\n",
    "                  [1, 3, 5],\n",
    "                  [1, 2, 3]])"
   ]
  },
  {
   "cell_type": "markdown",
   "id": "525f4f8d-e143-4765-bfd0-53a1e30833dd",
   "metadata": {},
   "source": [
    "Now, they have dimensions:\n",
    "\n",
    "- x has dim: `4, 3, 3`\n",
    "- y has dim: `   3, 3`\n",
    "\n",
    "To completely match up, y will need to be repeated 4 times:"
   ]
  },
  {
   "cell_type": "code",
   "execution_count": null,
   "id": "d87b59fb-0444-4cfa-b820-fd566985615f",
   "metadata": {},
   "outputs": [],
   "source": [
    "y2 = torch.tensor([\n",
    "                   [[2, 1, 4],\n",
    "                    [1, 3, 5],\n",
    "                    [1, 2, 3]],\n",
    "    \n",
    "                    [[2, 1, 4],\n",
    "                     [1, 3, 5],\n",
    "                     [1, 2, 3]],\n",
    "    \n",
    "                    [[2, 1, 4],\n",
    "                     [1, 3, 5],\n",
    "                     [1, 2, 3]],\n",
    "    \n",
    "                    [[2, 1, 4],\n",
    "                     [1, 3, 5],\n",
    "                     [1, 2, 3]],\n",
    "                 ])"
   ]
  },
  {
   "cell_type": "code",
   "execution_count": null,
   "id": "630fe403-0831-4aa6-b03b-4ff462db0467",
   "metadata": {},
   "outputs": [
    {
     "data": {
      "text/plain": [
       "tensor([[[ 2,  2, 12],\n",
       "         [ 1,  6, 15],\n",
       "         [ 1,  4,  9]],\n",
       "\n",
       "        [[14,  6, 20],\n",
       "         [ 7, 18, 25],\n",
       "         [ 7, 12, 15]],\n",
       "\n",
       "        [[ 4,  3, 16],\n",
       "         [ 2,  9, 20],\n",
       "         [ 2,  6, 12]],\n",
       "\n",
       "        [[12,  5, 16],\n",
       "         [ 6, 15, 20],\n",
       "         [ 6, 10, 12]]])"
      ]
     },
     "execution_count": null,
     "metadata": {},
     "output_type": "execute_result"
    }
   ],
   "source": [
    "x2 * y2"
   ]
  },
  {
   "cell_type": "code",
   "execution_count": null,
   "id": "044d8be4-63b2-43ca-982d-e8b60acb71d4",
   "metadata": {},
   "outputs": [],
   "source": []
  }
 ],
 "metadata": {
  "kernelspec": {
   "display_name": "python3",
   "language": "python",
   "name": "python3"
  }
 },
 "nbformat": 4,
 "nbformat_minor": 5
}
